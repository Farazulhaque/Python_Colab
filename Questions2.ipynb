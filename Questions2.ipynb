{
  "nbformat": 4,
  "nbformat_minor": 0,
  "metadata": {
    "colab": {
      "name": "Questions2.ipynb",
      "provenance": [],
      "collapsed_sections": [],
      "authorship_tag": "ABX9TyM5mc4/CYqtAtBXr2V4joFA",
      "include_colab_link": true
    },
    "kernelspec": {
      "name": "python3",
      "display_name": "Python 3"
    },
    "language_info": {
      "name": "python"
    }
  },
  "cells": [
    {
      "cell_type": "markdown",
      "metadata": {
        "id": "view-in-github",
        "colab_type": "text"
      },
      "source": [
        "<a href=\"https://colab.research.google.com/github/Farazulhaque/Python_Colab/blob/main/Questions2.ipynb\" target=\"_parent\"><img src=\"https://colab.research.google.com/assets/colab-badge.svg\" alt=\"Open In Colab\"/></a>"
      ]
    },
    {
      "cell_type": "code",
      "metadata": {
        "colab": {
          "base_uri": "https://localhost:8080/"
        },
        "id": "wGSixCG8Awdj",
        "outputId": "3b38ff40-bf8a-40de-c3b7-3d1232138a99"
      },
      "source": [
        "fah = [89.8, 67.0, 92, 99]\n",
        "count = 0\n",
        "cen = []\n",
        "for i in fah:\n",
        "    ce = ((i - 32) * 5 / 9)\n",
        "    cen.append(round(ce,2))\n",
        "\n",
        "print(cen)"
      ],
      "execution_count": null,
      "outputs": [
        {
          "output_type": "stream",
          "name": "stdout",
          "text": [
            "[32.11, 19.44, 33.33, 37.22]\n"
          ]
        }
      ]
    },
    {
      "cell_type": "code",
      "metadata": {
        "id": "7optqduG_Cge",
        "colab": {
          "base_uri": "https://localhost:8080/"
        },
        "outputId": "444ebd63-108e-48fd-9a3f-b25cebdb4322"
      },
      "source": [
        "items = [23, 555, 666, 123, 128, 4242, 990]\n",
        "summa = 0\n",
        "n = 0\n",
        "while n < len(items):\n",
        "    num = items[n]\n",
        "    if num % 2 != 0:\n",
        "        summa += num\n",
        "    n += 1\n",
        "print(summa)"
      ],
      "execution_count": null,
      "outputs": [
        {
          "output_type": "stream",
          "name": "stdout",
          "text": [
            "701\n"
          ]
        }
      ]
    },
    {
      "cell_type": "code",
      "metadata": {
        "id": "3gtJJXkkGqhp",
        "colab": {
          "base_uri": "https://localhost:8080/"
        },
        "outputId": "80ab4a89-c65f-4dc7-bec6-ae0e6280fbea"
      },
      "source": [
        "# Loop 5 times\n",
        "# start from 1 and and at 6-1=5\n",
        "for i in range(1,6):\n",
        "    # to calculate total\n",
        "    sum = 0\n",
        "    # loop 3 times\n",
        "    for j in range(1,4):\n",
        "        print(f\"Enter group {i} member {j} weight:\")\n",
        "        weight = int(input(\"Weight in kg: \"))\n",
        "        # add weight to sum\n",
        "        sum += weight\n",
        "    # calculate average\n",
        "    avg = sum / 3\n",
        "    if avg > 100:\n",
        "        print(\"Some or all members of this group are overweight, need to exercise!\\n\")\n",
        "    else:\n",
        "        print(\"Some or all members of this group are healthy, Great job!\\n\")"
      ],
      "execution_count": null,
      "outputs": [
        {
          "output_type": "stream",
          "name": "stdout",
          "text": [
            "Enter group 1 member 1 weight:\n",
            "Weight in kg: 90\n",
            "Enter group 1 member 2 weight:\n",
            "Weight in kg: 80\n",
            "Enter group 1 member 3 weight:\n",
            "Weight in kg: 25\n",
            "Some or all members of this group are healthy, Great job!\n",
            "\n",
            "Enter group 2 member 1 weight:\n",
            "Weight in kg: 75\n",
            "Enter group 2 member 2 weight:\n",
            "Weight in kg: 105\n",
            "Enter group 2 member 3 weight:\n",
            "Weight in kg: 98\n",
            "Some or all members of this group are healthy, Great job!\n",
            "\n",
            "Enter group 3 member 1 weight:\n",
            "Weight in kg: 50\n",
            "Enter group 3 member 2 weight:\n",
            "Weight in kg: 45\n",
            "Enter group 3 member 3 weight:\n",
            "Weight in kg: 60\n",
            "Some or all members of this group are healthy, Great job!\n",
            "\n",
            "Enter group 4 member 1 weight:\n",
            "Weight in kg: 105\n",
            "Enter group 4 member 2 weight:\n",
            "Weight in kg: 110\n",
            "Enter group 4 member 3 weight:\n",
            "Weight in kg: 95\n",
            "Some or all members of this group are overweight, need to exercise!\n",
            "\n",
            "Enter group 5 member 1 weight:\n",
            "Weight in kg: 85\n",
            "Enter group 5 member 2 weight:\n",
            "Weight in kg: 95\n",
            "Enter group 5 member 3 weight:\n",
            "Weight in kg: 150\n",
            "Some or all members of this group are overweight, need to exercise!\n",
            "\n"
          ]
        }
      ]
    },
    {
      "cell_type": "code",
      "metadata": {
        "id": "WFDoTMWORwNq",
        "colab": {
          "base_uri": "https://localhost:8080/"
        },
        "outputId": "0563770b-fad6-4d6c-ec90-37e8455a933d"
      },
      "source": [
        "def cal_value(n1, n2, n3):\n",
        "    # check if number is less than both\n",
        "    # two remaining numbers\n",
        "    if n1 < n2 and n1 < n3:\n",
        "        product = n2 * n3\n",
        "    elif n2 < n1 and n2 < n3:\n",
        "        product = n1 * n3\n",
        "    else:\n",
        "        product = n1 * n2\n",
        "    # return value\n",
        "    return product\n",
        "\n",
        "\n",
        "print(\"1.\", cal_value(1, 2, 3))\n",
        "print(\"2.\", cal_value(11, 12, 3))\n",
        "print(\"3.\", cal_value(6, 2, 5))\n"
      ],
      "execution_count": null,
      "outputs": [
        {
          "output_type": "stream",
          "name": "stdout",
          "text": [
            "1. 6\n",
            "2. 132\n",
            "3. 30\n"
          ]
        }
      ]
    },
    {
      "cell_type": "code",
      "metadata": {
        "id": "v850t_ARgGCd",
        "colab": {
          "base_uri": "https://localhost:8080/"
        },
        "outputId": "ffbc7e3a-9426-4c1d-a557-a27e57e00f21"
      },
      "source": [
        "Num1 = 2\n",
        "Num2 = 6\n",
        "Num3 = 3\n",
        "Num4 = 12\n",
        "Num5 = 16\n",
        "\n",
        "Largest = Num1\n",
        "if Largest < Num2:\n",
        "  Largest = Num2\n",
        "print(\"Largest# after Step2\", Largest)\n",
        "if Largest < Num3:\n",
        "  Largest = Num3\n",
        "print(\"Largest# after Step3\", Largest)\n",
        "if Largest < Num4:\n",
        "  Largest = Num4\n",
        "print(\"Largest# after Step4\", Largest)\n",
        "if Largest < Num5:\n",
        "  Largest = Num5\n",
        "print(\"Largest# after Step5\", Largest)\n",
        "print(\"The largest number is\", Largest)\n"
      ],
      "execution_count": null,
      "outputs": [
        {
          "output_type": "stream",
          "name": "stdout",
          "text": [
            "Largest# after Step2 6\n",
            "Largest# after Step3 6\n",
            "Largest# after Step4 12\n",
            "Largest# after Step5 16\n",
            "The largest number is 16\n"
          ]
        }
      ]
    },
    {
      "cell_type": "code",
      "metadata": {
        "id": "HIqv3szIYaaS",
        "colab": {
          "base_uri": "https://localhost:8080/"
        },
        "outputId": "5da9933f-7827-4828-8812-d592744918e2"
      },
      "source": [
        "a = [2, 4, 6]\n",
        "b = [-1, 0, 1]\n",
        "\n",
        "# a + b\n",
        "sumab = []\n",
        "\n",
        "# 1.5a - 2b\n",
        "diffab = []\n",
        "\n",
        "# 0.5ab\n",
        "halfab = []\n",
        "\n",
        "for i in range(len(a)):\n",
        "  sumab.append(a[i] + b[i])\n",
        "  diffab.append(1.5*a[i] - 2*b[i])\n",
        "  halfab.append(0.5 * a[i] * b[i])\n",
        "\n",
        "\n",
        "print(f\"a + b = {sumab}\")\n",
        "print(f\"1.5a - 2b = {diffab}\")\n",
        "print(f\"0.5ab = {halfab}\")\n"
      ],
      "execution_count": null,
      "outputs": [
        {
          "output_type": "stream",
          "name": "stdout",
          "text": [
            "a + b = [1, 4, 7]\n",
            "1.5a - 2b = [5.0, 6.0, 7.0]\n",
            "0.5ab = [-1.0, 0.0, 3.0]\n"
          ]
        }
      ]
    },
    {
      "cell_type": "code",
      "metadata": {
        "colab": {
          "base_uri": "https://localhost:8080/"
        },
        "id": "DRfuzOiYkamP",
        "outputId": "ccb24f7c-ce0d-4d6d-9e8b-9704ab7fb11c"
      },
      "source": [
        "import math\n",
        "π = round(math.pi,2)\n",
        "angles = [\"0\", \"π/2\", \"π\", \"3*π/2\", \"2*π\"]\n",
        "\n",
        "for angle in angles:\n",
        "  print(f\"sin({angle}) = {round(math.sin(eval(angle)))}\")\n",
        "  print(f\"cosine({angle}) = {round(math.cos(eval(angle)))}\")\n",
        "  print(f\"Angle in degree = {eval(angle) * 180 / π}\")\n"
      ],
      "execution_count": null,
      "outputs": [
        {
          "output_type": "stream",
          "name": "stdout",
          "text": [
            "sin(0) = 0\n",
            "cosine(0) = 1\n",
            "Angle in degree = 0.0\n",
            "sin(π/2) = 1\n",
            "cosine(π/2) = 0\n",
            "Angle in degree = 90.0\n",
            "sin(π) = 0\n",
            "cosine(π) = -1\n",
            "Angle in degree = 180.0\n",
            "sin(3*π/2) = -1\n",
            "cosine(3*π/2) = 0\n",
            "Angle in degree = 270.0\n",
            "sin(2*π) = 0\n",
            "cosine(2*π) = 1\n",
            "Angle in degree = 360.0\n"
          ]
        }
      ]
    },
    {
      "cell_type": "code",
      "metadata": {
        "colab": {
          "base_uri": "https://localhost:8080/"
        },
        "id": "ZQGijE4UyeZ-",
        "outputId": "5215e82c-3b3e-4268-8301-97d25eb7139b"
      },
      "source": [
        "# Getting user input\n",
        "A = float(input(\"Enter a deposit amount: \"))\n",
        "W = float(input(\"Enter interest rate: \"))\n",
        "N = int(input(\"Enter period: \"))\n",
        "# initialise values to 0, Use it in later part\n",
        "totalDeposits = 0\n",
        "totalInterest = 0\n",
        "toDate = 0\n",
        "print(\n",
        "    f\"\\nTHE OF INTEREST MADE BY AN INVESTMENT OF ${A} EVERY MONTH AT AN INTEREST RATE OF {W}% FOR {N} MONTHS\\n\")\n",
        "# printing header\n",
        "print(\"%5s %15s %20s %25s %25s\" % (\"Month\", \"Deposit\", \"Total Deposits\",\n",
        "      \"This Month's interest\", \"Total-Interest Earned\"))\n",
        "print(\"%27s\" % (\"Total-Value To-Date\"))\n",
        "# printing data\n",
        "for month in range(1, N+1):\n",
        "    # As per formula calculate amount of money accumulated after N months\n",
        "    F = A*(1+W/1200)**month\n",
        "    # Add amount to total deposit on each iteration\n",
        "    totalDeposits += A\n",
        "    # Add F to todate value on each iteration\n",
        "    toDate += F\n",
        "    # calculae interest\n",
        "    interest = F - A\n",
        "    # calculate total interest\n",
        "    totalInterest += interest\n",
        "    # printing data\n",
        "    print(\"%5s %15s %15s %15s %25s\" % (\"{0:.2f}\".format(\n",
        "        month), A, totalDeposits, \"{0:.2f}\".format(interest), \"{0:.2f}\".format(totalInterest)))\n",
        "    print(\"%20s\" % (\"{0:.2f}\".format(toDate)))\n"
      ],
      "execution_count": null,
      "outputs": [
        {
          "output_type": "stream",
          "name": "stdout",
          "text": [
            "Enter a deposit amount: 100\n",
            "Enter interest rate: 12\n",
            "Enter period: 5\n",
            "\n",
            "THE OF INTEREST MADE BY AN INVESTMENT OF $100.0 EVERY MONTH AT AN INTEREST RATE OF 12.0% FOR 5 MONTHS\n",
            "\n",
            "Month         Deposit       Total Deposits     This Month's interest     Total-Interest Earned\n",
            "        Total-Value To-Date\n",
            " 1.00           100.0           100.0            1.00                      1.00\n",
            "              101.00\n",
            " 2.00           100.0           200.0            2.01                      3.01\n",
            "              203.01\n",
            " 3.00           100.0           300.0            3.03                      6.04\n",
            "              306.04\n",
            " 4.00           100.0           400.0            4.06                     10.10\n",
            "              410.10\n",
            " 5.00           100.0           500.0            5.10                     15.20\n",
            "              515.20\n"
          ]
        }
      ]
    },
    {
      "cell_type": "code",
      "metadata": {
        "id": "ZdpLq4Cr652Y",
        "colab": {
          "base_uri": "https://localhost:8080/",
          "height": 120
        },
        "outputId": "6b6255ef-5b11-466b-8a11-52ac3205b4e7"
      },
      "source": [
        "%matplotlib inline\n",
        "from matplotlib import pyplot as plt\n",
        "\n",
        "import numpy as np\n",
        "\n",
        "im_test = np.zeros([100, 100, 3], np.uint8)\n",
        "\n",
        "im_test_red = im_test.copy()\n",
        "im_test_red[:, :, 0] = 255\n",
        "\n",
        "im_test_green = im_test.copy()\n",
        "im_test_green[:, :, 1] = 255\n",
        "\n",
        "im_test_blue = im_test.copy()\n",
        "im_test_blue[:, :, 2] = 255\n",
        "\n",
        "plt.subplot(1, 4, 1); plt.imshow(im_test); plt.axis('off'); plt.title('image black')\n",
        "plt.subplot(1, 4, 2); plt.imshow(im_test_red); plt.axis('off'); plt.title('image red')\n",
        "plt.subplot(1, 4, 3); plt.imshow(im_test_green); plt.axis('off'); plt.title('image green')\n",
        "plt.subplot(1, 4, 4); plt.imshow(im_test_blue); plt.axis('off'); plt.title('image blue')\n",
        "\n",
        "\n",
        "plt.show()"
      ],
      "execution_count": null,
      "outputs": [
        {
          "output_type": "display_data",
          "data": {
            "image/png": "[encoded data removed]",
            "text/plain": [
              "<Figure size 432x288 with 4 Axes>"
            ]
          },
          "metadata": {
            "needs_background": "light"
          }
        }
      ]
    },
    {
      "cell_type": "code",
      "metadata": {
        "id": "uvDsy0KePMCW",
        "colab": {
          "base_uri": "https://localhost:8080/"
        },
        "outputId": "ec2ce591-2d28-404a-b17b-48b08faacdc1"
      },
      "source": [
        "nums1 = [4, 9, 5]\n",
        "nums2 = [9, 4, 9, 8, 4]\n",
        "\n",
        "# create empty list to store intersection elements\n",
        "intersection = []\n",
        "\n",
        "# loop in nums1 array\n",
        "for num in nums1:\n",
        "    # check if number of \n",
        "    # first array is in second array\n",
        "    if num in nums2:\n",
        "        # then append it into intersection array \n",
        "        intersection.append(num)\n",
        "\n",
        "# store unique elements. set() function removed duplicates elements\n",
        "# from an array and then convert it into list\n",
        "intersection = list(set(intersection))\n",
        "# print it\n",
        "print(f\"Input: nums1 = {nums1}, nums2 = {nums2}\")\n",
        "print(f\"Output: {intersection}\")"
      ],
      "execution_count": null,
      "outputs": [
        {
          "output_type": "stream",
          "name": "stdout",
          "text": [
            "Input: nums1 = [4, 9, 5], nums2 = [9, 4, 9, 8, 4]\n",
            "Output: [9, 4]\n"
          ]
        }
      ]
    },
    {
      "cell_type": "code",
      "metadata": {
        "id": "IvM0k70sPaG5"
      },
      "source": [
        "def encrypt(string):\n",
        "    words = string.split()\n",
        "    encryptedString = \"\"\n",
        "    for word in words:\n",
        "        encryptedString += word[0]\n",
        "    return encryptedString\n"
      ],
      "execution_count": null,
      "outputs": []
    },
    {
      "cell_type": "code",
      "metadata": {
        "id": "u16Sn0aoTp1G",
        "colab": {
          "base_uri": "https://localhost:8080/"
        },
        "outputId": "34147cf4-b4d0-48a7-aaf4-9979d9b42469"
      },
      "source": [
        "#Start\n",
        "\n",
        "#Get Users Input for Initial Deposit\n",
        "P = float(input('Enter the Initial Deposit : $ '))\n",
        "\n",
        "while P != 0:\n",
        "    #Get Initial Deposit Date\n",
        "    from datetime import datetime\n",
        "    date1 = str(input('Enter date(YYYY-MM-DD): ')) #date\n",
        "    initial_date = datetime.strptime(date1, \"%Y-%m-%d\") #initial date\n",
        "\n",
        "    #if-elif-else statements for interest rate\n",
        "    if P <= 100: # Initial deposit of $100.00 and below receives interest rate (r) of 2%\n",
        "        r = '2'\n",
        "    elif P <= 500: # Initial deposit over $100.00 to $500.00 receives interest rate (r) of 3%\n",
        "        r = '3'\n",
        "    elif P <= 1000: # Initial deposit of over $500.00 up to $1,000.00 receives interest rate (r) of 5%\n",
        "        r = '5'\n",
        "    else: # Initial deposit over $1000.00 receives an interest rate (r) of 6%\n",
        "        r = '6'\n",
        "\n",
        "    # Convert to interest rate P\n",
        "    i = float(r) / 100 # r is set to float data type to perform floating-point division\n",
        "\n",
        "    n = '12' #Number of times compounded\n",
        "    t = '5' #Accounts duration\n",
        "\n",
        "    # Calculate amount\n",
        "    A = P*((1+float(i)/int(n))**(int(n)*int(t)))\n",
        "\n",
        "    maturity_date = initial_date.replace(year = initial_date.year + 5) #adding 5 years\n",
        "\n",
        "    # output\n",
        "    print('\\nInitial Deposit: ${:.2f}'.format(P),'\\nDeposit Date: ' , initial_date, '\\nAnnual Interest rate: ',r, '%','\\nAmount after', t,\n",
        "    'years :', '${:,.2f}'.format(A),'\\nMaturity Date:' , maturity_date)\n",
        "\n",
        "\n",
        "    #Get Users Input for Initial Deposit\n",
        "    P = float(input('Enter the Initial Deposit : $ '))\n",
        "\n",
        "# end of program"
      ],
      "execution_count": null,
      "outputs": [
        {
          "name": "stdout",
          "output_type": "stream",
          "text": [
            "Enter the Initial Deposit : $ 200\n",
            "Enter date(YYYY-MM-DD): 2020-05-15\n",
            "\n",
            "Initial Deposit: $200.00 \n",
            "Deposit Date:  2020-05-15 00:00:00 \n",
            "Annual Interest rate:  3 % \n",
            "Amount after 5 years : $232.32 \n",
            "Maturity Date: 2025-05-15 00:00:00\n",
            "Enter the Initial Deposit : $ 500\n",
            "Enter date(YYYY-MM-DD): 2020-11-23\n",
            "\n",
            "Initial Deposit: $500.00 \n",
            "Deposit Date:  2020-11-23 00:00:00 \n",
            "Annual Interest rate:  3 % \n",
            "Amount after 5 years : $580.81 \n",
            "Maturity Date: 2025-11-23 00:00:00\n",
            "Enter the Initial Deposit : $ 1000\n",
            "Enter date(YYYY-MM-DD): 2020-06-15\n",
            "\n",
            "Initial Deposit: $1000.00 \n",
            "Deposit Date:  2020-06-15 00:00:00 \n",
            "Annual Interest rate:  5 % \n",
            "Amount after 5 years : $1,283.36 \n",
            "Maturity Date: 2025-06-15 00:00:00\n",
            "Enter the Initial Deposit : $ 1500\n",
            "Enter date(YYYY-MM-DD): 2020-10-10\n",
            "\n",
            "Initial Deposit: $1500.00 \n",
            "Deposit Date:  2020-10-10 00:00:00 \n",
            "Annual Interest rate:  6 % \n",
            "Amount after 5 years : $2,023.28 \n",
            "Maturity Date: 2025-10-10 00:00:00\n",
            "Enter the Initial Deposit : $ 0\n"
          ]
        }
      ]
    },
    {
      "cell_type": "code",
      "metadata": {
        "colab": {
          "base_uri": "https://localhost:8080/"
        },
        "id": "HwTSj1HUaNER",
        "outputId": "85a8b7bd-5dd8-4503-fb86-e683a021340c"
      },
      "source": [
        "# Taking input\n",
        "pizza = int(input(\"How many amount you want to sell Pizza?: \"))\n",
        "bread = int(input(\"How many amount you want to sell Bread?: \"))\n",
        "cookies = int(input(\"How many amount you want to sell Cookies?: \"))\n",
        "\n",
        "# initializing items\n",
        "flour = 0\n",
        "yeast = 0\n",
        "sugar = 0\n",
        "salt = 0\n",
        "oil = 0\n",
        "butter = 0\n",
        "eggs = 0\n",
        "\n",
        "# To calculate total ingredients required for pizza\n",
        "for i in range(pizza):\n",
        "    flour += 2\n",
        "    yeast += 1\n",
        "    sugar += 1.5\n",
        "    salt += 3/4\n",
        "    oil += 1/4\n",
        "\n",
        "# To calculate total ingredients required for bread\n",
        "for i in range(bread):\n",
        "    flour += 6\n",
        "    yeast += 1.5\n",
        "    sugar += 16/2        # since 1 cup sugar = 16 Tbsp. sugar \n",
        "    salt += 1.5\n",
        "    oil += 1/4\n",
        "\n",
        "# To calculate total ingredients required for cookies\n",
        "for i in range(cookies):\n",
        "    flour += 8\n",
        "    sugar += 2*16\n",
        "    butter += 2.5\n",
        "    eggs += 2\n",
        "\n",
        "# Printing output\n",
        "print(\"\\nTotal ingredients need to be ordered are: \")\n",
        "print(f\"%-10s:  {flour} cups\" %(\"Flour\"))\n",
        "print(f\"%-10s:  {yeast} packets\" %(\"Yeast\"))\n",
        "print(f\"%-10s:  %s Tbsp\" %(\"Sugar\", \"{0:.1f}\".format(sugar/16)))\n",
        "print(f\"%-10s:  {salt} Tbsp\" %(\"Salt\"))\n",
        "print(f\"%-10s:  {oil} cups\" %(\"Oil\"))\n",
        "print(f\"%-10s:  {butter} cups\" %(\"Butter\"))\n",
        "print(f\"%-10s:  {eggs} Eggs\" %(\"Eggs\"))\n"
      ],
      "execution_count": null,
      "outputs": [
        {
          "output_type": "stream",
          "name": "stdout",
          "text": [
            "How many amount you want to sell Pizza?: 1\n",
            "How many amount you want to sell Bread?: 1\n",
            "How many amount you want to sell Cookies?: 1\n",
            "\n",
            "Total ingredients need to be ordered are: \n",
            "Flour     :  16 cups\n",
            "Yeast     :  2.5 packets\n",
            "Sugar     :  2.6 Tbsp\n",
            "Salt      :  2.25 Tbsp\n",
            "Oil       :  0.5 cups\n",
            "Butter    :  2.5 cups\n",
            "Eggs      :  2 Eggs\n"
          ]
        }
      ]
    },
    {
      "cell_type": "code",
      "metadata": {
        "id": "SQteRpJY4ga2",
        "colab": {
          "base_uri": "https://localhost:8080/",
          "height": 697
        },
        "outputId": "2b83fc84-300b-4114-f932-bbd4d8fc40a0"
      },
      "source": [
        "# os allows us to clear the screen in a actual console or terminal\n",
        "import os\n",
        "import random\n",
        "\n",
        "# Create objects for balances and transaction\n",
        "accounts = {'mhardy': {'Pin': 1234, 'Name': 'Max Bri', 'C': 100.00, 'S': 750.50}, 'toto22': {'Pin': 9999, 'Name': 'Toto Momo', 'C': 1.00, 'S': 25.50}}\n",
        "\n",
        "# Allow 3 invalid pin entries\n",
        "tries = 1\n",
        "pin_tries = 1\n",
        "max_tries = 3\n",
        "pin_found = False\n",
        "\n",
        "username = input('Welcome to Cactus Bank.  Please enter your username: ')\n",
        "\n",
        "if username not in accounts:\n",
        "    # nameFound == False:\n",
        "    print(f\"{username}, Didn't find your username.\")\n",
        "    ans = input(\"Do you want to create an account (Y/N)? \").lower()\n",
        "    # if len((ans) > 0) :\n",
        "    if ans[0] != 'y':\n",
        "        print('Thank you for visiting Catcus Bank.  Come back soon.')\n",
        "        tries = max_tries + 1\n",
        "    else:\n",
        "        # Adding a new username to a dictionary\n",
        "        accounts[username] = dict()\n",
        "        # while addAccount == False & pin_tries <= max_tries:\n",
        "        ans1 = int(input('Enter 1 to create a pin yourself or 2 and the system will create a pin for you: '))\n",
        "        # print(ans1)\n",
        "        if ans1 == 1:\n",
        "            while (pin_tries <= max_tries):\n",
        "                pin = int(input('Select a number between 1 and 9999 as your pin: '))\n",
        "                print(pin)\n",
        "                if 0 < pin < 1000:\n",
        "                    accounts[username] = pin  # might have to tweak\n",
        "                    pin_found = True\n",
        "                    pin_tries = max_tries + 1\n",
        "                else:\n",
        "                    print('Invalid pin entered.')\n",
        "                    pin_tries += 1\n",
        "                    if pin_tries > max_tries:\n",
        "                        print('Please try later ....')\n",
        "                        tries = max_tries + 1\n",
        "        elif ans1 == 2:\n",
        "            pin = random.randint(1, 9999)\n",
        "            print(\"Your pin is: \", pin)\n",
        "            accounts[username] = pin  # might have to tweak\n",
        "            tries = 1\n",
        "            pin_found = True\n",
        "        else:\n",
        "            print('Invalid option! Thank you for visiting Catcus Bank.  Come back soon.')\n",
        "            tries = max_tries + 1\n",
        "\n",
        "    # Prompt to ask for name and storing it in dictionary\n",
        "    accounts['Name'] = input('Please enter your name: ')\n",
        "\n",
        "    while True:\n",
        "        try:\n",
        "            # Prompt to ask the user for the amount of money they want to add in C account\n",
        "            accounts[username]['C'] = float(input('Enter the amount you will deposit to the checking account: '))\n",
        "            if float(accounts[username]['C']) <= 0.0:\n",
        "                raise TypeError\n",
        "        except ValueError:\n",
        "            print('Invalid number entered. The current balance will be 0.0')\n",
        "        except TypeError:\n",
        "            print('A negative number was entered. The current balance will be 0.0')\n",
        "        else:\n",
        "            if pin_found == True:\n",
        "                print(\"Please remember your pin.\")\n",
        "                print(\"The system will require you to enter it again.\")\n",
        "                input(\"Press Enter to continue...\")\n",
        "                os.system('clear')\n",
        "\n",
        "while tries <= max_tries:\n",
        "    # Print bank title and menu\n",
        "    print(f'{\"Cactus Bank\":^30}\\n')\n",
        "    selection = input('Enter pin or x to exit application: ').casefold()\n",
        "\n",
        "    # determine exit, pin not found, or correct pin found\n",
        "    if selection == 'x':\n",
        "        break\n",
        "    elif int(selection) != accounts[username]['Pin']:\n",
        "\n",
        "        # clear screen\n",
        "        os.system('clear')\n",
        "\n",
        "        print(f'Invalid pin. Attempt {tries} of {max_tries}. Please Try again')\n",
        "        if tries == max_tries:\n",
        "            print('Locked out!  Exiting program')\n",
        "        # increment tries\n",
        "        tries += 1\n",
        "    else:\n",
        "        # Upgrade: successful pin entry. reset tries and save pin\n",
        "        tries = 1\n",
        "        pin = selection\n",
        "\n",
        "        # clear screen\n",
        "        os.system('clear')\n",
        "\n",
        "        # Prints Welcome message\n",
        "        print('Welcome', accounts[username]['Name'])\n",
        "\n",
        "        # Prompt to check if user enters C or S\n",
        "        while True:\n",
        "            print('\\tSelect Account')\n",
        "            selection = input('Enter C or S for (C)heckings or (S)avings: ')\n",
        "            try:\n",
        "                if selection != 'C' and selection != 'S':\n",
        "                    raise ValueError('Incorrect Selection. You must enter C or S')\n",
        "            except ValueError as ex:\n",
        "                print(ex)\n",
        "            else:\n",
        "                os.system('clear')\n",
        "                print('Opening {selection} Account...\\n')\n",
        "                break\n",
        "\n",
        "        # Upgrade: Removed slicing and w/d entry - New Instructions\n",
        "        print('Transaction instructions:')\n",
        "        print(' - Withdrawal enter a negative dollar amount: -20.00.')\n",
        "        print(' - Deposit enter a positive dollar amount: 10.50')\n",
        "\n",
        "        if selection == 'C':\n",
        "            print(f\"\\nBalance:  ${accounts[username]['C']: .2f}\")\n",
        "        else:\n",
        "            print(f\"\\nBalance:  ${accounts[username]['S']: .2f}\")\n",
        "\n",
        "        amount = float()\n",
        "        try:\n",
        "            amount = float(input(f'Enter transaction amount: '))\n",
        "        except Exception:\n",
        "            print('Bad Amount - No Transaction.')\n",
        "            amount = 0.0\n",
        "\n",
        "        if (amount + accounts[username][selection]) >= 0:\n",
        "            accounts[username][selection] += amount\n",
        "            print(f\"Transaction complete. New balance is {accounts[username][selection]: .2f}\")\n",
        "        else:\n",
        "            print('Insufficient Funds. Transaction Cancelled.')\n",
        "\n",
        "# end of application loop"
      ],
      "execution_count": null,
      "outputs": [
        {
          "output_type": "stream",
          "name": "stdout",
          "text": [
            "Welcome to Cactus Bank.  Please enter your username: ddd2\n",
            "ddd2, Didn't find your username.\n",
            "Do you want to create an account (Y/N)? y\n",
            "Enter 1 to create a pin yourself or 2 and the system will create a pin for you: 2\n",
            "Your pin is:  4307\n",
            "Please enter your name: Mary Smith\n",
            "Enter the amount you will deposit to the checking account: 100\n",
            "A negative number was entered. The current balance will be 0.0\n",
            "Enter the amount you will deposit to the checking account: 100.0\n",
            "A negative number was entered. The current balance will be 0.0\n"
          ]
        },
        {
          "output_type": "error",
          "ename": "KeyboardInterrupt",
          "evalue": "ignored",
          "traceback": [
            "\u001b[0;31m---------------------------------------------------------------------------\u001b[0m",
            "\u001b[0;31mKeyboardInterrupt\u001b[0m                         Traceback (most recent call last)",
            "\u001b[0;32m/usr/local/lib/python3.7/dist-packages/ipykernel/kernelbase.py\u001b[0m in \u001b[0;36m_input_request\u001b[0;34m(self, prompt, ident, parent, password)\u001b[0m\n\u001b[1;32m    728\u001b[0m             \u001b[0;32mtry\u001b[0m\u001b[0;34m:\u001b[0m\u001b[0;34m\u001b[0m\u001b[0;34m\u001b[0m\u001b[0m\n\u001b[0;32m--> 729\u001b[0;31m                 \u001b[0mident\u001b[0m\u001b[0;34m,\u001b[0m \u001b[0mreply\u001b[0m \u001b[0;34m=\u001b[0m \u001b[0mself\u001b[0m\u001b[0;34m.\u001b[0m\u001b[0msession\u001b[0m\u001b[0;34m.\u001b[0m\u001b[0mrecv\u001b[0m\u001b[0;34m(\u001b[0m\u001b[0mself\u001b[0m\u001b[0;34m.\u001b[0m\u001b[0mstdin_socket\u001b[0m\u001b[0;34m,\u001b[0m \u001b[0;36m0\u001b[0m\u001b[0;34m)\u001b[0m\u001b[0;34m\u001b[0m\u001b[0;34m\u001b[0m\u001b[0m\n\u001b[0m\u001b[1;32m    730\u001b[0m             \u001b[0;32mexcept\u001b[0m \u001b[0mException\u001b[0m\u001b[0;34m:\u001b[0m\u001b[0;34m\u001b[0m\u001b[0;34m\u001b[0m\u001b[0m\n",
            "\u001b[0;32m/usr/local/lib/python3.7/dist-packages/jupyter_client/session.py\u001b[0m in \u001b[0;36mrecv\u001b[0;34m(self, socket, mode, content, copy)\u001b[0m\n\u001b[1;32m    802\u001b[0m         \u001b[0;32mtry\u001b[0m\u001b[0;34m:\u001b[0m\u001b[0;34m\u001b[0m\u001b[0;34m\u001b[0m\u001b[0m\n\u001b[0;32m--> 803\u001b[0;31m             \u001b[0mmsg_list\u001b[0m \u001b[0;34m=\u001b[0m \u001b[0msocket\u001b[0m\u001b[0;34m.\u001b[0m\u001b[0mrecv_multipart\u001b[0m\u001b[0;34m(\u001b[0m\u001b[0mmode\u001b[0m\u001b[0;34m,\u001b[0m \u001b[0mcopy\u001b[0m\u001b[0;34m=\u001b[0m\u001b[0mcopy\u001b[0m\u001b[0;34m)\u001b[0m\u001b[0;34m\u001b[0m\u001b[0;34m\u001b[0m\u001b[0m\n\u001b[0m\u001b[1;32m    804\u001b[0m         \u001b[0;32mexcept\u001b[0m \u001b[0mzmq\u001b[0m\u001b[0;34m.\u001b[0m\u001b[0mZMQError\u001b[0m \u001b[0;32mas\u001b[0m \u001b[0me\u001b[0m\u001b[0;34m:\u001b[0m\u001b[0;34m\u001b[0m\u001b[0;34m\u001b[0m\u001b[0m\n",
            "\u001b[0;32m/usr/local/lib/python3.7/dist-packages/zmq/sugar/socket.py\u001b[0m in \u001b[0;36mrecv_multipart\u001b[0;34m(self, flags, copy, track)\u001b[0m\n\u001b[1;32m    618\u001b[0m         \"\"\"\n\u001b[0;32m--> 619\u001b[0;31m         \u001b[0mparts\u001b[0m \u001b[0;34m=\u001b[0m \u001b[0;34m[\u001b[0m\u001b[0mself\u001b[0m\u001b[0;34m.\u001b[0m\u001b[0mrecv\u001b[0m\u001b[0;34m(\u001b[0m\u001b[0mflags\u001b[0m\u001b[0;34m,\u001b[0m \u001b[0mcopy\u001b[0m\u001b[0;34m=\u001b[0m\u001b[0mcopy\u001b[0m\u001b[0;34m,\u001b[0m \u001b[0mtrack\u001b[0m\u001b[0;34m=\u001b[0m\u001b[0mtrack\u001b[0m\u001b[0;34m)\u001b[0m\u001b[0;34m]\u001b[0m\u001b[0;34m\u001b[0m\u001b[0;34m\u001b[0m\u001b[0m\n\u001b[0m\u001b[1;32m    620\u001b[0m         \u001b[0;31m# have first part already, only loop while more to receive\u001b[0m\u001b[0;34m\u001b[0m\u001b[0;34m\u001b[0m\u001b[0;34m\u001b[0m\u001b[0m\n",
            "\u001b[0;32mzmq/backend/cython/socket.pyx\u001b[0m in \u001b[0;36mzmq.backend.cython.socket.Socket.recv\u001b[0;34m()\u001b[0m\n",
            "\u001b[0;32mzmq/backend/cython/socket.pyx\u001b[0m in \u001b[0;36mzmq.backend.cython.socket.Socket.recv\u001b[0;34m()\u001b[0m\n",
            "\u001b[0;32mzmq/backend/cython/socket.pyx\u001b[0m in \u001b[0;36mzmq.backend.cython.socket._recv_copy\u001b[0;34m()\u001b[0m\n",
            "\u001b[0;32m/usr/local/lib/python3.7/dist-packages/zmq/backend/cython/checkrc.pxd\u001b[0m in \u001b[0;36mzmq.backend.cython.checkrc._check_rc\u001b[0;34m()\u001b[0m\n",
            "\u001b[0;31mKeyboardInterrupt\u001b[0m: ",
            "\nDuring handling of the above exception, another exception occurred:\n",
            "\u001b[0;31mKeyboardInterrupt\u001b[0m                         Traceback (most recent call last)",
            "\u001b[0;32m<ipython-input-7-fe536735f6d2>\u001b[0m in \u001b[0;36m<module>\u001b[0;34m()\u001b[0m\n\u001b[1;32m     58\u001b[0m         \u001b[0;32mtry\u001b[0m\u001b[0;34m:\u001b[0m\u001b[0;34m\u001b[0m\u001b[0;34m\u001b[0m\u001b[0m\n\u001b[1;32m     59\u001b[0m             \u001b[0;31m# Prompt to ask the user for the amount of money they want to add in C account\u001b[0m\u001b[0;34m\u001b[0m\u001b[0;34m\u001b[0m\u001b[0;34m\u001b[0m\u001b[0m\n\u001b[0;32m---> 60\u001b[0;31m             \u001b[0maccounts\u001b[0m\u001b[0;34m[\u001b[0m\u001b[0musername\u001b[0m\u001b[0;34m]\u001b[0m\u001b[0;34m[\u001b[0m\u001b[0;34m'C'\u001b[0m\u001b[0;34m]\u001b[0m \u001b[0;34m=\u001b[0m \u001b[0mfloat\u001b[0m\u001b[0;34m(\u001b[0m\u001b[0minput\u001b[0m\u001b[0;34m(\u001b[0m\u001b[0;34m'Enter the amount you will deposit to the checking account: '\u001b[0m\u001b[0;34m)\u001b[0m\u001b[0;34m)\u001b[0m\u001b[0;34m\u001b[0m\u001b[0;34m\u001b[0m\u001b[0m\n\u001b[0m\u001b[1;32m     61\u001b[0m             \u001b[0;32mif\u001b[0m \u001b[0mfloat\u001b[0m\u001b[0;34m(\u001b[0m\u001b[0maccounts\u001b[0m\u001b[0;34m[\u001b[0m\u001b[0musername\u001b[0m\u001b[0;34m]\u001b[0m\u001b[0;34m[\u001b[0m\u001b[0;34m'C'\u001b[0m\u001b[0;34m]\u001b[0m\u001b[0;34m)\u001b[0m \u001b[0;34m<=\u001b[0m \u001b[0;36m0.0\u001b[0m\u001b[0;34m:\u001b[0m\u001b[0;34m\u001b[0m\u001b[0;34m\u001b[0m\u001b[0m\n\u001b[1;32m     62\u001b[0m                 \u001b[0;32mraise\u001b[0m \u001b[0mTypeError\u001b[0m\u001b[0;34m\u001b[0m\u001b[0;34m\u001b[0m\u001b[0m\n",
            "\u001b[0;32m/usr/local/lib/python3.7/dist-packages/ipykernel/kernelbase.py\u001b[0m in \u001b[0;36mraw_input\u001b[0;34m(self, prompt)\u001b[0m\n\u001b[1;32m    702\u001b[0m             \u001b[0mself\u001b[0m\u001b[0;34m.\u001b[0m\u001b[0m_parent_ident\u001b[0m\u001b[0;34m,\u001b[0m\u001b[0;34m\u001b[0m\u001b[0;34m\u001b[0m\u001b[0m\n\u001b[1;32m    703\u001b[0m             \u001b[0mself\u001b[0m\u001b[0;34m.\u001b[0m\u001b[0m_parent_header\u001b[0m\u001b[0;34m,\u001b[0m\u001b[0;34m\u001b[0m\u001b[0;34m\u001b[0m\u001b[0m\n\u001b[0;32m--> 704\u001b[0;31m             \u001b[0mpassword\u001b[0m\u001b[0;34m=\u001b[0m\u001b[0;32mFalse\u001b[0m\u001b[0;34m,\u001b[0m\u001b[0;34m\u001b[0m\u001b[0;34m\u001b[0m\u001b[0m\n\u001b[0m\u001b[1;32m    705\u001b[0m         )\n\u001b[1;32m    706\u001b[0m \u001b[0;34m\u001b[0m\u001b[0m\n",
            "\u001b[0;32m/usr/local/lib/python3.7/dist-packages/ipykernel/kernelbase.py\u001b[0m in \u001b[0;36m_input_request\u001b[0;34m(self, prompt, ident, parent, password)\u001b[0m\n\u001b[1;32m    732\u001b[0m             \u001b[0;32mexcept\u001b[0m \u001b[0mKeyboardInterrupt\u001b[0m\u001b[0;34m:\u001b[0m\u001b[0;34m\u001b[0m\u001b[0;34m\u001b[0m\u001b[0m\n\u001b[1;32m    733\u001b[0m                 \u001b[0;31m# re-raise KeyboardInterrupt, to truncate traceback\u001b[0m\u001b[0;34m\u001b[0m\u001b[0;34m\u001b[0m\u001b[0;34m\u001b[0m\u001b[0m\n\u001b[0;32m--> 734\u001b[0;31m                 \u001b[0;32mraise\u001b[0m \u001b[0mKeyboardInterrupt\u001b[0m\u001b[0;34m\u001b[0m\u001b[0;34m\u001b[0m\u001b[0m\n\u001b[0m\u001b[1;32m    735\u001b[0m             \u001b[0;32melse\u001b[0m\u001b[0;34m:\u001b[0m\u001b[0;34m\u001b[0m\u001b[0;34m\u001b[0m\u001b[0m\n\u001b[1;32m    736\u001b[0m                 \u001b[0;32mbreak\u001b[0m\u001b[0;34m\u001b[0m\u001b[0;34m\u001b[0m\u001b[0m\n",
            "\u001b[0;31mKeyboardInterrupt\u001b[0m: "
          ]
        }
      ]
    },
    {
      "cell_type": "code",
      "metadata": {
        "id": "XvsdyoSQzsUj",
        "colab": {
          "base_uri": "https://localhost:8080/"
        },
        "outputId": "c543112c-0b2f-45b8-9494-747ea93cf70f"
      },
      "source": [
        "# 3.1\n",
        "names = ['Arisha', 'Sadia', 'Kashaf', 'Rajya']\n",
        "for i in range(len(names)):\n",
        "  print(names[i])"
      ],
      "execution_count": null,
      "outputs": [
        {
          "output_type": "stream",
          "name": "stdout",
          "text": [
            "Arisha\n",
            "Sadia\n",
            "Kashaf\n",
            "Rajya\n"
          ]
        }
      ]
    },
    {
      "cell_type": "code",
      "metadata": {
        "colab": {
          "base_uri": "https://localhost:8080/"
        },
        "id": "qNjfXrfVHy7S",
        "outputId": "8059606c-66c0-41e4-b945-08a4fedc8ef9"
      },
      "source": [
        "# 3.7\n",
        "guestList = ['Arisha', 'Kashaf', 'Rajya']\n",
        "for i in range(len(guestList)):\n",
        "  print(f\"Hello {guestList[i]}, I am inviting you to dinner. Please come.\")\n",
        "print(f\"\\n{guestList[0]} will not come.\")\n",
        "\n",
        "guestList[0] = 'Shalini'\n",
        "\n",
        "for i in range(len(guestList)):\n",
        "  print(f\"Hello {guestList[i]}, I am inviting you to dinner. Please come.\")\n",
        "\n",
        "print(\"\\nI found a bigger dinner table\")\n",
        "guestList.insert(0, 'Saem')\n",
        "guestList.insert(int(len(guestList)/2), 'Imran')\n",
        "guestList.append('Parwez')\n",
        "\n",
        "for i in range(len(guestList)):\n",
        "  print(f\"Hello {guestList[i]}, I am inviting you to dinner. Please come.\")\n",
        "\n",
        "print(\"\\nI can invite only two people for dinner\")\n",
        "\n",
        "while len(guestList) > 2:\n",
        "  print(f\"Sorry {guestList.pop()}, I can't invite you for the dinner\")\n",
        "\n",
        "for i in range(len(guestList)):\n",
        "  print(f\"{guestList[i]}, You are still invited for the dinner.\")\n",
        "\n",
        "del guestList[-1::-1]\n",
        "print(guestList)"
      ],
      "execution_count": null,
      "outputs": [
        {
          "output_type": "stream",
          "name": "stdout",
          "text": [
            "Hello Arisha, I am inviting you to dinner. Please come.\n",
            "Hello Kashaf, I am inviting you to dinner. Please come.\n",
            "Hello Rajya, I am inviting you to dinner. Please come.\n",
            "\n",
            "Arisha will not come.\n",
            "Hello Shalini, I am inviting you to dinner. Please come.\n",
            "Hello Kashaf, I am inviting you to dinner. Please come.\n",
            "Hello Rajya, I am inviting you to dinner. Please come.\n",
            "\n",
            "I found a bigger dinner table\n",
            "Hello Saem, I am inviting you to dinner. Please come.\n",
            "Hello Shalini, I am inviting you to dinner. Please come.\n",
            "Hello Imran, I am inviting you to dinner. Please come.\n",
            "Hello Kashaf, I am inviting you to dinner. Please come.\n",
            "Hello Rajya, I am inviting you to dinner. Please come.\n",
            "Hello Parwez, I am inviting you to dinner. Please come.\n",
            "\n",
            "I can invite only two people for dinner\n",
            "Sorry Parwez, I can't invite you for the dinner\n",
            "Sorry Rajya, I can't invite you for the dinner\n",
            "Sorry Kashaf, I can't invite you for the dinner\n",
            "Sorry Imran, I can't invite you for the dinner\n",
            "Saem, You are still invited for the dinner.\n",
            "Shalini, You are still invited for the dinner.\n",
            "[]\n"
          ]
        }
      ]
    },
    {
      "cell_type": "code",
      "metadata": {
        "colab": {
          "base_uri": "https://localhost:8080/"
        },
        "id": "a3WY7rZ3IcLp",
        "outputId": "10cb357b-cb0f-4617-f81f-e6776971e377"
      },
      "source": [
        "# 3.8\n",
        "places = ['London', 'Paris', 'New York', 'Malaysia', 'Japan']\n",
        "sorted(places)\n",
        "print(places)\n",
        "\n",
        "sorted(places, reverse=True)\n",
        "print(places)\n",
        "\n",
        "places.reverse()\n",
        "print(places)\n",
        "\n",
        "places.reverse()\n",
        "print(places)\n",
        "\n",
        "places.sort()\n",
        "print(places)\n",
        "\n",
        "places.sort(reverse=True)\n",
        "print(places)"
      ],
      "execution_count": null,
      "outputs": [
        {
          "output_type": "stream",
          "name": "stdout",
          "text": [
            "['London', 'Paris', 'New York', 'Malaysia', 'Japan']\n",
            "['London', 'Paris', 'New York', 'Malaysia', 'Japan']\n",
            "['Japan', 'Malaysia', 'New York', 'Paris', 'London']\n",
            "['London', 'Paris', 'New York', 'Malaysia', 'Japan']\n",
            "['Japan', 'London', 'Malaysia', 'New York', 'Paris']\n",
            "['Paris', 'New York', 'Malaysia', 'London', 'Japan']\n"
          ]
        }
      ]
    },
    {
      "cell_type": "code",
      "metadata": {
        "colab": {
          "base_uri": "https://localhost:8080/"
        },
        "id": "wnb5hHwGNOai",
        "outputId": "7041c75c-f05d-4423-afbd-44b916bf30c2"
      },
      "source": [
        "# 4.1\n",
        "pizza = ['Cheese Pizza', 'Veggie Pizza', 'Pepperoni Pizza']\n",
        "for pizzaNames in pizza:\n",
        "  print(f\"I like {pizzaNames}.\")\n",
        "print(\"I love pizza, so much that i cant even eat it anymore.\\nI’m lactose intolerant now.\\nIt makes me sad bc i cant have my favorite food anymore :(\\nI really love pizza!\")"
      ],
      "execution_count": null,
      "outputs": [
        {
          "output_type": "stream",
          "name": "stdout",
          "text": [
            "I like Cheese Pizza.\n",
            "I like Veggie Pizza.\n",
            "I like Pepperoni Pizza.\n",
            "I love pizza, so much that i cant even eat it anymore.\n",
            "I’m lactose intolerant now.\n",
            "It makes me sad bc i cant have my favorite food anymore :(\n",
            "I really love pizza!\n"
          ]
        }
      ]
    },
    {
      "cell_type": "code",
      "metadata": {
        "colab": {
          "base_uri": "https://localhost:8080/"
        },
        "id": "F2q34EEHOydd",
        "outputId": "32b9acf9-b775-4087-d353-87396c222cbb"
      },
      "source": [
        "# 4.7\n",
        "threes = [3, 6, 9, 12, 15, 18, 21, 24, 27, 30]\n",
        "for i in range(len(threes)):\n",
        "  print(threes[i], end=\" \")"
      ],
      "execution_count": null,
      "outputs": [
        {
          "output_type": "stream",
          "name": "stdout",
          "text": [
            "3 6 9 12 15 18 21 24 27 30 "
          ]
        }
      ]
    },
    {
      "cell_type": "code",
      "metadata": {
        "id": "sCdglQlNQ5gu",
        "colab": {
          "base_uri": "https://localhost:8080/"
        },
        "outputId": "3f955228-a194-406c-f5e5-b9b9f9e7ef74"
      },
      "source": [
        "if __name__ == '__main__':\n",
        "  operations = ['+', '-', '/', '*', '**', '%', '//']\n",
        "  add, sub, mul, div, pow, mod, floor = 0, 0, 0, 0, 0, 0, 0\n",
        "  log = \"\\n\"\n",
        "  op = input(\"\\nEnter an operation: \")\n",
        "  while True:\n",
        "    # input validation loop\n",
        "    while (op not in operations):\n",
        "      print('Invalid input')\n",
        "      op = input(\"\\nEnter an operation: \")\n",
        "\n",
        "    a = int(input(\"\\nEnter the first number: \"))\n",
        "    b = int(input(\"Enter the second number: \"))\n",
        "\n",
        "    if op == '+':\n",
        "      add += 1\n",
        "      result = a + b\n",
        "    elif op == '-':\n",
        "      sub += 1\n",
        "      result = a - b\n",
        "    elif op == '*':\n",
        "      mul += 1\n",
        "      result = a * b\n",
        "    elif op == '/':\n",
        "      div += 1\n",
        "      result = a / b\n",
        "    elif op == '**':\n",
        "      pow += 1\n",
        "      result = a ** b\n",
        "    elif op == '%':\n",
        "      mod += 1\n",
        "      result = a % b\n",
        "    elif op == '//':\n",
        "      floor += 1\n",
        "      result = a // b\n",
        "\n",
        "    log = log + str(a) + op + str(b) + \"=\" + str(result) + \"\\n\"\n",
        "\n",
        "    answer = input(\"Do you want enter more calculations?[Y/n]: \")\n",
        "    if answer.lower() == 'y':\n",
        "      op = input(\"\\nEnter an operation: \")\n",
        "    else:\n",
        "      break\n",
        "\n",
        "  print(\"Printing Log: \")\n",
        "  print(log)\n",
        "  print(\"\\nOperator counts: \")\n",
        "  print(\"+ = \", add)\n",
        "  print(\"- = \", sub)\n",
        "  print(\"* = \", mul)\n",
        "  print(\"/ = \", div)\n",
        "  print(\"% = \", mod)\n",
        "  print(\"** = \", pow)\n",
        "  print(\"// = \", floor)"
      ],
      "execution_count": null,
      "outputs": [
        {
          "output_type": "stream",
          "name": "stdout",
          "text": [
            "\n",
            "Enter an operation: 8\n",
            "Invalid input\n",
            "\n",
            "Enter an operation: -\n",
            "\n",
            "Enter the first number: 10\n",
            "Enter the second number: 5\n",
            "Do you want enter more calculations?[Y/n]: y\n",
            "\n",
            "Enter an operation: +\n",
            "\n",
            "Enter the first number: 20\n",
            "Enter the second number: 3\n",
            "Do you want enter more calculations?[Y/n]: y\n",
            "\n",
            "Enter an operation: *\n",
            "\n",
            "Enter the first number: 5\n",
            "Enter the second number: 2\n",
            "Do you want enter more calculations?[Y/n]: y\n",
            "\n",
            "Enter an operation: %\n",
            "\n",
            "Enter the first number: 5\n",
            "Enter the second number: 2\n",
            "Do you want enter more calculations?[Y/n]: n\n",
            "Printing Log: \n",
            "\n",
            "10-5=5\n",
            "20+3=23\n",
            "5*2=10\n",
            "5%2=1\n",
            "\n",
            "\n",
            "Operator counts: \n",
            "+ =  1\n",
            "- =  1\n",
            "* =  1\n",
            "/ =  0\n",
            "% =  1\n",
            "** =  0\n",
            "// =  0\n"
          ]
        }
      ]
    },
    {
      "cell_type": "code",
      "metadata": {
        "colab": {
          "base_uri": "https://localhost:8080/"
        },
        "id": "ITQu7p1U8gsK",
        "outputId": "b2d1ba27-60b5-438d-80bd-ceed8aa4585b"
      },
      "source": [
        "def get_non_negative_float(prompt):\n",
        "  answer = 0\n",
        "  result = float(input(prompt))\n",
        "  while result <= answer :\n",
        "    print(\"Number must be at least zero.\")\n",
        "    result = float(input(prompt))\n",
        "  return result\n",
        "\n",
        "\n",
        "count = get_non_negative_float(\"Enter traffic volume: \")\n",
        "print(f'volume = {count}')\n",
        "# Does your function return a float?\n",
        "print(isinstance(count, float))\n",
        "\n",
        "print()\n",
        "\n",
        "count = get_non_negative_float(\"Enter the number of trucks: \")\n",
        "print(f'count = {count}')\n",
        "# Does your function return a float?\n",
        "print(isinstance(count, float))\n"
      ],
      "execution_count": null,
      "outputs": [
        {
          "output_type": "stream",
          "name": "stdout",
          "text": [
            "Enter traffic volume: -1\n",
            "Number must be at least zero.\n",
            "Enter traffic volume: -100\n",
            "Number must be at least zero.\n",
            "Enter traffic volume: 225\n",
            "volume = 225.0\n",
            "True\n",
            "\n",
            "Enter the number of trucks: -100\n",
            "Number must be at least zero.\n",
            "Enter the number of trucks: -1\n",
            "Number must be at least zero.\n",
            "Enter the number of trucks: -2\n",
            "Number must be at least zero.\n",
            "Enter the number of trucks: -3\n",
            "Number must be at least zero.\n",
            "Enter the number of trucks: 20000\n",
            "count = 20000.0\n",
            "True\n"
          ]
        }
      ]
    },
    {
      "cell_type": "code",
      "metadata": {
        "id": "hLtZbzSy86j1",
        "colab": {
          "base_uri": "https://localhost:8080/",
          "height": 231
        },
        "outputId": "d2fb13f5-5e51-474d-ba0e-b3cb224f4f25"
      },
      "source": [
        "a = {1, 2, 3}\n",
        "print(a)\n",
        "a[1] = 5  #replacing element at second index by 5\n",
        "print(a)"
      ],
      "execution_count": null,
      "outputs": [
        {
          "output_type": "stream",
          "name": "stdout",
          "text": [
            "{1, 2, 3}\n"
          ]
        },
        {
          "output_type": "error",
          "ename": "TypeError",
          "evalue": "ignored",
          "traceback": [
            "\u001b[0;31m---------------------------------------------------------------------------\u001b[0m",
            "\u001b[0;31mTypeError\u001b[0m                                 Traceback (most recent call last)",
            "\u001b[0;32m<ipython-input-11-63abd5fcb04e>\u001b[0m in \u001b[0;36m<module>\u001b[0;34m()\u001b[0m\n\u001b[1;32m      1\u001b[0m \u001b[0ma\u001b[0m \u001b[0;34m=\u001b[0m \u001b[0;34m{\u001b[0m\u001b[0;36m1\u001b[0m\u001b[0;34m,\u001b[0m \u001b[0;36m2\u001b[0m\u001b[0;34m,\u001b[0m \u001b[0;36m3\u001b[0m\u001b[0;34m}\u001b[0m\u001b[0;34m\u001b[0m\u001b[0;34m\u001b[0m\u001b[0m\n\u001b[1;32m      2\u001b[0m \u001b[0mprint\u001b[0m\u001b[0;34m(\u001b[0m\u001b[0ma\u001b[0m\u001b[0;34m)\u001b[0m\u001b[0;34m\u001b[0m\u001b[0;34m\u001b[0m\u001b[0m\n\u001b[0;32m----> 3\u001b[0;31m \u001b[0ma\u001b[0m\u001b[0;34m[\u001b[0m\u001b[0;36m1\u001b[0m\u001b[0;34m]\u001b[0m \u001b[0;34m=\u001b[0m \u001b[0;36m5\u001b[0m  \u001b[0;31m#replacing element at second index by 5\u001b[0m\u001b[0;34m\u001b[0m\u001b[0;34m\u001b[0m\u001b[0m\n\u001b[0m\u001b[1;32m      4\u001b[0m \u001b[0mprint\u001b[0m\u001b[0;34m(\u001b[0m\u001b[0ma\u001b[0m\u001b[0;34m)\u001b[0m\u001b[0;34m\u001b[0m\u001b[0;34m\u001b[0m\u001b[0m\n",
            "\u001b[0;31mTypeError\u001b[0m: 'set' object does not support item assignment"
          ]
        }
      ]
    },
    {
      "cell_type": "code",
      "metadata": {
        "colab": {
          "base_uri": "https://localhost:8080/"
        },
        "id": "I7INYcB8SO9S",
        "outputId": "cc1b6895-ee46-40e0-f091-fa07e188defa"
      },
      "source": [
        "try:\n",
        "  x = int(input(\"Enter first number: \"))\n",
        "  y = int(input(\"Enter second number: \"))\n",
        "  print(x + y)\n",
        "except:\n",
        "  print(\"Invalid input.\")"
      ],
      "execution_count": null,
      "outputs": [
        {
          "output_type": "stream",
          "name": "stdout",
          "text": [
            "Enter first number: 123\n",
            "Enter second number: a\n",
            "Invalid input.\n"
          ]
        }
      ]
    },
    {
      "cell_type": "code",
      "metadata": {
        "colab": {
          "base_uri": "https://localhost:8080/"
        },
        "id": "NIRfadwPS5CX",
        "outputId": "d6da538c-fe02-4426-9261-4ab654f52339"
      },
      "source": [
        "a = {1, 2, 3}\n",
        "print(a)\n",
        "a.add(5)  # adding 5 to set\n",
        "print(a)"
      ],
      "execution_count": null,
      "outputs": [
        {
          "output_type": "stream",
          "name": "stdout",
          "text": [
            "{1, 2, 3}\n",
            "{1, 2, 3, 5}\n"
          ]
        }
      ]
    },
    {
      "cell_type": "code",
      "metadata": {
        "id": "DztpFEm2ThPO",
        "colab": {
          "base_uri": "https://localhost:8080/"
        },
        "outputId": "85445782-fd39-43e2-dd3d-36dd4b8b7962"
      },
      "source": [
        "k = int(input())      # integer input\n",
        "d = float(input())    # float input\n",
        "s = input()           # string input\n",
        "print(f\"{s} {d} {k}\") # print\n",
        "print(f\"{k} {d} {s}\") # print"
      ],
      "execution_count": null,
      "outputs": [
        {
          "output_type": "stream",
          "name": "stdout",
          "text": [
            "15\n",
            "5.5\n",
            "hello\n",
            "hello 5.5 15\n",
            "15 5.5 hello\n"
          ]
        }
      ]
    },
    {
      "cell_type": "code",
      "metadata": {
        "id": "I-MoHcnajniF",
        "colab": {
          "base_uri": "https://localhost:8080/"
        },
        "outputId": "69699090-a00f-4967-f6db-60c33188ad85"
      },
      "source": [
        "def menu():\n",
        "    print(\"1. Addition\")\n",
        "    print(\"2. Subtraction\")\n",
        "    print(\"3. Multiplication\")\n",
        "    print(\"4. Division\")\n",
        "\n",
        "def get_input():\n",
        "    a = float(input(\"Enter first number: \"))\n",
        "    b = float(input(\"Enter second number: \"))\n",
        "    return a, b\n",
        "\n",
        "def main():\n",
        "    menu()\n",
        "    choice = input(\"Enter Your Choice: \")\n",
        "    while choice != 'Y':\n",
        "        if choice == \"1\":\n",
        "            a, b = get_input()\n",
        "            print(f\"{a} + {b} = {a+b}\\n\")\n",
        "        elif choice == \"2\":\n",
        "            a, b = get_input()\n",
        "            print(f\"{a} - {b} = {a-b}\\n\")\n",
        "        elif choice == \"3\":\n",
        "            a, b = get_input()\n",
        "            print(f\"{a} * {b} = {a*b}\\n\")\n",
        "        elif choice == \"4\":\n",
        "            a, b = get_input()\n",
        "            print(f\"{a} / {b} = {a/b}\\n\")\n",
        "      \n",
        "      menu()\n",
        "      choice = input(\"Enter Your Choice: \")\n",
        "\n",
        "main()\n"
      ],
      "execution_count": null,
      "outputs": [
        {
          "name": "stdout",
          "output_type": "stream",
          "text": [
            "1. Addition\n",
            "2. Subtraction\n",
            "3. Multiplication\n",
            "4. Division\n",
            "Enter Your Choice: 1\n",
            "Enter first number: 5\n",
            "Enter second number: 10\n",
            "5.0 + 10.0 = 15.0\n",
            "\n",
            "1. Addition\n",
            "2. Subtraction\n",
            "3. Multiplication\n",
            "4. Division\n",
            "Enter Your Choice: 2\n",
            "Enter first number: 20\n",
            "Enter second number: 5\n",
            "20.0 - 5.0 = 15.0\n",
            "\n",
            "1. Addition\n",
            "2. Subtraction\n",
            "3. Multiplication\n",
            "4. Division\n",
            "Enter Your Choice: 4\n",
            "Enter first number: 10\n",
            "Enter second number: 2\n",
            "10.0 / 2.0 = 5.0\n",
            "\n",
            "1. Addition\n",
            "2. Subtraction\n",
            "3. Multiplication\n",
            "4. Division\n",
            "Enter Your Choice: Y\n"
          ]
        }
      ]
    },
    {
      "cell_type": "code",
      "metadata": {
        "id": "nCeEvLk-RyYD",
        "colab": {
          "base_uri": "https://localhost:8080/"
        },
        "outputId": "721e6d1f-7fb8-4a7a-a4d5-6ab1282f7cb4"
      },
      "source": [
        "keys = [\"Arisha\", \"Kashaf\", \"Shalini\"]\n",
        "\n",
        "for ids in keys:\n",
        "  print(ids, type(ids))\n",
        "\n",
        "print()\n",
        "\n",
        "for ids in range(len(keys)):\n",
        "  print(ids, type(ids))\n"
      ],
      "execution_count": null,
      "outputs": [
        {
          "output_type": "stream",
          "name": "stdout",
          "text": [
            "Arisha <class 'str'>\n",
            "Kashaf <class 'str'>\n",
            "Shalini <class 'str'>\n",
            "\n",
            "0 <class 'int'>\n",
            "1 <class 'int'>\n",
            "2 <class 'int'>\n"
          ]
        }
      ]
    },
    {
      "cell_type": "code",
      "metadata": {
        "colab": {
          "base_uri": "https://localhost:8080/"
        },
        "id": "aXkw2K8smQ4F",
        "outputId": "b5c5105d-e305-41db-f9c4-3e2882fed533"
      },
      "source": [
        "def flosgen(list1, list2):\n",
        "    output = []\n",
        "    for i in range(len(list1)):\n",
        "        if list1[i] not in [-1, 1] or 'p' in list2[i]:\n",
        "            print(\"No way\")\n",
        "        if i % 2 == 0:\n",
        "            if list1[i] == 1:\n",
        "                output.append(list2[i].replace('u', 'uu'))\n",
        "            else:\n",
        "                output.append('p' + list2[i])\n",
        "    print(output)\n",
        "\n",
        "flosgen([-1, -1, -1, -1, 1],['del', '', 'win', '', 'yuhu!'])"
      ],
      "execution_count": null,
      "outputs": [
        {
          "output_type": "stream",
          "name": "stdout",
          "text": [
            "['pdel', 'pwin', 'yuuhuu!']\n"
          ]
        }
      ]
    },
    {
      "cell_type": "code",
      "metadata": {
        "colab": {
          "base_uri": "https://localhost:8080/"
        },
        "id": "kUSmSslNoKpo",
        "outputId": "352a261d-876e-445b-dfbb-0362348a1767"
      },
      "source": [
        "items = [14, 12, -1, 9, 118, 5, 11]\n",
        "print(items[1:5])"
      ],
      "execution_count": null,
      "outputs": [
        {
          "output_type": "stream",
          "name": "stdout",
          "text": [
            "[12, -1, 9, 118]\n"
          ]
        }
      ]
    },
    {
      "cell_type": "code",
      "metadata": {
        "colab": {
          "base_uri": "https://localhost:8080/"
        },
        "id": "aGu0cZuXsgq_",
        "outputId": "ac4d2380-4d15-4e3b-e239-d14122390d65"
      },
      "source": [
        "info = ('Fred', 8065)\n",
        "name, postcode = info[0], info[1]\n",
        "print(\"Name: \" + name)\n",
        "print(\"Postcode: \" + str(postcode))"
      ],
      "execution_count": null,
      "outputs": [
        {
          "output_type": "stream",
          "name": "stdout",
          "text": [
            "Name: Fred\n",
            "Postcode: 8065\n"
          ]
        }
      ]
    },
    {
      "cell_type": "code",
      "metadata": {
        "id": "Vd91sP9-tCt0",
        "colab": {
          "base_uri": "https://localhost:8080/"
        },
        "outputId": "98af8410-3389-4caf-ab20-6273ca092df9"
      },
      "source": [
        "print(\"Welcome to the Pflugerville Bakery!\")\n",
        "print(\"We're ready to take your cupcake order.\")\n",
        "name = input(\"Please enter your name: \")\n",
        "red_velvet = int(input(\"Enter the number of Red Velvet cupcakes: \"))\n",
        "caramel_surprise = int(input(\"Enter the number of Caramel Surprise cupcakes: \"))\n",
        "chocolate_cupcakes = int(input(\"Enter the number of Chocolate Delight cupcakes: \"))\n",
        "day = input(\"Enter the day of the week you will pick up your order: \")\n",
        "red_velvet_price = 2.00\n",
        "caramel_surprise_price = 2.50\n",
        "chocolate_cupcakes_price = 3.00\n",
        "discount_percent = 0\n",
        "total = red_velvet + caramel_surprise + chocolate_cupcakes\n",
        "subtotal_price = red_velvet * red_velvet_price + caramel_surprise * caramel_surprise_price + chocolate_cupcakes * chocolate_cupcakes_price\n",
        "\n",
        "if total >= 12 and total <= 36:\n",
        "    discount_percent = 10/100\n",
        "    discount = subtotal_price * discount_percent\n",
        "elif total > 36:\n",
        "    discount_percent = 15/100\n",
        "    discount = subtotal_price * discount_percent\n",
        "else:\n",
        "    discount = 0\n",
        "\n",
        "tax_percent = 7.25\n",
        "tax_amt = (subtotal_price - discount) * (tax_percent/100)\n",
        "\n",
        "print(\"\\tOrder Summary\")\n",
        "if red_velvet > 0:\n",
        "    print(f\"%-30s {red_velvet} for ${(red_velvet * red_velvet_price):.2f}\" % \"Red Velvet cupcakes: \")\n",
        "if caramel_surprise > 0:\n",
        "    print(f\"%-30s {caramel_surprise} for ${(caramel_surprise * caramel_surprise_price):.2f}\" %\"Caramel Surprise cupcakes:\")\n",
        "if chocolate_cupcakes > 0:\n",
        "    print(f\"%-30s {chocolate_cupcakes} for ${(chocolate_cupcakes * chocolate_cupcakes_price):.2f}\" %\"Chocolate Delight cupcakes:\")\n",
        "print(f\"%-30s ${subtotal_price:.2f}\" % \"Subtotal:\")\n",
        "print(f\"%-30s ${(discount_percent*100):.0f}%s\" % (\"Discount percentage:\", \"%\"))\n",
        "print(f\"%-30s ${discount:.2f}\" % \"Discount amount:\")\n",
        "print(f\"%-30s ${(subtotal_price - discount):.2f}\" % \"Discount subtotal:\")\n",
        "print(f\"%-30s {tax_amt:.2f}\" % \"Tax:\")\n",
        "print(f\"%-30s ${(subtotal_price - discount + tax_amt):.2f}\" % \"Total cost:\")\n",
        "print(\"This order will be available for pickup\")\n",
        "print(f\"By: {name}\")\n",
        "print(f\"On: {day}\")"
      ],
      "execution_count": null,
      "outputs": [
        {
          "output_type": "stream",
          "name": "stdout",
          "text": [
            "Welcome to the Pflugerville Bakery!\n",
            "We're ready to take your cupcake order.\n",
            "Please enter your name: Sarah Marshall\n",
            "Enter the number of Red Velvet cupcakes: 6\n",
            "Enter the number of Caramel Surprise cupcakes: 0\n",
            "Enter the number of Chocolate Delight cupcakes: 6\n",
            "Enter the day of the week you will pick up your order: Thursday\n",
            "\tOrder Summary\n",
            "Red Velvet cupcakes:           6 for $12.00\n",
            "Chocolate Delight cupcakes:    6 for $18.00\n",
            "Subtotal:                      $30.00\n",
            "Discount percentage:           $10%\n",
            "Discount amount:               $3.00\n",
            "Discount subtotal:             $27.00\n",
            "Tax:                           1.96\n",
            "Total cost:                    $28.96\n",
            "This order will be available for pickup\n",
            "By: Sarah Marshall\n",
            "On: Thursday\n"
          ]
        }
      ]
    },
    {
      "cell_type": "code",
      "metadata": {
        "id": "Fem6os81zU45",
        "colab": {
          "base_uri": "https://localhost:8080/"
        },
        "outputId": "41d9d37b-f388-4ead-92f7-f1cab79b1d11"
      },
      "source": [
        "l1 = [\"CSE110\", \"CSE111\", \"CSE221\", \"CSE260\", \"CSE320\", \"CSE340\", \"CSE370\", \"CSE421\", \"CSE423\"]\n",
        "# creating dictionary to store final key value pair\n",
        "dictionary = {}\n",
        "# To store keys\n",
        "keys = []\n",
        "\n",
        "# Loop in l1 to get keys\n",
        "# and append to keys list (only numbers in multiple of 100)\n",
        "for item in l1:\n",
        "    keys.append(int(int(item[3: ])/100)*100)\n",
        "\n",
        "# get unique items\n",
        "keys = list(set(keys))\n",
        "# sort list in ascending order\n",
        "keys.sort()\n",
        "\n",
        "# loop in key to add key to dictionary\n",
        "for key in keys:    \n",
        "    # create empty list to store values\n",
        "    values = []\n",
        "    \n",
        "    # loop in l1 to get values\n",
        "    for value in l1:\n",
        "        # check if it is in range of 100, 200,...\n",
        "        if (int(value[3:]) > key and int(value[3:]) < key + 100):\n",
        "            # append to values list\n",
        "            values.append(value)\n",
        "\n",
        "    # and then store key - value pair\n",
        "    dictionary[str(key) + \" Level\"] = values\n",
        "\n",
        "# print\n",
        "print(dictionary)"
      ],
      "execution_count": null,
      "outputs": [
        {
          "output_type": "stream",
          "name": "stdout",
          "text": [
            "{'100 Level': ['CSE110', 'CSE111'], '200 Level': ['CSE221', 'CSE260'], '300 Level': ['CSE320', 'CSE340', 'CSE370'], '400 Level': ['CSE421', 'CSE423']}\n"
          ]
        }
      ]
    },
    {
      "cell_type": "code",
      "metadata": {
        "colab": {
          "base_uri": "https://localhost:8080/"
        },
        "id": "cv5Sv46Fe83V",
        "outputId": "59cfba18-f628-440f-be50-444f5f4895af"
      },
      "source": [
        "def doubleChar(string):\n",
        "  newChar = \"\"\n",
        "  for i in string:\n",
        "    newChar += i*2\n",
        "  return newChar\n",
        "\n",
        "def main():\n",
        "  print(doubleChar(\"The\"))\n",
        "  print(doubleChar(\"AABB\"))\n",
        "  print(doubleChar(\"Hi-There\"))\n",
        "\n",
        "main()"
      ],
      "execution_count": null,
      "outputs": [
        {
          "output_type": "stream",
          "name": "stdout",
          "text": [
            "TThhee\n",
            "AAAABBBB\n",
            "HHii--TThheerree\n"
          ]
        }
      ]
    },
    {
      "cell_type": "code",
      "metadata": {
        "id": "bLn7Of2bfgVj",
        "colab": {
          "base_uri": "https://localhost:8080/"
        },
        "outputId": "1e70471c-8027-4c8d-d192-41a0ea1834bb"
      },
      "source": [
        "alphabets = \"abcdefghijklmnopqrstuvwxyz\"\n",
        "original_string = input(\"Enter string: \")\n",
        "new_string = \"\"\n",
        "caesar_shift = int(input(\"Enter shift: \"))\n",
        "position = alphabets.index(original_string[0])\n",
        "new_position = (position + caesar_shift) % 26\n",
        "new_string += alphabets[new_position]\n",
        "\n",
        "position = alphabets.index(original_string[1])\n",
        "new_position = (position + caesar_shift) % 26\n",
        "new_string += alphabets[new_position]\n",
        "\n",
        "position = alphabets.index(original_string[2])\n",
        "new_position = (position + caesar_shift) % 26\n",
        "new_string += alphabets[new_position]\n",
        "\n",
        "print(new_string)"
      ],
      "execution_count": null,
      "outputs": [
        {
          "output_type": "stream",
          "name": "stdout",
          "text": [
            "Enter string: abc\n",
            "Enter shift: 3\n",
            "def\n"
          ]
        }
      ]
    },
    {
      "cell_type": "code",
      "metadata": {
        "id": "Ksu19UzyldNL",
        "colab": {
          "base_uri": "https://localhost:8080/"
        },
        "outputId": "4b120c70-e1f1-45b6-e6bd-b6685c212c63"
      },
      "source": [
        "print(\"Answer by only typing [Y/n]\")\n",
        "uncompressed = input(\n",
        "    \"Assignment submitted as a single uncompressed .py file? \").lower()\n",
        "namedate = input(\"Assignment include the author's name and date? \").lower()\n",
        "if namedate == \"n\":\n",
        "    exit(0)\n",
        "honorstmt = input(\"Assignment include honor statement? \").lower()\n",
        "video = input(\"Assignment include 3-minute video? \").lower()\n",
        "\n",
        "grade = 0\n",
        "if uncompressed == \"y\" and namedate == \"y\" and honorstmt == \"y\" and video == \"y\":\n",
        "    grade += int(input(\"Out of 10 points, how would you evaluate the correctness of the code? \"))\n",
        "    grade += int(input(\"Out of 10 points, how would you evaluate the elegance of the code? \"))\n",
        "    grade += int(input(\"Out of 10 points, how would you evaluate the code hygiene? \"))\n",
        "    grade += int(input(\"Out of 10 points, how would you evaluate the quality of discussion? \"))\n",
        "    late = input(\"Is assignment late subitted? \").lower()\n",
        "    if late == \"y\":\n",
        "        time = int(input(\"How late it is? \"))\n",
        "        grade = grade - (grade * time/100)\n",
        "    print(\"\\nTotal grade :\", grade)\n",
        "else:\n",
        "    print(\"\\nTotal grade :\", grade)\n"
      ],
      "execution_count": null,
      "outputs": [
        {
          "output_type": "stream",
          "name": "stdout",
          "text": [
            "Answer by only typing [Y/n]\n",
            "Assignment submitted as a single uncompressed .py file? y\n",
            "Assignment include the author's name and date? y\n",
            "Assignment include honor statement? y\n",
            "Assignment include 3-minute video? y\n",
            "Out of 10 points, how would you evaluate the correctness of the code? 8\n",
            "Out of 10 points, how would you evaluate the elegance of the code? 9\n",
            "Out of 10 points, how would you evaluate the code hygiene? 6\n",
            "Out of 10 points, how would you evaluate the quality of discussion? 5\n",
            "Is assignment late subitted? n\n",
            "\n",
            "Total grade : 28\n"
          ]
        }
      ]
    },
    {
      "cell_type": "code",
      "metadata": {
        "colab": {
          "base_uri": "https://localhost:8080/"
        },
        "id": "FdV6CQKZ8AIO",
        "outputId": "497b77b0-2723-4db4-a7e4-caec1696d93c"
      },
      "source": [
        "#A) Name:\n",
        "#B) Program status :\n",
        "#C) Description: display the amount that the user is over or under budget.\n",
        "\n",
        "BUDGET = float(input(\"Enter amount budgeted for the month: \"))\n",
        "totalSpent = 0\n",
        "spent = float(input(\"Enter an amount spent(0 to quit): \"))\n",
        "while int(spent) != 0:\n",
        "    totalSpent += spent\n",
        "    spent = float(input(\"Enter an amount spent(0 to quit): \"))\n",
        "print(f\"Budgeted: $ {BUDGET:.2f}\")\n",
        "print(f\"Spent: $ {totalSpent:.2f}\")\n",
        "if totalSpent > BUDGET:\n",
        "    print(f\"You are $ {(totalSpent-BUDGET):.2f} over budget. PLAN BETTER NEXT TIME!\")\n",
        "else:\n",
        "    print(f\"You are $ {(BUDGET - totalSpent):.2f} in budget. TOO GOOD!\")\n"
      ],
      "execution_count": null,
      "outputs": [
        {
          "output_type": "stream",
          "name": "stdout",
          "text": [
            "Enter amount budgeted for the month: 500\n",
            "Enter an amount spent(0 to quit): 50\n",
            "Enter an amount spent(0 to quit): 75\n",
            "Enter an amount spent(0 to quit): 800\n",
            "Enter an amount spent(0 to quit): 23.5\n",
            "Enter an amount spent(0 to quit): 0\n",
            "Budgeted: $ 500.00\n",
            "Spent: $ 948.50\n",
            "You are $ 448.50 over budget. PLAN BETTER NEXT TIME!\n"
          ]
        }
      ]
    },
    {
      "cell_type": "code",
      "metadata": {
        "colab": {
          "base_uri": "https://localhost:8080/"
        },
        "id": "Y41_I6oLN_lM",
        "outputId": "6622a94c-7184-4b0a-e325-4539d61dafd9"
      },
      "source": [
        "INITIAL_OCEAN_LEVEL = 1.8\n",
        "print(\"Year \\t Rise (in millimeters)\")\n",
        "print(\"-\"*30)\n",
        "for year in range(1,25+1):\n",
        "  print(f\"{year} \\t {(INITIAL_OCEAN_LEVEL * year):.2f}\")"
      ],
      "execution_count": null,
      "outputs": [
        {
          "output_type": "stream",
          "name": "stdout",
          "text": [
            "Year \t Rise (in millimeters)\n",
            "------------------------------\n",
            "1 \t 1.80\n",
            "2 \t 3.60\n",
            "3 \t 5.40\n",
            "4 \t 7.20\n",
            "5 \t 9.00\n",
            "6 \t 10.80\n",
            "7 \t 12.60\n",
            "8 \t 14.40\n",
            "9 \t 16.20\n",
            "10 \t 18.00\n",
            "11 \t 19.80\n",
            "12 \t 21.60\n",
            "13 \t 23.40\n",
            "14 \t 25.20\n",
            "15 \t 27.00\n",
            "16 \t 28.80\n",
            "17 \t 30.60\n",
            "18 \t 32.40\n",
            "19 \t 34.20\n",
            "20 \t 36.00\n",
            "21 \t 37.80\n",
            "22 \t 39.60\n",
            "23 \t 41.40\n",
            "24 \t 43.20\n",
            "25 \t 45.00\n"
          ]
        }
      ]
    },
    {
      "cell_type": "code",
      "metadata": {
        "id": "06lfTAE2QEva",
        "colab": {
          "base_uri": "https://localhost:8080/"
        },
        "outputId": "1750e27a-c274-4f3a-b6ca-0d9d2b47f959"
      },
      "source": [
        "# TODO: Import the random module\n",
        "import random\n",
        "\n",
        "\n",
        "def number_guess(num):\n",
        "    # TODO: Get a random number between 1-100\n",
        "    random_num = random.randint(1, 100)\n",
        "    # TODO: Read numbers and compare to random number\n",
        "    if num > random_num:\n",
        "        print(f\"{num} is too high. Random number was {random_num}.\")\n",
        "    elif num < random_num:\n",
        "        print(f\"{num} is too low. Random number was {random_num}.\")\n",
        "    else:\n",
        "        print(f\"{num} is correct!\")\n",
        "\n",
        "\n",
        "if __name__ == \"__main__\":\n",
        "    # Use the seed 900 to get the same pseudo random numbers every time\n",
        "    random.seed(900)\n",
        "    # Convert the string tokens into integers\n",
        "    user_input = input()\n",
        "    tokens = user_input.split()\n",
        "    for token in tokens:\n",
        "        num = int(token)\n",
        "        number_guess(num)\n"
      ],
      "execution_count": null,
      "outputs": [
        {
          "output_type": "stream",
          "name": "stdout",
          "text": [
            "32 45 48 80\n",
            "32 is too low. Random number was 80.\n",
            "45 is too high. Random number was 30.\n",
            "48 is correct!\n",
            "80 is too low. Random number was 97.\n"
          ]
        }
      ]
    },
    {
      "cell_type": "code",
      "metadata": {
        "id": "f6CoydPEa46B",
        "colab": {
          "base_uri": "https://localhost:8080/"
        },
        "outputId": "6bb84c4d-e6c1-4ff8-e2e1-e37be51b8a63"
      },
      "source": [
        "import random\n",
        "import math\n",
        "\n",
        "# Taking range\n",
        "lower = int(input(\"Enter Lower Bound: \"))\n",
        "upper = int(input(\"Enter Upper Bound: \"))\n",
        "\n",
        "# generating random number between the lower and upper limit\n",
        "x = random.randint(lower, upper)\n",
        "\n",
        "# loop until player guesses the number\n",
        "while True:\n",
        "    # taking guessing number as input\n",
        "    guess = int(input(\"Take a guess: \"))\n",
        "\n",
        "    def rand_call(guess):\n",
        "        # Comparing the guessed number with the random number generated b/w 1-20\n",
        "        if x == guess:\n",
        "            print(\"Congratulations you guessed the number correctly.\")\n",
        "        elif x > guess:\n",
        "            print(\"Your guess is too low.\")\n",
        "        elif x < guess:\n",
        "            print(\"Your Guess too high.\")\n",
        "\n",
        "    rand_call(guess)  # calling the function rand_call with argument guess\n",
        "\n",
        "    if x == guess:\n",
        "        break         # Once guessed, loop will break\n"
      ],
      "execution_count": null,
      "outputs": [
        {
          "output_type": "stream",
          "name": "stdout",
          "text": [
            "Enter Lower Bound: 1\n",
            "Enter Upper Bound: 100\n",
            "Take a guess: 100\n",
            "Your Guess too high.\n",
            "Take a guess: 50\n",
            "Your guess is too low.\n",
            "Take a guess: 70\n",
            "Your guess is too low.\n",
            "Take a guess: 80\n",
            "Your Guess too high.\n",
            "Take a guess: 75\n",
            "Your Guess too high.\n",
            "Take a guess: 72\n",
            "Congratulations you guessed the number correctly.\n"
          ]
        }
      ]
    },
    {
      "cell_type": "code",
      "metadata": {
        "id": "NtvIm-nAO5F0",
        "colab": {
          "base_uri": "https://localhost:8080/"
        },
        "outputId": "a0fd49fc-bff0-43d0-f689-6e153aae97d0"
      },
      "source": [
        "# Three variables num1, num2, num3 \n",
        "# have three different values each\n",
        "num1 = 20\n",
        "num2 = 15\n",
        "num3 = 50\n",
        "\n",
        "# Calculate total of three numbers\n",
        "total = num1 + num2 + num3\n",
        "\n",
        "# Calculate average\n",
        "avg = total / 3\n",
        "\n",
        "# Print Total of three numbers\n",
        "print(f\"Total: {total}\")\n",
        "\n",
        "# Print average of three numbers\n",
        "print(f\"Average: {avg:.2f}\")"
      ],
      "execution_count": null,
      "outputs": [
        {
          "output_type": "stream",
          "name": "stdout",
          "text": [
            "Total: 85\n",
            "Average: 28.33\n"
          ]
        }
      ]
    },
    {
      "cell_type": "code",
      "metadata": {
        "id": "ZdQUKhW2F7Lp",
        "colab": {
          "base_uri": "https://localhost:8080/",
          "height": 69
        },
        "outputId": "999b034a-62f8-411a-fa51-579b0d527ed5"
      },
      "source": [
        "# Property Tax Code:\n",
        "def askForActualValue():\n",
        "  homeCost = float(input('Enter The Home Value Price (as a whole number):'))\n",
        "  return homeCost\n",
        "\n",
        "def TaxRate( homeCost ):\n",
        "  propertyTax = (homeCost) * 0.75\n",
        "  return propertyTax\n",
        "    \n",
        "def calculateSurchargeValue( propertyTax ):\n",
        "  Bedrooms = float(input('Enter Amount Of Bedrooms:'))\n",
        "  SurchargeValue = Bedrooms * .0025 * (propertyTax)\n",
        "  return Bedrooms\n",
        "\n",
        "def printReport (homeCost, propertyTax, SurchargeValue):\n",
        "  print(\"Actual Value of Property: $\" + \\\n",
        "  format(homeCost, \",.2f\") + \"\\nAssessment\" + \\\n",
        "  \" Value of Property: $\" + \\\n",
        "  format(propertyTax, \",.2f\") + \"\\nProperty tax: $\" + \\\n",
        "  format(SurchargeValue, \",.2f\"))\n",
        "\n",
        "def main():\n",
        "  homeCost = askForActualValue()\n",
        "  propertyTax = TaxRate ( homeCost )\n",
        "  SurchargeValue = calculateSurchargeValue (propertyTax)\n",
        "  printReport(homeCost, propertyTax, SurchargeValue)\n",
        "# main()\n",
        "\n",
        "input(\"Press Enter To Close\\n\")"
      ],
      "execution_count": null,
      "outputs": [
        {
          "name": "stdout",
          "output_type": "stream",
          "text": [
            "Press Enter To Close\n",
            "\n"
          ]
        },
        {
          "output_type": "execute_result",
          "data": {
            "application/vnd.google.colaboratory.intrinsic+json": {
              "type": "string"
            },
            "text/plain": [
              "''"
            ]
          },
          "metadata": {},
          "execution_count": 24
        }
      ]
    },
    {
      "cell_type": "code",
      "metadata": {
        "colab": {
          "base_uri": "https://localhost:8080/"
        },
        "id": "mDAQ-VtU_Jct",
        "outputId": "59b9617f-855b-40f9-a5e2-d81f2d7fc9f6"
      },
      "source": [
        "import random\n",
        "\n",
        "# store fruits in list\n",
        "fruits = [\"apple\", \"grape\", \"guava\", \"lemon\",\n",
        "          \"nance\", \"peach\", \"prune\", \"salak\"]\n",
        "\n",
        "# get random fruit\n",
        "word = random.choice(fruits)\n",
        "# print(word)\n",
        "print(\"Guess This Five-Letter Fruit!\")\n",
        "\n",
        "# max attempt is 5\n",
        "turns = 5\n",
        "# to store guesses\n",
        "guesses = ''\n",
        "\n",
        "# loop until turns is greater than 0\n",
        "while turns > 0:\n",
        "    # get user input\n",
        "    print()\n",
        "    guess = input(\"Guess a Character: \")\n",
        "    # add to guesses string\n",
        "    guesses += guess\n",
        "    # check if guessed character is in word or not\n",
        "    if guess not in word:\n",
        "        print(f\"Wrong! {turns-1} guess(es) left.\")\n",
        "\n",
        "    # check if all characters are guessed\n",
        "    new = \"\"\n",
        "    for char in word:  # This will enter letter in word\n",
        "        if char in guesses:\n",
        "            print(char, \" \", end=\"\")\n",
        "            new += char\n",
        "        else:\n",
        "            print(\"_ \", end=\"\")\n",
        "    print()\n",
        "    # compare both new and random fruit\n",
        "    if new == word:\n",
        "        print(\"\\nYou Won!\")\n",
        "        print(f\"The word is {word}\")\n",
        "        break\n",
        "\n",
        "    turns -= 1\n",
        "\n",
        "# if no turns left\n",
        "if turns == 0:\n",
        "    print(\"\\nYou Lose!\")\n",
        "    print(f\"The word is {word}\")\n"
      ],
      "execution_count": null,
      "outputs": [
        {
          "output_type": "stream",
          "name": "stdout",
          "text": [
            "Guess This Five-Letter Fruit!\n",
            "\n",
            "Guess a Character: a\n",
            "_ a  _ _ _ \n",
            "\n",
            "Guess a Character: p\n",
            "Wrong! 3 guess(es) left.\n",
            "_ a  _ _ _ \n",
            "\n",
            "Guess a Character: g\n",
            "Wrong! 2 guess(es) left.\n",
            "_ a  _ _ _ \n",
            "\n",
            "Guess a Character: n\n",
            "n  a  n  _ _ \n",
            "\n",
            "Guess a Character: c\n",
            "n  a  n  c  _ \n",
            "\n",
            "You Lose!\n",
            "The word is nance\n"
          ]
        }
      ]
    },
    {
      "cell_type": "code",
      "metadata": {
        "id": "_bXkstqjOJ4N",
        "colab": {
          "base_uri": "https://localhost:8080/"
        },
        "outputId": "293491e9-49dd-4e00-9c72-8d9c94420031"
      },
      "source": [
        "# Open file in read mode\n",
        "file1 = open('menu.txt','r')\n",
        "# read file and store in lines variable\n",
        "lines = file1.readlines()\n",
        "\n",
        "# Create empty lists\n",
        "menu_item = []\n",
        "menu_price = []\n",
        "# loop to store item and price in list\n",
        "for line in lines:\n",
        "  # Create empty string\n",
        "  item = \"\"\n",
        "  # split by space each line\n",
        "  words = line.split()\n",
        "  index = 0\n",
        "  # loop to check word is item name or price\n",
        "  while index < len(words):\n",
        "    # Add to item string until $ not found in words\n",
        "    if words[index][0] != \"$\":\n",
        "      item += words[index] + \" \"\n",
        "    # else break\n",
        "    else:\n",
        "      break\n",
        "    # increment index value\n",
        "    index += 1\n",
        "  # Add to price after $ sign\n",
        "  price = words[index][1:] +\"\\n\"\n",
        "  # add to both list\n",
        "  menu_item.append(item)\n",
        "  menu_price.append(price)\n",
        "  \n",
        "# print lists\n",
        "print(menu_item)\n",
        "print(menu_price)\n",
        "\n",
        "# loop until user enter 4\n",
        "doContinue = 1\n",
        "while doContinue == 1:\n",
        "  print(\"1. Add item\")\n",
        "  print(\"2. Delete item\")\n",
        "  print(\"3. Update price\")\n",
        "  print(\"4. Exit\")\n",
        "  # get user input\n",
        "  choice = int(input(\"Enter choice: \"))\n",
        "  if choice == 1:\n",
        "    # add item\n",
        "    item = input(\"Enter item name: \")\n",
        "    price = input(\"Enter item's price: \")\n",
        "    item += \" \"\n",
        "    menu_item.append(item)\n",
        "    price += \"\\n\"\n",
        "    menu_price.append(price)\n",
        "  elif choice == 2:\n",
        "    # delete item\n",
        "    for index in range(len(menu_item)):\n",
        "      print(str(index+1)+ \" \"+ menu_item[index]+\" $\"+menu_price[index])\n",
        "    item_no = int(input(\"Enter item number to be deleted: \"))\n",
        "    # delete item name and price from list\n",
        "    menu_price.pop(item_no-1)\n",
        "    menu_item.pop(item_no-1)\n",
        "  elif choice == 3:\n",
        "    # update price\n",
        "    for index in range(len(menu_item)):\n",
        "      print(str(index+1)+ \" \"+ menu_item[index]+\" $\"+menu_price[index])\n",
        "    item_no = int(input(\"Enter item number to be updated: \"))\n",
        "    new_price = input(\"Enter the item's new price: \")\n",
        "    new_price += \"\\n\"\n",
        "    # Update item price\n",
        "    menu_price[item_no-1] = new_price\n",
        "  elif choice == 4:\n",
        "    # Exit\n",
        "    doContinue = 0\n",
        "  else:\n",
        "    print(\"Invalid choice.\")\n",
        "  \n",
        "# close the file\n",
        "file1.close()\n",
        "\n",
        "# Create new file and write the end result\n",
        "file_write = open('new_menu.txt','w')\n",
        "for index in range(len(menu_item)):\n",
        "  file_write.write(menu_item[index]+ \" \"+menu_price[index])\n",
        "# close the file\n",
        "file_write.close()\n",
        "############"
      ],
      "execution_count": null,
      "outputs": [
        {
          "name": "stdout",
          "output_type": "stream",
          "text": [
            "['Ham and Egg Sandwich ', 'Bacon and Cheese Plate ', 'Tuna Salad ', 'Beef Soup ', 'Spicy Beef Barbeque ', 'Pork Barbeque ', 'Oven Chicken Barbeque ', 'Pulled Beef Barbeque Burger ', 'House Salad ', 'Pellegrino ', 'White Wine ', 'Red Wine ']\n",
            "['15.75\\n', '9.50\\n', '12.30\\n', '9.00\\n', '20.00\\n', '18.00\\n', '15.00\\n', '25.00\\n', '5.00\\n', '5.40\\n', '7.50\\n', '11.00\\n']\n",
            "1. Add item\n",
            "2. Delete item\n",
            "3. Update price\n",
            "4. Exit\n",
            "Enter choice: 1\n",
            "Enter item name: apple\n",
            "Enter item's price: 100\n",
            "1. Add item\n",
            "2. Delete item\n",
            "3. Update price\n",
            "4. Exit\n",
            "Enter choice: 4\n"
          ]
        }
      ]
    },
    {
      "cell_type": "code",
      "metadata": {
        "id": "VK11UGlbzyZY",
        "colab": {
          "base_uri": "https://localhost:8080/"
        },
        "outputId": "948fb3f3-0dd7-4733-d38b-8e3ceb56d518"
      },
      "source": [
        "l1 = [17, 13, 11, 10, 10, 4, 1, 11, 21, 10, 4, 9, 1, 8, 9, 8, 18, 19, 2, 1]\n",
        "print(f\"Elements Before Sorting: {l1}\")\n",
        "\n",
        "# loop until elements is not sorted\n",
        "sorted = False\n",
        "while sorted != True:\n",
        "    # nested loop to compare 2 elements\n",
        "    for i in range(len(l1)):\n",
        "        for j in range(0,len(l1)-i-1):\n",
        "            # set flag to false evrytime\n",
        "            flag = False\n",
        "\n",
        "            # check if first element is greter than second element\n",
        "            if l1[j] > l1[j+1]:\n",
        "                # if yes then swap it\n",
        "                l1[j], l1[j+1] = l1[j+1], l1[j]\n",
        "                # and set flag to true\n",
        "                flag = True\n",
        "\n",
        "            # if no elements is swapped then flag remains false\n",
        "            if flag == False:\n",
        "                # And break the loop by setting sorted to true\n",
        "                sorted = True\n",
        "  \n",
        "print(f\"Elements After Sorting: {l1}\")"
      ],
      "execution_count": null,
      "outputs": [
        {
          "output_type": "stream",
          "name": "stdout",
          "text": [
            "Elements Before Sorting: [17, 13, 11, 10, 10, 4, 1, 11, 21, 10, 4, 9, 1, 8, 9, 8, 18, 19, 2, 1]\n",
            "Elements After Sorting: [1, 1, 1, 2, 4, 4, 8, 8, 9, 9, 10, 10, 10, 11, 11, 13, 17, 18, 19, 21]\n"
          ]
        }
      ]
    },
    {
      "cell_type": "code",
      "metadata": {
        "id": "fngllsXPb6uV",
        "colab": {
          "base_uri": "https://localhost:8080/"
        },
        "outputId": "fe2f6402-bc0c-4b83-b027-da0de753e27a"
      },
      "source": [
        "def fahrenheit(celsius):\n",
        "    return (9 / 5) * celsius + 32;\n",
        "\n",
        "def main():\n",
        "    print(\"%8s %12s\" %(\"Celsius\", \"Fahrenheit\"))\n",
        "    for i in range(101):\n",
        "        C = i\n",
        "        F = fahrenheit(C)\n",
        "        print(\"%6s %3s %6s\" %(\"{:.1f}\".format(C),\":\", \"{:.1f}\".format(F)))\n",
        "\n",
        "main()"
      ],
      "execution_count": null,
      "outputs": [
        {
          "output_type": "stream",
          "name": "stdout",
          "text": [
            " Celsius   Fahrenheit\n",
            "   0.0   :   32.0\n",
            "   1.0   :   33.8\n",
            "   2.0   :   35.6\n",
            "   3.0   :   37.4\n",
            "   4.0   :   39.2\n",
            "   5.0   :   41.0\n",
            "   6.0   :   42.8\n",
            "   7.0   :   44.6\n",
            "   8.0   :   46.4\n",
            "   9.0   :   48.2\n",
            "  10.0   :   50.0\n",
            "  11.0   :   51.8\n",
            "  12.0   :   53.6\n",
            "  13.0   :   55.4\n",
            "  14.0   :   57.2\n",
            "  15.0   :   59.0\n",
            "  16.0   :   60.8\n",
            "  17.0   :   62.6\n",
            "  18.0   :   64.4\n",
            "  19.0   :   66.2\n",
            "  20.0   :   68.0\n",
            "  21.0   :   69.8\n",
            "  22.0   :   71.6\n",
            "  23.0   :   73.4\n",
            "  24.0   :   75.2\n",
            "  25.0   :   77.0\n",
            "  26.0   :   78.8\n",
            "  27.0   :   80.6\n",
            "  28.0   :   82.4\n",
            "  29.0   :   84.2\n",
            "  30.0   :   86.0\n",
            "  31.0   :   87.8\n",
            "  32.0   :   89.6\n",
            "  33.0   :   91.4\n",
            "  34.0   :   93.2\n",
            "  35.0   :   95.0\n",
            "  36.0   :   96.8\n",
            "  37.0   :   98.6\n",
            "  38.0   :  100.4\n",
            "  39.0   :  102.2\n",
            "  40.0   :  104.0\n",
            "  41.0   :  105.8\n",
            "  42.0   :  107.6\n",
            "  43.0   :  109.4\n",
            "  44.0   :  111.2\n",
            "  45.0   :  113.0\n",
            "  46.0   :  114.8\n",
            "  47.0   :  116.6\n",
            "  48.0   :  118.4\n",
            "  49.0   :  120.2\n",
            "  50.0   :  122.0\n",
            "  51.0   :  123.8\n",
            "  52.0   :  125.6\n",
            "  53.0   :  127.4\n",
            "  54.0   :  129.2\n",
            "  55.0   :  131.0\n",
            "  56.0   :  132.8\n",
            "  57.0   :  134.6\n",
            "  58.0   :  136.4\n",
            "  59.0   :  138.2\n",
            "  60.0   :  140.0\n",
            "  61.0   :  141.8\n",
            "  62.0   :  143.6\n",
            "  63.0   :  145.4\n",
            "  64.0   :  147.2\n",
            "  65.0   :  149.0\n",
            "  66.0   :  150.8\n",
            "  67.0   :  152.6\n",
            "  68.0   :  154.4\n",
            "  69.0   :  156.2\n",
            "  70.0   :  158.0\n",
            "  71.0   :  159.8\n",
            "  72.0   :  161.6\n",
            "  73.0   :  163.4\n",
            "  74.0   :  165.2\n",
            "  75.0   :  167.0\n",
            "  76.0   :  168.8\n",
            "  77.0   :  170.6\n",
            "  78.0   :  172.4\n",
            "  79.0   :  174.2\n",
            "  80.0   :  176.0\n",
            "  81.0   :  177.8\n",
            "  82.0   :  179.6\n",
            "  83.0   :  181.4\n",
            "  84.0   :  183.2\n",
            "  85.0   :  185.0\n",
            "  86.0   :  186.8\n",
            "  87.0   :  188.6\n",
            "  88.0   :  190.4\n",
            "  89.0   :  192.2\n",
            "  90.0   :  194.0\n",
            "  91.0   :  195.8\n",
            "  92.0   :  197.6\n",
            "  93.0   :  199.4\n",
            "  94.0   :  201.2\n",
            "  95.0   :  203.0\n",
            "  96.0   :  204.8\n",
            "  97.0   :  206.6\n",
            "  98.0   :  208.4\n",
            "  99.0   :  210.2\n",
            " 100.0   :  212.0\n"
          ]
        }
      ]
    },
    {
      "cell_type": "code",
      "metadata": {
        "id": "QkQetj7i8SWQ",
        "colab": {
          "base_uri": "https://localhost:8080/"
        },
        "outputId": "74dec0a0-5124-47fb-bd13-d06df5b61513"
      },
      "source": [
        "# find factorial of 7 \n",
        "num = 7\n",
        "\n",
        "# using for loop\n",
        "# initialise fact as 1\n",
        "fact = 1\n",
        "# loop starts from 1 to 7\n",
        "for i in range(1,8):\n",
        "  # multiply fact variable with i \n",
        "  # and assign to variable fact\n",
        "  fact *= i\n",
        "# print factorial of 7\n",
        "print(f\"Factorial of {num} using for loop is   : {fact}\")\n",
        "\n",
        "# using while loop\n",
        "# initialise fact as 1\n",
        "fact = 1\n",
        "# loop until num is greater than 0\n",
        "# and assign num to i\n",
        "i = num\n",
        "while i > 0:\n",
        "  # multiply fact with i \n",
        "  # and assign it to fact\n",
        "  fact *= i\n",
        "  # decrement i by 1 on each iteration\n",
        "  i-=1\n",
        "# print factorial of 7\n",
        "print(f\"Factorial of {num} using while loop is : {fact}\")\n"
      ],
      "execution_count": null,
      "outputs": [
        {
          "output_type": "stream",
          "name": "stdout",
          "text": [
            "Factorial of 7 using for loop is   : 5040\n",
            "Factorial of 7 using while loop is : 5040\n"
          ]
        }
      ]
    },
    {
      "cell_type": "code",
      "metadata": {
        "colab": {
          "base_uri": "https://localhost:8080/"
        },
        "id": "NRUC8O4TAZ9s",
        "outputId": "5a2430fe-7beb-4ef3-90b8-c7831316f83b"
      },
      "source": [
        "from math import sqrt\n",
        "def distance(city_a, city_b):\n",
        "  x1 = city_a[0]\n",
        "  y1 = city_a[1]\n",
        "  x2 = city_b[0]\n",
        "  y2 = city_b[1]\n",
        "  \n",
        "  distance = sqrt(((x1 - x2) ** 2) + ((y1 - y2) ** 2))\n",
        "  print(distance)\n",
        "\n",
        "\n",
        "def make_city(city, x, y):\n",
        "  return x, y\n",
        "\n",
        "city_a = make_city('city_a', 0, 1)\n",
        "city_b = make_city('city_b', 0, 2)\n",
        "distance(city_a, city_b)\n",
        "\n",
        "city_c = make_city('city_c', 6.5, 12)\n",
        "city_d = make_city('city_d', 2.5, 15)\n",
        "distance(city_c, city_d)\n"
      ],
      "execution_count": null,
      "outputs": [
        {
          "output_type": "stream",
          "name": "stdout",
          "text": [
            "1.0\n",
            "5.0\n"
          ]
        }
      ]
    },
    {
      "cell_type": "code",
      "metadata": {
        "id": "dia8J9a7AkFC",
        "colab": {
          "base_uri": "https://localhost:8080/"
        },
        "outputId": "cef6f964-5b08-4949-8c37-567dda2247ce"
      },
      "source": [
        "def main():\n",
        "  m = float(input(\"Enter object's mass in klograms: \"))\n",
        "  v = float(input(\"Enter object's velocity in meters per second: \"))\n",
        "  print(f\"Object's Kinetic Energy is: {kinetic_energy(m, v):.2f}\")\n",
        "\n",
        "\n",
        "def kinetic_energy(mass, velocity):\n",
        "  KE = (mass * (velocity ** 2) )/ 2\n",
        "  return KE\n",
        "\n",
        "\n",
        "main()"
      ],
      "execution_count": null,
      "outputs": [
        {
          "output_type": "stream",
          "name": "stdout",
          "text": [
            "Enter object's mass in klograms: 1.87\n",
            "Enter object's velocity in meters per second: 40\n",
            "Object's Kinetic Energy is: 1496.00\n"
          ]
        }
      ]
    },
    {
      "cell_type": "code",
      "metadata": {
        "colab": {
          "base_uri": "https://localhost:8080/"
        },
        "id": "Ywews2hRvAEC",
        "outputId": "3681c8fa-a8af-4250-d94e-82ffc3192486"
      },
      "source": [
        "txt = \"Welcome to Vaccination Center\"\n",
        "x = txt.center(50)\n",
        "print(x)\n",
        "\n",
        "fname = input(\"Enter First name: \")\n",
        "lname = input(\"Enter Last Name: \")\n",
        "\n",
        "day = int(input(\"Enter Day of Birth: \"))\n",
        "while day > 31 or day < 1:\n",
        "    day = int(input(\"Enter Day of Birth: \"))\n",
        "\n",
        "month = int(input(\"Enter Month of Birth: \"))\n",
        "while month > 12 or month < 1:\n",
        "    month = int(input(\"Enter Month of Birth: \"))\n",
        "\n",
        "year = int(input(\"Enter Year of Birth: \"))\n",
        "while year > 2006 or year < 1920:\n",
        "    year = int(input(\"Enter Year of Birth: \"))\n",
        "\n",
        "\n",
        "vday = int(input(\"Enter Day of Vaccination: \"))\n",
        "while vday > 31 or vday < 1:\n",
        "    vday = int(input(\"Enter Day of Vaccination: \"))\n",
        "\n",
        "vmonth = int(input(\"Enter Month of Vaccination: \"))\n",
        "while vmonth > 12 or vmonth < 1:\n",
        "    vmonth = int(input(\"Enter Month of Vaccination: \"))\n",
        "\n",
        "vyear = int(input(\"Enter Year of Vaccination: \"))\n",
        "while vyear > 2021 or vyear < 2020:\n",
        "    vyear = int(input(\"Enter Year of Vaccination: \"))\n",
        "\n",
        "vname = input(\"Enter name of Vaccination: \")\n",
        "centerOfVaccination = input(\"Enter center of the Vaccination: \").capitalize()\n",
        "lotOfVaccination = input(\"Enter lot of Vaccination: \")\n",
        "\n",
        "\n",
        "# ----------------------------------------------------------------------------\n",
        "# Generating Report\n",
        "print()\n",
        "print(f\"%-30s: {fname} {lname}\" % (\"Name\"))\n",
        "print(f\"%-30s: {day}/{month}/{year}\" % (\"Date Of Birth\"))\n",
        "print(f\"%-30s: {vday}/{vmonth}/{vyear}\" % (\"Date Of Vaccination\"))\n",
        "print(f\"%-30s: {vname}\" % (\"Name Of Vaccination\"))\n",
        "print(f\"%-30s: {centerOfVaccination}\" % (\"Center Of Vaccination\"))\n",
        "print(f\"%-30s: {lotOfVaccination}\" % (\"Lot Of Vaccination\"))\n",
        "print(\"-----------------------------------------------\")\n",
        "print(\"\\nThank you for choosing our services.\")\n",
        "print(\"Report generated successfully.\")\n"
      ],
      "execution_count": null,
      "outputs": [
        {
          "output_type": "stream",
          "name": "stdout",
          "text": [
            "          Welcome to Vaccination Center           \n",
            "Enter First name: Arisha\n",
            "Enter Last Name: Aftab\n",
            "Enter Day of Birth: 15\n",
            "Enter Month of Birth: 05\n",
            "Enter Year of Birth: 1995\n",
            "Enter Day of Vaccination: 15\n",
            "Enter Month of Vaccination: 05\n",
            "Enter Year of Vaccination: 2021\n",
            "Enter name of Vaccination: Pfizer\n",
            "Enter center of the Vaccination: Montreal\n",
            "Enter lot of Vaccination: CW012\n",
            "\n",
            "Name                          : Arisha Aftab\n",
            "Date Of Birth                 : 15/5/1995\n",
            "Date Of Vaccination           : 15/5/2021\n",
            "Name Of Vaccination           : Pfizer\n",
            "Center Of Vaccination         : Montreal\n",
            "Lot Of Vaccination            : CW012\n",
            "-----------------------------------------------\n",
            "\n",
            "Thank you for choosing our services.\n",
            "Report generated successfully.\n"
          ]
        }
      ]
    },
    {
      "cell_type": "code",
      "metadata": {
        "colab": {
          "base_uri": "https://localhost:8080/"
        },
        "id": "wj7lX4l45IZP",
        "outputId": "e7add329-9216-41c6-8319-8f4bd20bcde0"
      },
      "source": [
        "s1 = input(\"Enter a string s1: \")\n",
        "s2 = input(\"Enter a string s2: \")\n",
        "\n",
        "# get length of string\n",
        "s1length = len(s1)\n",
        "s2length = len(s2)\n",
        "# loop in first string\n",
        "for i in range(s1length - s2length):\n",
        "    # using slicing to check \n",
        "    if s1[i:i+s2length] == s2:\n",
        "       print(f\"Matched at index {i}\")"
      ],
      "execution_count": null,
      "outputs": [
        {
          "output_type": "stream",
          "name": "stdout",
          "text": [
            "Enter a string s1: Welcome to python\n",
            "Enter a string s2: come\n",
            "Matched at index 3\n"
          ]
        }
      ]
    },
    {
      "cell_type": "code",
      "metadata": {
        "id": "xOvI5Y7c7GPy",
        "colab": {
          "base_uri": "https://localhost:8080/"
        },
        "outputId": "e3b86b45-5be2-41ac-ab9b-a1b6c909099d"
      },
      "source": [
        "# loop to check 3 digit number starting with 5\n",
        "# is prime number or not\n",
        "for i in range(500, 600):\n",
        "    num = i\n",
        "\n",
        "    # prime numbers are greater than 1\n",
        "    if num > 1:\n",
        "        # check for factors\n",
        "        for i in range(2,num):\n",
        "            if (num % i) == 0:\n",
        "                break\n",
        "        else:\n",
        "            print(num,\"is a prime number\")\n",
        "            "
      ],
      "execution_count": null,
      "outputs": [
        {
          "output_type": "stream",
          "name": "stdout",
          "text": [
            "503 is a prime number\n",
            "509 is a prime number\n",
            "521 is a prime number\n",
            "523 is a prime number\n",
            "541 is a prime number\n",
            "547 is a prime number\n",
            "557 is a prime number\n",
            "563 is a prime number\n",
            "569 is a prime number\n",
            "571 is a prime number\n",
            "577 is a prime number\n",
            "587 is a prime number\n",
            "593 is a prime number\n",
            "599 is a prime number\n"
          ]
        }
      ]
    },
    {
      "cell_type": "code",
      "metadata": {
        "id": "sggX-2SBrdQT",
        "colab": {
          "base_uri": "https://localhost:8080/"
        },
        "outputId": "df91b86f-91f6-4f93-a96e-0e8b253700f1"
      },
      "source": [
        "import re\n",
        "txt = ['pit', 'spot', 'spate', 'slap two',\n",
        "       'respite', 'pi', 'Pot', 'peat', 'part', 'top it']\n",
        "\n",
        "regex = r\"p.{1}t\"\n",
        "\n",
        "for word in txt:\n",
        "    x = re.search(regex, word)\n",
        "    if (x):\n",
        "        print(f\"Match    -> {word}\")\n",
        "    else:\n",
        "        print(f\"No Match -> {word}\")"
      ],
      "execution_count": null,
      "outputs": [
        {
          "output_type": "stream",
          "name": "stdout",
          "text": [
            "Match    -> pit\n",
            "Match    -> spot\n",
            "Match    -> spate\n",
            "Match    -> slap two\n",
            "Match    -> respite\n",
            "No Match -> pi\n",
            "No Match -> Pot\n",
            "No Match -> peat\n",
            "No Match -> part\n",
            "No Match -> top it\n"
          ]
        }
      ]
    },
    {
      "cell_type": "code",
      "metadata": {
        "id": "VrtuBgKS_f4s",
        "colab": {
          "base_uri": "https://localhost:8080/"
        },
        "outputId": "c2dba27c-4335-4a97-e052-db7eaf39fae7"
      },
      "source": [
        "prompt = int(input(\"Enter length in inches: \"))\n",
        "ft = prompt / 12\n",
        "yd = ft / 3\n",
        "f = \"foot\"\n",
        "y = \"yards\"\n",
        "if ft == 1:\n",
        "  f = \"feet\"\n",
        "if yd == 1:\n",
        "  y = \"yard\"\n",
        "\n",
        "print(f\"{prompt} inches = {ft} {f} = {yd} {y}\")"
      ],
      "execution_count": null,
      "outputs": [
        {
          "output_type": "stream",
          "name": "stdout",
          "text": [
            "Enter length in inches: 36\n",
            "36 inches = 3.0 foot = 1.0 yard\n"
          ]
        }
      ]
    },
    {
      "cell_type": "code",
      "metadata": {
        "id": "X5TO__99okmU",
        "colab": {
          "base_uri": "https://localhost:8080/"
        },
        "outputId": "60cc4890-740a-4f83-f61e-93940a19267f"
      },
      "source": [
        "# initialising prizes\n",
        "small = 10\n",
        "medium = 12\n",
        "large = 15\n",
        "meat = 2\n",
        "veggie = 1\n",
        "combo = 3\n",
        "original = 0\n",
        "handTossed = 1\n",
        "crispy = 1.50\n",
        "stuffed = 3\n",
        "\n",
        "total = 0\n",
        "print(\"Build your pizza!\")\n",
        "size = input(\n",
        "    \"\\nWe have [S]mall, [M]edium, [L]arge pizza, which size do you prefer? \")\n",
        "while size.upper() not in ['S', 'M', 'L']:\n",
        "    size = input(\n",
        "        \"Your pizza is only available in size [S]mall, [M]edium or [L]arge: \")\n",
        "\n",
        "s = \"\"\n",
        "sizePrice = 0\n",
        "if size.upper() == \"L\":\n",
        "    s = \"large\"\n",
        "    sizePrice = large\n",
        "    total += large\n",
        "elif size.upper() == \"M\":\n",
        "    s = \"medium\"\n",
        "    sizePrice = medium\n",
        "    total += medium\n",
        "elif size.upper() == \"S\":\n",
        "    s = \"small\"\n",
        "    sizePrice = small\n",
        "    total += small\n",
        "\n",
        "print(f\"You have chosen a {s} pizza.\")\n",
        "\n",
        "toppings = input(\n",
        "    \"\\nWould you like [M]eat toppings, [V]eggie toppings or [C]ombo toppings with both meat and veggie? \")\n",
        "while toppings.upper() not in ['M', 'V', 'C']:\n",
        "    toppings = input(\n",
        "        \"Please enter your what toppings you would like to order, [M]eat, [V]eggie or [C]ombo: \")\n",
        "\n",
        "t = \"\"\n",
        "toppingPrice = 0\n",
        "if toppings.upper() == \"M\":\n",
        "    t = \"meat\"\n",
        "    toppingPrice = meat\n",
        "    total += meat\n",
        "elif toppings.upper() == \"V\":\n",
        "    t = \"veggie\"\n",
        "    toppingPrice = veggie\n",
        "    total += veggie\n",
        "elif toppings.upper() == \"C\":\n",
        "    t = \"combo\"\n",
        "    toppingPrice = combo\n",
        "    total += combo\n",
        "\n",
        "print(f\"You have chosen a {s} {t} pizza.\")\n",
        "\n",
        "if toppings.upper() == 'M':\n",
        "    crust = input(\"\\nWould you like [O]riginal Crust or [S]tuffed Crust? \")\n",
        "    c = \"\"\n",
        "    crustPrice = 0\n",
        "    while crust.upper() not in ['O', 'S']:\n",
        "        crust = input(\n",
        "            \"Please enter your crust preference, [O]riginal Crust or [S]tuffed Crust: \")\n",
        "    if crust.upper() == \"O\":\n",
        "        total += original\n",
        "        crustPrice = original\n",
        "        c = \"original\"\n",
        "    elif crust.upper() == 'S':\n",
        "        total += stuffed\n",
        "        crustPrice = stuffed\n",
        "        c = \"stuffed\"\n",
        "\n",
        "elif toppings.upper() == 'V':\n",
        "    crust = input(\"\\nWould you like [O]riginal Crust or [C]rispy Crust? \")\n",
        "    c = \"\"\n",
        "    crustPrice = 0\n",
        "    while crust.upper() not in ['O', 'C']:\n",
        "        crust = input(\n",
        "            \"Please enter your crust preference, [O]riginal Crust or [C]rispy Crust: \")\n",
        "    if crust.upper() == \"O\":\n",
        "        total += original\n",
        "        crustPrice = original\n",
        "        c = \"original\"\n",
        "    elif crust.upper() == 'C':\n",
        "        total += crispy\n",
        "        crustPrice = crispy\n",
        "        c = \"crispy\"\n",
        "elif toppings.upper() == 'C':\n",
        "    crust = input(\n",
        "        \"\\nWould you like [O]riginal Crust, [H]and Tossed crust or [S]tuffed Crust? \")\n",
        "    c = \"\"\n",
        "    crustPrice = 0\n",
        "    while crust.upper() not in ['O', 'H', 'S']:\n",
        "        crust = input(\n",
        "            \"Please enter your crust preference, [O]riginal Crust, [H]and Tossed crust or [S]tuffed Crust: \")\n",
        "    if crust.upper() == \"O\":\n",
        "        total += original\n",
        "        crustPrice = original\n",
        "        c = \"original\"\n",
        "    elif crust.upper() == \"H\":\n",
        "        total += handTossed\n",
        "        crustPrice = handTossed\n",
        "        c = \"handTossed\"\n",
        "    elif crust.upper() == 'S':\n",
        "        total += stuffed\n",
        "        crustPrice = stuffed\n",
        "        c = \"stuffed\"\n",
        "\n",
        "print()\n",
        "print(\"*\" * 52)\n",
        "print(\"Your Order Summary\".center(52))\n",
        "print(\"%-25s %-19s $%5s\" %\n",
        "      (\"Your pizza size\", \"Large\", \"{0:.2f}\".format(sizePrice)))\n",
        "print(\"%-25s %-18s +$%5s\" %\n",
        "      (\"Your topping option\", \"Veggie\", \"{0:.2f}\".format(toppingPrice)))\n",
        "print(\"%-25s %-18s +$%5s\" %\n",
        "      (\"Your pizza crust\", \"Crispy\", \"{0:.2f}\".format(crustPrice)))\n",
        "print(\"=\"*52)\n",
        "print(\"%-45s $%5s\" % (\"Total Price:\", \"{0:.2f}\".format(total)))\n"
      ],
      "execution_count": null,
      "outputs": [
        {
          "output_type": "stream",
          "name": "stdout",
          "text": [
            "Build your pizza!\n",
            "\n",
            "We have [S]mall, [M]edium, [L]arge pizza, which size do you prefer? l\n",
            "You have chosen a large pizza.\n",
            "\n",
            "Would you like [M]eat toppings, [V]eggie toppings or [C]ombo toppings with both meat and veggie? c\n",
            "You have chosen a large combo pizza.\n",
            "\n",
            "Would you like [O]riginal Crust, [H]and Tossed crust or [S]tuffed Crust? s\n",
            "\n",
            "****************************************************\n",
            "                 Your Order Summary                 \n",
            "Your pizza size           Large               $15.00\n",
            "Your topping option       Veggie             +$ 3.00\n",
            "Your pizza crust          Crispy             +$ 3.00\n",
            "====================================================\n",
            "Total Price:                                  $21.00\n"
          ]
        }
      ]
    },
    {
      "cell_type": "code",
      "metadata": {
        "id": "qKG024tP6Igl",
        "colab": {
          "base_uri": "https://localhost:8080/"
        },
        "outputId": "d2171e5e-e57c-4780-8f26-66c93a8b6c1a"
      },
      "source": [
        "def main():\n",
        "  purchase_amt = float(input(\"Enter the amount of purchase: \"))\n",
        "  state_sales_tax = calculateStateSalesTax(purchase_amt)\n",
        "  country_sales_tax = calculateCountrySalesTax(purchase_amt)\n",
        "  total_sales_tax = calculateTotalSalesTax(state_sales_tax, country_sales_tax)\n",
        "  total_sale = purchase_amt + total_sales_tax\n",
        "  printData(purchase_amt, state_sales_tax, country_sales_tax, total_sales_tax, total_sale)\n",
        "\n",
        "\n",
        "def calculateStateSalesTax(purchase_amt):\n",
        "  state_sales_tax = 0.005 * purchase_amt\n",
        "  return state_sales_tax\n",
        "\n",
        "\n",
        "def calculateCountrySalesTax(purchase_amt):\n",
        "  country_sales_tax = 0.025 * purchase_amt\n",
        "  return country_sales_tax\n",
        "\n",
        "\n",
        "def calculateTotalSalesTax(state_sales_tax, country_sales_tax):\n",
        "  total_sales_tax = state_sales_tax + country_sales_tax\n",
        "  return total_sales_tax\n",
        "\n",
        "\n",
        "def printData(purchase_amt, state_sales_tax, country_sales_tax, total_sales_tax, total_sale):\n",
        "  print(\"The amount of purchase\", format(purchase_amt, \".2f\"))\n",
        "  print(\"The state sales tax\", format(state_sales_tax, \".2f\"))\n",
        "  print(\"The country sales tax\", format(country_sales_tax, \".2f\"))\n",
        "  print(\"The total sales tax\", format(total_sales_tax, \".2f\"))\n",
        "  print(\"The total of the sale\", format(total_sale, \".2f\"))\n",
        "\n",
        "main()"
      ],
      "execution_count": null,
      "outputs": [
        {
          "output_type": "stream",
          "name": "stdout",
          "text": [
            "Enter the amount of purchase: 1000\n",
            "The amount of purchase 1000.00\n",
            "The state sales tax 5.00\n",
            "The country sales tax 25.00\n",
            "The total sales tax 30.00\n",
            "The total of the sale 1030.00\n"
          ]
        }
      ]
    },
    {
      "cell_type": "code",
      "metadata": {
        "id": "LqczY-2LJem3",
        "colab": {
          "base_uri": "https://localhost:8080/"
        },
        "outputId": "b18e5d4f-5bdd-4bee-eb66-4fbef03fefec"
      },
      "source": [
        "fruits = {'Apple': 1.50, 'Orange': 1.00, 'Banana': 1.25, 'Guavava': 2.00, 'Grapes': 2.25, 'Pineapple': 2.5}\n",
        "fruitsPriceQty = {}\n",
        "for fruit in fruits.keys():\n",
        "  print(f\"Enter the quantity of {fruit} purchased: \", end = \"\")\n",
        "  qty = int(input())\n",
        "  fruitsPriceQty[fruit] = [fruits[fruit], qty]\n",
        "\n",
        "print(\"\\n\")\n",
        "total = 0\n",
        "for item in fruitsPriceQty.keys():\n",
        "  if fruitsPriceQty[item][1] != 0:\n",
        "    print(f\"{item} {fruitsPriceQty[item][0]} x {fruitsPriceQty[item][1]} = {fruitsPriceQty[item][0] * fruitsPriceQty[item][1]}\")\n",
        "    total += fruitsPriceQty[item][0] * fruitsPriceQty[item][1]\n",
        "    \n",
        "print(f\"Total is {total}\")"
      ],
      "execution_count": null,
      "outputs": [
        {
          "output_type": "stream",
          "name": "stdout",
          "text": [
            "Enter the quantity of Apple purchased: 20\n",
            "Enter the quantity of Orange purchased: 0\n",
            "Enter the quantity of Banana purchased: 12\n",
            "Enter the quantity of Guavava purchased: 5\n",
            "Enter the quantity of Grapes purchased: 0\n",
            "Enter the quantity of Pineapple purchased: 0\n",
            "\n",
            "\n",
            "Apple 1.5 x 20 = 30.0\n",
            "Banana 1.25 x 12 = 15.0\n",
            "Guavava 2.0 x 5 = 10.0\n",
            "Total is 55.0\n"
          ]
        }
      ]
    },
    {
      "cell_type": "code",
      "metadata": {
        "id": "DWT-HkaVv38R",
        "colab": {
          "base_uri": "https://localhost:8080/"
        },
        "outputId": "c0fe55f5-8d72-4601-ae20-9c97cfe11060"
      },
      "source": [
        "contents = (\"\"\n",
        "  \"Chapter 1: set up\\n\"\n",
        "  \"The little boy in bed was scared.\\n\"\n",
        "  \"Chapter 2: suspense\\n\"\n",
        "  \"\\\"Daddy, daddy there's a monster under my bed.\\\"\\n\"\n",
        "  \"Chapter 3: climax\\n\"\n",
        "  \"The father then looked under the bed .. and saw his son.\\n\"\n",
        "  \"Chapter 4: resolution\\n\"\n",
        "  \"\\\"Daddy, daddy, someone's in my bed!\\\"\\n\")\n",
        "\n",
        "# Variables:\n",
        "mystery11 = \"srbGIE JLWokvQeR DPhyItWhYolnz\"\n",
        "mystery12 = \"AgDoSaMqtigaDF FmSAMcgZizueTSnckcYOeUM hzRVVoapceukbasUk\"\n",
        "mystery13 = \"PDWQHwnHquOmfVA lTsxJise YV0Vt9wH4Ct qKouPfQgnQLIRvj\"\n",
        "  \n",
        "\n",
        "s1 = mystery11[::-1]\n",
        "newmystery11 = \"\"\n",
        "for i in range(1,len(s1),2):\n",
        "  newmystery11 += s1[i]\n",
        "  if s1[i] == \"I\":\n",
        "    break\n",
        "\n",
        "newmystery11 = newmystery11[::-1]\n",
        "print(newmystery11)\n",
        "\n",
        "# ------------------------------------\n",
        "s2 = mystery12\n",
        "newmystery22 = \"\"\n",
        "for i in range(2,len(s2),3):\n",
        "  newmystery22 += s2[i]\n",
        "  if s2[i] == \"s\":\n",
        "    break\n",
        "\n",
        "print(newmystery22)\n",
        "\n",
        "# ------------------------------------\n",
        "s3 = mystery13[::-1]\n",
        "newmystery13 = \"\"\n",
        "for i in range(3, len(s3), 3):\n",
        "  newmystery13 += s3[i]\n",
        "  if s3[i] == \"n\" and i != 6:\n",
        "    break\n",
        "\n",
        "print(newmystery13)"
      ],
      "execution_count": null,
      "outputs": [
        {
          "output_type": "stream",
          "name": "stdout",
          "text": [
            "I Love Python\n",
            "Data Science Rocks\n",
            "Info 490 is fun\n"
          ]
        }
      ]
    },
    {
      "cell_type": "code",
      "metadata": {
        "id": "1uxLk-crkCu7",
        "colab": {
          "base_uri": "https://localhost:8080/"
        },
        "outputId": "287a1459-0dd2-41f4-a6fa-83c5e72657b8"
      },
      "source": [
        "l1 = [1, 2, 3, 4, 5]\n",
        "l2 = [6, 7, 8, 9, 10]\n",
        "result = l1 + l2\n",
        "print(result)"
      ],
      "execution_count": null,
      "outputs": [
        {
          "output_type": "stream",
          "name": "stdout",
          "text": [
            "[1, 2, 3, 4, 5, 6, 7, 8, 9, 10]\n"
          ]
        }
      ]
    },
    {
      "cell_type": "code",
      "metadata": {
        "id": "j6tWx2dEDjGi",
        "colab": {
          "base_uri": "https://localhost:8080/"
        },
        "outputId": "3b08e355-dab4-4128-b1ee-8b0e3adcaf58"
      },
      "source": [
        "import re\n",
        "expression = r\"^[a-zA-Z0-9]+[a-zA-Z0-9]+[a-zA-Z0-9]$\"\n",
        "words = ['abcd','abcd123','123abc','$abc','abc ']\n",
        "for word in words:\n",
        "  if re.match(expression, word):\n",
        "    print(f\"{word}: Matched\")\n",
        "  else:\n",
        "    print(f\"{word}: Not Matched\")\n"
      ],
      "execution_count": null,
      "outputs": [
        {
          "output_type": "stream",
          "name": "stdout",
          "text": [
            "abcd: Matched\n",
            "abcd123: Matched\n",
            "123abc: Matched\n",
            "$abc: Not Matched\n",
            "abc : Not Matched\n"
          ]
        }
      ]
    },
    {
      "cell_type": "code",
      "metadata": {
        "id": "32_aK6lIudd-",
        "colab": {
          "base_uri": "https://localhost:8080/"
        },
        "outputId": "3d69872a-6031-416e-9399-83e93c95e468"
      },
      "source": [
        "print(\"BLACKJACK!\")\n",
        "print(\"Blackjack payout is 3:2\\n\")\n",
        "# getting user input\n",
        "starting_money = float(input(\"Starting money:    \"))\n",
        "bet_amount = float(input(\"Bet amount:        \"))\n",
        "\n",
        "# calculate blackjack, winning, draw and losing amount\n",
        "blackjack = starting_money + bet_amount * 1.5\n",
        "win = starting_money + bet_amount\n",
        "push = starting_money\n",
        "lose = starting_money - bet_amount\n",
        "\n",
        "# printing all\n",
        "print(\"\\nENDING MONEY FOR A...\")\n",
        "print(f\"%-18s %.1f\" %(\"Blackjack:\", blackjack))\n",
        "print(f\"%-18s %.1f\" %(\"Win:\", win))\n",
        "print(f\"%-18s %.1f\" %(\"Push:\", push))\n",
        "print(f\"%-18s %.1f\" %(\"Lose:\", lose))\n",
        "\n",
        "print(\"\\nBye!\")"
      ],
      "execution_count": null,
      "outputs": [
        {
          "output_type": "stream",
          "name": "stdout",
          "text": [
            "BLACKJACK!\n",
            "Blackjack payout is 3:2\n",
            "\n",
            "Starting money:    100\n",
            "Bet amount:        10\n",
            "\n",
            "ENDING MONEY FOR A...\n",
            "Blackjack:         115.0\n",
            "Win:               110.0\n",
            "Push:              100.0\n",
            "Lose:              90.0\n",
            "\n",
            "Bye!\n"
          ]
        }
      ]
    },
    {
      "cell_type": "code",
      "metadata": {
        "id": "xhRXDjRbXQUu",
        "colab": {
          "base_uri": "https://localhost:8080/"
        },
        "outputId": "ef20a841-938a-4fc7-84e0-c2e2ee7db179"
      },
      "source": [
        "first = int(input(\"Enter number of sides on first die: \"))\n",
        "second = int(input(\"Enter number of sides on second die: \"))\n",
        "\n",
        "print(f\"\\nThere are {first*second} possible outcomes from rolling 1d{first} and 1d{second}:\")\n",
        "for i in range(1,first+1):\n",
        "  for j in range(1,second+1):\n",
        "    print(f\"({i}, {j})\")"
      ],
      "execution_count": null,
      "outputs": [
        {
          "output_type": "stream",
          "name": "stdout",
          "text": [
            "Enter number of sides on first die: 2\n",
            "Enter number of sides on second die: 3\n",
            "\n",
            "There are 6 possible outcomes from rolling 1d2 and 1d3:\n",
            "(1, 1)\n",
            "(1, 2)\n",
            "(1, 3)\n",
            "(2, 1)\n",
            "(2, 2)\n",
            "(2, 3)\n"
          ]
        }
      ]
    },
    {
      "cell_type": "code",
      "metadata": {
        "id": "kKnhNF53J02M",
        "colab": {
          "base_uri": "https://localhost:8080/"
        },
        "outputId": "a489eece-9ec2-45d2-8378-df14515d9f4b"
      },
      "source": [
        "import re\n",
        "expression = r\"[a-zA-Z0-9]*[0-9]+[a-z]{2}\"\n",
        "words = ['5678yr','abcd123','123abc','abc123abc','abc']\n",
        "for word in words:\n",
        "  if re.match(expression, word):\n",
        "    print(f\"{word}: Matched\")\n",
        "  else:\n",
        "    print(f\"{word}: Not Matched\")\n"
      ],
      "execution_count": null,
      "outputs": [
        {
          "output_type": "stream",
          "name": "stdout",
          "text": [
            "5678yr: Matched\n",
            "abcd123: Not Matched\n",
            "123abc: Matched\n",
            "abc123abc: Matched\n",
            "abc: Not Matched\n"
          ]
        }
      ]
    },
    {
      "cell_type": "code",
      "metadata": {
        "colab": {
          "base_uri": "https://localhost:8080/"
        },
        "id": "w-5Cvo3PMLhn",
        "outputId": "6fd5679c-2225-4472-e8ae-2db31b24f5f3"
      },
      "source": [
        "def Fibonacci_sequence(n):\n",
        "  fib = []\n",
        "  n1, n2 = 0, 1\n",
        "  count = 0\n",
        "  while count < n:\n",
        "      fib.append(n1)\n",
        "      nth = n1 + n2\n",
        "      # update values\n",
        "      n1 = n2\n",
        "      n2 = nth\n",
        "      count += 1\n",
        "  return fib\n",
        "\n",
        "print(Fibonacci_sequence(6))\n",
        "print(Fibonacci_sequence(7))"
      ],
      "execution_count": null,
      "outputs": [
        {
          "output_type": "stream",
          "name": "stdout",
          "text": [
            "[0, 1, 1, 2, 3, 5]\n",
            "[0, 1, 1, 2, 3, 5, 8]\n"
          ]
        }
      ]
    },
    {
      "cell_type": "code",
      "metadata": {
        "id": "C4rmhslno-2p",
        "colab": {
          "base_uri": "https://localhost:8080/"
        },
        "outputId": "2f799435-91a5-494b-ec58-776a0ba91bc3"
      },
      "source": [
        "num = int(input(\"Enter a large number: \"))\n",
        "if num % 3 == 0:\n",
        "  print(f\"When multiplied by 3: Quotient = {int(num/3)}, Denominator = {num}\")\n",
        "if num % 5 == 0:\n",
        "  print(f\"When multiplied by 5: Quotient = {int(num/5)}, Denominator = {num}\")\n",
        "if num % 7 == 0:\n",
        "  print(f\"When multiplied by 7: Quotient = {int(num/7)}, Denominator = {num}\")"
      ],
      "execution_count": null,
      "outputs": [
        {
          "output_type": "stream",
          "name": "stdout",
          "text": [
            "Enter a large number: 999\n",
            "When multiplied by 3: Quotient = 333, Denominator = 999\n"
          ]
        }
      ]
    },
    {
      "cell_type": "code",
      "metadata": {
        "colab": {
          "base_uri": "https://localhost:8080/"
        },
        "id": "bVzSPFK-wCz3",
        "outputId": "3b700244-5475-4caf-ad9b-5b8f426aba17"
      },
      "source": [
        "march1_2019 = \"Friday\"\n",
        "day = input(\"Enter a day: \")\n",
        "\n",
        "\n",
        "if day.lower() == \"friday\":\n",
        "  d = 1\n",
        "elif day.lower() == \"saturday\":\n",
        "  d = 2\n",
        "elif day.lower() == \"sunday\":\n",
        "  d = 3\n",
        "elif day.lower() == \"monday\":\n",
        "  d = 4\n",
        "elif day.lower() == \"tuesday\":\n",
        "  d = 5\n",
        "elif day.lower() == \"wednesday\":\n",
        "  d = 6\n",
        "elif day.lower() == \"thursday\":\n",
        "  d = 7\n",
        "\n",
        "print(f\"{day.capitalize()} in March 2019: \", end = \"\")\n",
        "for i in range(d,31+1,7):\n",
        "  print(i, end = \", \")"
      ],
      "execution_count": null,
      "outputs": [
        {
          "output_type": "stream",
          "name": "stdout",
          "text": [
            "Enter a day: saturday\n",
            "Saturday in March 2019: 2, 9, 16, 23, 30, "
          ]
        }
      ]
    },
    {
      "cell_type": "code",
      "metadata": {
        "id": "X44VoLAcatcB",
        "colab": {
          "base_uri": "https://localhost:8080/"
        },
        "outputId": "e6b82c0a-717f-483e-8ac3-8064ac32c0c1"
      },
      "source": [
        "import numpy as np\n",
        "\n",
        "# string = \"np.array([1, 1, 1, 1, 1])\"\n",
        "string = input(\"Enter any 1d array: \")\n",
        "\n",
        "# get list from string string  \n",
        "lst = string[10:-2]\n",
        "# store items into list separated by ,\n",
        "lst = lst.split(\", \")\n",
        "# convert to int datatype\n",
        "lst = [int(i) for i in lst]\n",
        "# convert to numpy array\n",
        "arr = np.array(lst)\n",
        "\n",
        "# check if equal or not\n",
        "result = np.all(arr == arr[0])\n",
        "if result:\n",
        "    print('Array has constant elements')\n",
        "else:\n",
        "    print('Array has different elements')"
      ],
      "execution_count": null,
      "outputs": [
        {
          "output_type": "stream",
          "name": "stdout",
          "text": [
            "Enter any 1d array: np.array([1, 2, 3, 4, 5])\n",
            "Array has different elements\n"
          ]
        }
      ]
    },
    {
      "cell_type": "code",
      "metadata": {
        "colab": {
          "base_uri": "https://localhost:8080/"
        },
        "id": "b2Ch5hqVCOA3",
        "outputId": "112cdd7f-3dac-40e4-9918-e3262bab0f7c"
      },
      "source": [
        "import csv\n",
        "import numpy as np\n",
        "\n",
        "l1 = []\n",
        "with open('/content/data.csv') as csv_file:\n",
        "    csv_reader = csv.reader(csv_file, delimiter=',')\n",
        "    # the below statement will skip the first row\n",
        "    next(csv_reader)\n",
        "    for lines in csv_reader:\n",
        "      l1.append(lines)\n",
        "\n",
        "arr = np.array(l1)\n",
        "print(arr)\n",
        "\n",
        "rows, columns = arr.shape\n",
        "\n",
        "print(\"Rows = \",rows)\n",
        "print(\"Columns = \", columns)"
      ],
      "execution_count": null,
      "outputs": [
        {
          "output_type": "stream",
          "name": "stdout",
          "text": [
            "[['2' '21' '22' '23' '24']\n",
            " ['3' '31' '32' '33' '34']\n",
            " ['4' '41' '42' '43' '44']\n",
            " ['5' '51' '52' '53' '54']]\n",
            "Rows =  4\n",
            "Columns =  5\n"
          ]
        }
      ]
    },
    {
      "cell_type": "code",
      "metadata": {
        "id": "enFzDV9CyuEo",
        "colab": {
          "base_uri": "https://localhost:8080/"
        },
        "outputId": "186a3961-4662-4a1f-b102-58d62d5f3be3"
      },
      "source": [
        "nums = input().split()\n",
        "if int(nums[1]) < int(nums[0]):\n",
        "  print(\"Second integer can't be less than the first.\")\n",
        "else:\n",
        "  for i in range(int(nums[0]), int(nums[1]) + 1, 5):\n",
        "    print(i, end =\" \")"
      ],
      "execution_count": null,
      "outputs": [
        {
          "output_type": "stream",
          "name": "stdout",
          "text": [
            "-15 10\n",
            "-15 -10 -5 0 5 10 "
          ]
        }
      ]
    },
    {
      "cell_type": "code",
      "metadata": {
        "id": "KpWNAPVcAgO1",
        "colab": {
          "base_uri": "https://localhost:8080/"
        },
        "outputId": "d86e2765-4c82-44a2-ec2c-46502b44925c"
      },
      "source": [
        "def menu():\n",
        "  print(\"a. Miles to kilometer\")\n",
        "  print(\"b. Gallons to liters\")\n",
        "  print(\"c. Pounds to kilogram\")\n",
        "  print(\"d. Inches to centimeter\")\n",
        "  print(\"e. Fahrenheit to celsius\")\n",
        "\n",
        "def main():\n",
        "  menu()\n",
        "  choice = input(\"Enter your choice: \").lower()\n",
        "  while choice not in ['a', 'b', 'c', 'd', 'e']:\n",
        "    print(\"Invalid choice. Please try again.\")\n",
        "    choice = input(\"Enter your choice: \").lower()\n",
        "  with open(\"conversion.txt\", \"w\") as file:\n",
        "    file.write(f\"%-20s %-20s %-20s %-20s\\n\" %(\"Original Unit\", \"Original Value\", \"Converted Unit\", \"Converted Value\"))\n",
        "    file.write(\"-\"*80)\n",
        "    file.write(\"\\n\")\n",
        "    for i in range(10):\n",
        "      originalValue = float(input(\"Enter value to convert: \"))\n",
        "      if choice == 'a':\n",
        "        originalUnit = \"Miles\"\n",
        "        convertedUnit = \"Kilometer\"\n",
        "        convertedValue = originalValue * 1.609344\n",
        "      file.write(f\"%-20s %-20s %-20s %-20s\\n\" %(originalUnit, \"{0:.2f}\".format(originalValue), convertedUnit, \"{0:.2f}\".format(convertedValue)))\n",
        "\n",
        "\n",
        "main()"
      ],
      "execution_count": null,
      "outputs": [
        {
          "name": "stdout",
          "output_type": "stream",
          "text": [
            "a. Miles to kilometer\n",
            "b. Gallons to liters\n",
            "c. Pounds to kilogram\n",
            "d. Inches to centimeter\n",
            "e. Fahrenheit to celsius\n",
            "Enter your choice: a\n",
            "Enter value to convert: 1\n",
            "Enter value to convert: 2\n",
            "Enter value to convert: 3\n",
            "Enter value to convert: 4\n",
            "Enter value to convert: 5\n",
            "Enter value to convert: 6\n",
            "Enter value to convert: 7\n",
            "Enter value to convert: 8\n",
            "Enter value to convert: 9\n",
            "Enter value to convert: 10\n"
          ]
        }
      ]
    },
    {
      "cell_type": "code",
      "metadata": {
        "id": "g5K3PSwuD2sb",
        "colab": {
          "base_uri": "https://localhost:8080/"
        },
        "outputId": "5d889b7a-8c71-4cb6-a5c7-a6398a12980b"
      },
      "source": [
        "One = str(\"positive\")\n",
        "Two = \"positive\"\n",
        "print(One == Two)\n",
        "print(One is Two)"
      ],
      "execution_count": null,
      "outputs": [
        {
          "output_type": "stream",
          "name": "stdout",
          "text": [
            "True\n",
            "True\n"
          ]
        }
      ]
    },
    {
      "cell_type": "code",
      "metadata": {
        "id": "a91MUYv2V0nX"
      },
      "source": [
        "def zip_multiplication(list1, list2):\n",
        "    prod_list = []\n",
        "    for i in range(len(list1)):\n",
        "        # multiply each element available at same index \n",
        "        # of both list \n",
        "        # and add product to new list\n",
        "        prod_list.append(list1[i] * list2[i])\n",
        "    print(prod_list)"
      ],
      "execution_count": null,
      "outputs": []
    },
    {
      "cell_type": "code",
      "metadata": {
        "colab": {
          "base_uri": "https://localhost:8080/"
        },
        "id": "3yeqaR_iHP-P",
        "outputId": "5bf49c54-6aef-4c53-cf1a-17ec15dd600f"
      },
      "source": [
        "zip_multiplication([1, 2, 3], [7, 4, 2])"
      ],
      "execution_count": null,
      "outputs": [
        {
          "output_type": "stream",
          "name": "stdout",
          "text": [
            "[7, 8, 6]\n"
          ]
        }
      ]
    },
    {
      "cell_type": "code",
      "metadata": {
        "colab": {
          "base_uri": "https://localhost:8080/"
        },
        "id": "nZs38tzcHVpf",
        "outputId": "f2ec5dfc-9a66-4dc9-ca47-bc3802bfa549"
      },
      "source": [
        "zip_multiplication([1, 0, -1, 3], [4, -8, 20, 7])"
      ],
      "execution_count": null,
      "outputs": [
        {
          "output_type": "stream",
          "name": "stdout",
          "text": [
            "[4, 0, -20, 21]\n"
          ]
        }
      ]
    },
    {
      "cell_type": "code",
      "metadata": {
        "id": "Wy2A0z1RH0gE",
        "colab": {
          "base_uri": "https://localhost:8080/"
        },
        "outputId": "8f234654-7590-43c7-c5e6-42531781b48d"
      },
      "source": [
        "text = input(\"Enter a line of text: \")\n",
        "print(\"I have rephrased that line to read:\")\n",
        "new_text = text.replace(\"hate\", \"love\", 1)\n",
        "print(new_text)"
      ],
      "execution_count": null,
      "outputs": [
        {
          "output_type": "stream",
          "name": "stdout",
          "text": [
            "Enter a line of text: I hate you.\n",
            "I have rephrased that line to read:\n",
            "I love you.\n"
          ]
        }
      ]
    },
    {
      "cell_type": "code",
      "metadata": {
        "id": "Y9RQB7oRQMgm"
      },
      "source": [
        "my_friends = [{'name': 'bimmy', 'height': 60}, {'name': 'Ian Donald Calvin Euclid Zappa', 'height': 175}]"
      ],
      "execution_count": null,
      "outputs": []
    },
    {
      "cell_type": "code",
      "metadata": {
        "colab": {
          "base_uri": "https://localhost:8080/"
        },
        "id": "aoNrldEYwBeW",
        "outputId": "50f88c8a-465b-4344-daa7-f058b7aa1f1d"
      },
      "source": [
        "my_friends"
      ],
      "execution_count": null,
      "outputs": [
        {
          "output_type": "execute_result",
          "data": {
            "text/plain": [
              "[{'height': 60, 'name': 'bimmy'},\n",
              " {'height': 175, 'name': 'Ian Donald Calvin Euclid Zappa'}]"
            ]
          },
          "metadata": {},
          "execution_count": 2
        }
      ]
    },
    {
      "cell_type": "code",
      "metadata": {
        "colab": {
          "base_uri": "https://localhost:8080/"
        },
        "id": "sK7ZX-6NwLwk",
        "outputId": "dc62d74b-a009-4229-e813-f63ac0ae15a7"
      },
      "source": [
        "def sort_friends_by_name_length(my_friends):\n",
        "  new_list = []\n",
        "  names = []\n",
        "  height = []\n",
        "  name_length = []\n",
        "  new_name = []\n",
        "\n",
        "  for i in my_friends:\n",
        "    data = list(i.values())\n",
        "    names.append(data[0])\n",
        "    height.append(data[1])\n",
        "    name_length.append(len(data[0]))\n",
        "    new_name.append(len(data[0]))\n",
        "\n",
        "  \n",
        "  new_name.sort(reverse=True)\n",
        "\n",
        "  for i in range(len(new_name)):\n",
        "    j = name_length.index(new_name[i])\n",
        "    dic = {}\n",
        "    dic['height'] = height[j]\n",
        "    dic['name'] = names[j]\n",
        "    new_list.append(dic)\n",
        "  print(new_list)\n",
        "sort_friends_by_name_length(my_friends)"
      ],
      "execution_count": null,
      "outputs": [
        {
          "output_type": "stream",
          "name": "stdout",
          "text": [
            "[{'height': 175, 'name': 'Ian Donald Calvin Euclid Zappa'}, {'height': 60, 'name': 'bimmy'}]\n"
          ]
        }
      ]
    },
    {
      "cell_type": "code",
      "metadata": {
        "colab": {
          "base_uri": "https://localhost:8080/"
        },
        "id": "RxwTQCKBwgQ4",
        "outputId": "3138b7ea-8680-4c8b-863d-b4428c951e03"
      },
      "source": [
        "my_friends"
      ],
      "execution_count": null,
      "outputs": [
        {
          "output_type": "execute_result",
          "data": {
            "text/plain": [
              "[{'height': 60, 'name': 'bimmy'},\n",
              " {'height': 175, 'name': 'Ian Donald Calvin Euclid Zappa'}]"
            ]
          },
          "metadata": {},
          "execution_count": 31
        }
      ]
    },
    {
      "cell_type": "code",
      "metadata": {
        "id": "DDw0lMRp05sn",
        "colab": {
          "base_uri": "https://localhost:8080/"
        },
        "outputId": "c67b93b8-20b1-4585-8a32-56044b0702c7"
      },
      "source": [
        "x = int(input(\"Please enter the first number: \"))\n",
        "y = int(input(\"Please enter the second number: \"))\n",
        "sum = x + y\n",
        "print(f\"The answer is {sum}!\")\n",
        "while True:\n",
        "  answer = input(\"Do you want to try additional problems? \")\n",
        "  if (answer == \"no\" or answer == \"No\"):\n",
        "    print(\"Thanks for playing!\")\n",
        "    break\n",
        "  else:\n",
        "    x = int(input(\"Please enter the first number: \"))\n",
        "    y = int(input(\"Please enter the second number: \"))\n",
        "    sum = x + y\n",
        "    print(f\"The answer is {sum}!\")"
      ],
      "execution_count": null,
      "outputs": [
        {
          "output_type": "stream",
          "name": "stdout",
          "text": [
            "Please enter the first number: 5\n",
            "Please enter the second number: 8\n",
            "The answer is 13!\n",
            "Do you want to try additional problems? yes\n",
            "Please enter the first number: 10\n",
            "Please enter the second number: 20\n",
            "The answer is 30!\n",
            "Do you want to try additional problems? no\n",
            "Thanks for playing!\n"
          ]
        }
      ]
    },
    {
      "cell_type": "code",
      "metadata": {
        "colab": {
          "base_uri": "https://localhost:8080/"
        },
        "id": "ONL_GpWPwKpJ",
        "outputId": "3ca54af2-a17f-4af4-b026-74054960548c"
      },
      "source": [
        "answer = input(\"Perform operation Y for Yes and press any key for No: \")\n",
        "while (answer == \"Y\"):\n",
        "  operation = input(\"What's the operation? =, +, -, *, /: \")\n",
        "  num1 = input(\"What's the first number? \")\n",
        "  num2 = input(\"What's the second number? \")\n",
        "  if operation == \"+\":\n",
        "    print(f\"{num1} + {num2} = {int(num1)+int(num2)}\")\n",
        "  elif operation == \"-\":\n",
        "    print(f\"{num1} - {num2} = {int(num1)-int(num2)}\")\n",
        "  elif operation == \"*\" or operation == \"X\" or operation == \"x\":\n",
        "    print(f\"{num1} * {num2} = {int(num1)*int(num2)}\")\n",
        "  elif operation == \"/\":\n",
        "    print(f\"{num1} / {num2} = {int(num1)/int(num2)}\")  \n",
        "  answer = input(\"Perform operation Y for Yes and press any key for No: \")"
      ],
      "execution_count": null,
      "outputs": [
        {
          "name": "stdout",
          "output_type": "stream",
          "text": [
            "Perform operation Y for Yes and press any key for No: Y\n",
            "What's the operation? =, +, -, *, /: +\n",
            "What's the first number? 10\n",
            "What's the second number? 20\n",
            "10 + 20 = 30\n",
            "Perform operation Y for Yes and press any key for No: Y\n",
            "What's the operation? =, +, -, *, /: *\n",
            "What's the first number? 5\n",
            "What's the second number? 8\n",
            "5 * 8 = 40\n",
            "Perform operation Y for Yes and press any key for No: N\n"
          ]
        }
      ]
    },
    {
      "cell_type": "code",
      "metadata": {
        "colab": {
          "base_uri": "https://localhost:8080/"
        },
        "id": "0WALpOZ8x_zB",
        "outputId": "79012df0-d014-4f0d-afa3-77f8d7d9bffd"
      },
      "source": [
        "def method1(x, y):\n",
        "    print(\"Value of x before swap:\", x)\n",
        "    print(\"Value of y before swap:\", y)\n",
        "\n",
        "    x, y = y, x\n",
        "    \n",
        "    print(\"Value of x after swap:\", x)\n",
        "    print(\"Value of y after swap:\", y)\n",
        "    print(\"\\n\")\n",
        "    \n",
        "method1(10, 100)\n",
        "method1(-2, 200)\n",
        "method1(\"a\", \"d\")"
      ],
      "execution_count": null,
      "outputs": [
        {
          "output_type": "stream",
          "name": "stdout",
          "text": [
            "Value of x before swap: 10\n",
            "Value of y before swap: 100\n",
            "Value of x after swap: 100\n",
            "Value of y after swap: 10\n",
            "\n",
            "\n",
            "Value of x before swap: -2\n",
            "Value of y before swap: 200\n",
            "Value of x after swap: 200\n",
            "Value of y after swap: -2\n",
            "\n",
            "\n",
            "Value of x before swap: a\n",
            "Value of y before swap: d\n",
            "Value of x after swap: d\n",
            "Value of y after swap: a\n",
            "\n",
            "\n"
          ]
        }
      ]
    },
    {
      "cell_type": "code",
      "metadata": {
        "id": "WG4nfBPmyBf5"
      },
      "source": [
        "from collections import Counter\n",
        "list1 = ['x','y','z','x','x','x','y','z']\n",
        "list2 = Counter(list1)"
      ],
      "execution_count": null,
      "outputs": []
    },
    {
      "cell_type": "code",
      "metadata": {
        "colab": {
          "base_uri": "https://localhost:8080/"
        },
        "id": "bDpZyx_k0T5T",
        "outputId": "63afdd49-b0b2-4579-c51c-facd1671c21a"
      },
      "source": [
        "d = {'h':1,'k':2}\n",
        "for i in d:\n",
        "  print(d[i])"
      ],
      "execution_count": null,
      "outputs": [
        {
          "output_type": "stream",
          "name": "stdout",
          "text": [
            "1\n",
            "2\n"
          ]
        }
      ]
    },
    {
      "cell_type": "code",
      "metadata": {
        "colab": {
          "base_uri": "https://localhost:8080/"
        },
        "id": "-CGX9g4f0WNX",
        "outputId": "b098ea41-daa7-42a5-9b35-30bd5939f16c"
      },
      "source": [
        "a = [1,1,2,2,3,3]\n",
        "b = set(a)\n",
        "print(b, a)\n",
        "# sorted(a)"
      ],
      "execution_count": null,
      "outputs": [
        {
          "output_type": "stream",
          "name": "stdout",
          "text": [
            "{1, 2, 3} [1, 1, 2, 2, 3, 3]\n"
          ]
        }
      ]
    },
    {
      "cell_type": "code",
      "metadata": {
        "id": "sWH6b0Z41ui1",
        "colab": {
          "base_uri": "https://localhost:8080/"
        },
        "outputId": "a789c78d-69ad-4102-bfb0-51bc2ca0d5e8"
      },
      "source": [
        "def factorial(num):\n",
        "  # using while loop\n",
        "  # initialise fact as 1\n",
        "  fact = 1\n",
        "  # loop until num is greater than 0\n",
        "  # and assign num to i\n",
        "  i = num\n",
        "  while i > 0:\n",
        "    # multiply fact with i \n",
        "    # and assign it to fact\n",
        "    fact *= i\n",
        "    # decrement i by 1 on each iteration\n",
        "    i-=1\n",
        "  # print factorial of 7\n",
        "  # print(f\"Factorial of {num} using while loop is : {fact}\")\n",
        "  return fact\n",
        "\n",
        "x = 10\n",
        "result = factorial(x) / factorial(x)\n",
        "print(result)"
      ],
      "execution_count": null,
      "outputs": [
        {
          "output_type": "stream",
          "name": "stdout",
          "text": [
            "1.0\n"
          ]
        }
      ]
    },
    {
      "cell_type": "code",
      "metadata": {
        "id": "02J_PS52WKAW",
        "colab": {
          "base_uri": "https://localhost:8080/"
        },
        "outputId": "311d9226-bcda-4953-8cc0-646aa67d6485"
      },
      "source": [
        "ukr = 83\n",
        "egg = 31\n",
        "shm = 13\n",
        "qux = 2\n",
        "aap = 63\n",
        "xyz = 27\n",
        "ham = 28\n",
        "\n",
        "print(\"ukr\",ukr)\n",
        "print(\"egg\",egg)\n",
        "print(\"shm\",shm)\n",
        "print(\"qux\",qux)\n",
        "print(\"aap\",aap)\n",
        "print(\"xyz\",xyz)\n",
        "print(\"ham\",ham)\n",
        "\n",
        "def gzk(y):\n",
        "  y += shm\n",
        "  return y\n",
        "\n",
        "def foo(i):\n",
        "  global aap\n",
        "  aap += i\n",
        "\n",
        "def bar():\n",
        "  global shm\n",
        "  shm += egg\n",
        "\n",
        "ham = gzk(ham)\n",
        "foo(37)\n",
        "bar()\n",
        "\n",
        "print(\"=========\")\n",
        "print(\"ukr\",ukr)\n",
        "print(\"egg\",egg)\n",
        "print(\"shm\",shm)\n",
        "print(\"qux\",qux)\n",
        "print(\"aap\",aap)\n",
        "print(\"xyz\",xyz)\n",
        "print(\"ham\",ham)\n",
        "\n"
      ],
      "execution_count": null,
      "outputs": [
        {
          "output_type": "stream",
          "name": "stdout",
          "text": [
            "ukr 83\n",
            "egg 31\n",
            "shm 13\n",
            "qux 2\n",
            "aap 63\n",
            "xyz 27\n",
            "ham 28\n",
            "=========\n",
            "ukr 83\n",
            "egg 31\n",
            "shm 44\n",
            "qux 2\n",
            "aap 100\n",
            "xyz 27\n",
            "ham 41\n"
          ]
        }
      ]
    },
    {
      "cell_type": "code",
      "metadata": {
        "colab": {
          "base_uri": "https://localhost:8080/"
        },
        "id": "x_Kd5gMy6yJg",
        "outputId": "fc8277ad-17d5-41e5-d3b1-00dcea1c49e7"
      },
      "source": [
        "ukr = 83\n",
        "egg = 31\n",
        "shm = 13\n",
        "qux = 2\n",
        "aap = 63\n",
        "xyz = 27\n",
        "ham = 28\n",
        "\n",
        "print(\"ukr\",ukr)\n",
        "print(\"egg\",egg)\n",
        "print(\"shm\",shm)\n",
        "print(\"qux\",qux)\n",
        "print(\"aap\",aap)\n",
        "print(\"xyz\",xyz)\n",
        "print(\"ham\",ham)\n",
        "\n",
        "def gzk(y):\n",
        "  y += shm\n",
        "  return y\n",
        "\n",
        "def foo(i, aap):\n",
        "  aap += i\n",
        "  return aap\n",
        "\n",
        "def bar(shm):\n",
        "  shm += egg\n",
        "  return shm\n",
        "\n",
        "ham = gzk(ham)\n",
        "aap = foo(37, aap)\n",
        "shm = bar(shm)\n",
        "\n",
        "print(\"=========\")\n",
        "print(\"ukr\",ukr)\n",
        "print(\"egg\",egg)\n",
        "print(\"shm\",shm)\n",
        "print(\"qux\",qux)\n",
        "print(\"aap\",aap)\n",
        "print(\"xyz\",xyz)\n",
        "print(\"ham\",ham)\n",
        "\n"
      ],
      "execution_count": null,
      "outputs": [
        {
          "output_type": "stream",
          "name": "stdout",
          "text": [
            "ukr 83\n",
            "egg 31\n",
            "shm 13\n",
            "qux 2\n",
            "aap 63\n",
            "xyz 27\n",
            "ham 28\n",
            "=========\n",
            "ukr 83\n",
            "egg 31\n",
            "shm 44\n",
            "qux 2\n",
            "aap 100\n",
            "xyz 27\n",
            "ham 41\n"
          ]
        }
      ]
    },
    {
      "cell_type": "code",
      "metadata": {
        "colab": {
          "base_uri": "https://localhost:8080/"
        },
        "id": "HtmteTQQMK-U",
        "outputId": "bc37c3f3-6cd0-4275-ebb6-d87f7c37bd5a"
      },
      "source": [
        "my_tuple = (\"NoTimeToDie DanielCraige UK\", \"MissionImpossible TomCruise USA\",\n",
        "            \"TopGun TomCruise USA\", \"Troy BradPitt USA\",\n",
        "            \"Skyfall DanielCraige UK\", \"TheTheoryOfEveryting EddieRedmayne UK\",\n",
        "            \"FantasticBeast EddieRedmayne UK\", \"Seven BradPitt USA\")\n",
        "\n",
        "ids = []\n",
        "for i in range(len(my_tuple)):\n",
        "    data = my_tuple[i].split()\n",
        "    actor = data[1]\n",
        "    country = data[2]\n",
        "    id = \"\"\n",
        "    if country == \"UK\":\n",
        "        id += \"1\"\n",
        "    elif country == \"USA\":\n",
        "        id += \"2\"\n",
        "\n",
        "    if actor == \"DanielCraige\":\n",
        "        id += \"01\"\n",
        "    elif actor == \"TomCruise\":\n",
        "        id += \"02\"\n",
        "    elif actor == \"BradPitt\":\n",
        "        id += \"03\"\n",
        "    elif actor == \"EddieRedmayne\":\n",
        "        id += \"04\"\n",
        "    id += str(i)\n",
        "    ids.append(id)\n",
        "\n",
        "dict = {}\n",
        "usa_value = []\n",
        "uk_value = []\n",
        "for i in range(len(my_tuple)):\n",
        "    data = my_tuple[i].split()\n",
        "    movie_name = data[0]\n",
        "    usa_tup = []\n",
        "    uk_tup = []\n",
        "    if \"USA\" in data:\n",
        "        usa_tup.append(movie_name)\n",
        "        usa_tup.append(ids[i])\n",
        "        usa_tup = tuple(usa_tup)\n",
        "        usa_value.append(usa_tup)\n",
        "    if \"UK\" in data:\n",
        "        uk_tup.append(movie_name)\n",
        "        uk_tup.append(ids[i])\n",
        "        uk_tup = tuple(uk_tup)\n",
        "        uk_value.append(uk_tup)\n",
        "dict[\"USA\"] = usa_value\n",
        "dict[\"UK\"] = uk_value\n",
        "print(dict)\n"
      ],
      "execution_count": null,
      "outputs": [
        {
          "output_type": "stream",
          "name": "stdout",
          "text": [
            "{'USA': [('MissionImpossible', '2021'), ('TopGun', '2022'), ('Troy', '2033'), ('Seven', '2037')], 'UK': [('NoTimeToDie', '1010'), ('Skyfall', '1014'), ('TheTheoryOfEveryting', '1045'), ('FantasticBeast', '1046')]}\n"
          ]
        }
      ]
    },
    {
      "cell_type": "code",
      "metadata": {
        "colab": {
          "base_uri": "https://localhost:8080/"
        },
        "id": "haHEFb6NM86P",
        "outputId": "daa8170b-1933-4616-d55f-4ec6e4ef6b28"
      },
      "source": [
        "l1 = ()\n",
        "l1+=(\"hello\",)\n",
        "l1"
      ],
      "execution_count": null,
      "outputs": [
        {
          "output_type": "execute_result",
          "data": {
            "text/plain": [
              "('hello',)"
            ]
          },
          "metadata": {},
          "execution_count": 25
        }
      ]
    },
    {
      "cell_type": "code",
      "metadata": {
        "colab": {
          "base_uri": "https://localhost:8080/"
        },
        "id": "ZoocWI_1L0-D",
        "outputId": "265d5071-25b1-4680-fdd5-73c036817e07"
      },
      "source": [
        "# CODE BY COPYASSIGNMENT\n",
        "  \n",
        "# heapify tree rooted at index i\n",
        "\n",
        "def heapify(arr, n, i): \n",
        "    largest = i       # In max-heap largest is at root \n",
        "    l = 2 * i + 1     # left child index = 2*i + 1 \n",
        "    r = 2 * i + 2     # right child index = 2*i + 2 \n",
        "  \n",
        "    # See if left child of root exists and > root \n",
        "    if l < n and arr[i] < arr[l]: \n",
        "        largest = l \n",
        "  \n",
        "    # See if right child of root exists and > root \n",
        "    if r < n and arr[largest] < arr[r]: \n",
        "        largest = r \n",
        "  \n",
        "    # update root if required \n",
        "    if largest != i: \n",
        "        arr[i],arr[largest] = arr[largest],arr[i]  # swap \n",
        "  \n",
        "        # Heapify the root \n",
        "        heapify(arr, n, largest) \n",
        "  \n",
        "  \n",
        "# heap sort definition\n",
        "def heapSort(arr): \n",
        "    n = len(arr) \n",
        "  \n",
        "    for i in range(n // 2 - 1, -1, -1): \n",
        "        heapify(arr, n, i) \n",
        "  \n",
        "    # extracting elements \n",
        "    for i in range(n-1, 0, -1): \n",
        "        arr[i], arr[0] = arr[0], arr[i]   # swap \n",
        "        heapify(arr, i, 0) \n",
        "        display()\n",
        "  \n",
        " \n",
        "arr = [ 70, 66, 45, 35, 14 ] \n",
        "heapSort(arr) \n",
        "n = len(arr) \n",
        "\n",
        "def display():\n",
        "  for i in range(n):\n",
        "    print (\"%d \" %arr[i], end = \" \")\n",
        "  # This code is contributed by Mohit Kumra\n",
        "  print()\n",
        "# display()"
      ],
      "execution_count": null,
      "outputs": [
        {
          "output_type": "stream",
          "name": "stdout",
          "text": [
            "66  35  45  14  70  \n",
            "45  35  14  66  70  \n",
            "35  14  45  66  70  \n",
            "14  35  45  66  70  \n"
          ]
        }
      ]
    },
    {
      "cell_type": "code",
      "metadata": {
        "colab": {
          "base_uri": "https://localhost:8080/"
        },
        "id": "UEf_XDR6L3Lu",
        "outputId": "6dd43c7f-22d5-42ca-8de2-7e5571e58525"
      },
      "source": [
        "arr = [ 83, 53,  51, 32, 18 ] \n",
        "heapSort(arr) \n",
        "n = len(arr) "
      ],
      "execution_count": null,
      "outputs": [
        {
          "output_type": "stream",
          "name": "stdout",
          "text": [
            "53  32  51  18  83  \n",
            "51  32  18  53  83  \n",
            "32  18  51  53  83  \n",
            "18  32  51  53  83  \n"
          ]
        }
      ]
    },
    {
      "cell_type": "code",
      "metadata": {
        "id": "tJVf_PbiNslE",
        "colab": {
          "base_uri": "https://localhost:8080/",
          "height": 373
        },
        "outputId": "ffdf3989-3506-4352-8061-f6e71b8b1483"
      },
      "source": [
        "\n",
        "def count(word):\n",
        "    for letter in word:\n",
        "        # check each letter in vowels string\n",
        "        # if in vowels then print it\n",
        "        if letter in vowels:\n",
        "            vowel += 1\n",
        "        elif letter in consonants:\n",
        "            consonant += 1\n",
        "        letters+=1\n",
        "\n",
        "word = input(\"Enter a word: \")\n",
        "\n",
        "vowels = \"aeiouAEIOU\"\n",
        "consonants = \"bcdfghjklmnpqrstvwxyzBCDFGHJKLMNPQRSTVWXYZ\"\n",
        "\n",
        "vowel = 0\n",
        "consonant = 0\n",
        "letters = 0\n",
        "if word != \"\":\n",
        "    count(word)\n",
        "else:\n",
        "    import random\n",
        "    words = [\"stay\",\"spade\",\"sleepy\",\"plucky\",\"steer\",\"coil\",\"purring\",\"airplane\",\"resolute\",\"cent\"]\n",
        "    word = words[random.randint(0, len(words))]\n",
        "    count(word)\n",
        "\n",
        "print(f\"Word: {word}\")\n",
        "print(f\"Number number of Vowels: {vowel}\")\n",
        "print(f\"Number number of Consonants: {consonant}\")\n",
        "print(f\"Total number of Letters: {letters}\")"
      ],
      "execution_count": null,
      "outputs": [
        {
          "name": "stdout",
          "output_type": "stream",
          "text": [
            "Enter a word: \n"
          ]
        },
        {
          "output_type": "error",
          "ename": "UnboundLocalError",
          "evalue": "ignored",
          "traceback": [
            "\u001b[0;31m---------------------------------------------------------------------------\u001b[0m",
            "\u001b[0;31mUnboundLocalError\u001b[0m                         Traceback (most recent call last)",
            "\u001b[0;32m<ipython-input-7-d0457806c73e>\u001b[0m in \u001b[0;36m<module>\u001b[0;34m()\u001b[0m\n\u001b[1;32m     24\u001b[0m     \u001b[0mwords\u001b[0m \u001b[0;34m=\u001b[0m \u001b[0;34m[\u001b[0m\u001b[0;34m\"stay\"\u001b[0m\u001b[0;34m,\u001b[0m\u001b[0;34m\"spade\"\u001b[0m\u001b[0;34m,\u001b[0m\u001b[0;34m\"sleepy\"\u001b[0m\u001b[0;34m,\u001b[0m\u001b[0;34m\"plucky\"\u001b[0m\u001b[0;34m,\u001b[0m\u001b[0;34m\"steer\"\u001b[0m\u001b[0;34m,\u001b[0m\u001b[0;34m\"coil\"\u001b[0m\u001b[0;34m,\u001b[0m\u001b[0;34m\"purring\"\u001b[0m\u001b[0;34m,\u001b[0m\u001b[0;34m\"airplane\"\u001b[0m\u001b[0;34m,\u001b[0m\u001b[0;34m\"resolute\"\u001b[0m\u001b[0;34m,\u001b[0m\u001b[0;34m\"cent\"\u001b[0m\u001b[0;34m]\u001b[0m\u001b[0;34m\u001b[0m\u001b[0;34m\u001b[0m\u001b[0m\n\u001b[1;32m     25\u001b[0m     \u001b[0mword\u001b[0m \u001b[0;34m=\u001b[0m \u001b[0mwords\u001b[0m\u001b[0;34m[\u001b[0m\u001b[0mrandom\u001b[0m\u001b[0;34m.\u001b[0m\u001b[0mrandint\u001b[0m\u001b[0;34m(\u001b[0m\u001b[0;36m0\u001b[0m\u001b[0;34m,\u001b[0m \u001b[0mlen\u001b[0m\u001b[0;34m(\u001b[0m\u001b[0mwords\u001b[0m\u001b[0;34m)\u001b[0m\u001b[0;34m)\u001b[0m\u001b[0;34m]\u001b[0m\u001b[0;34m\u001b[0m\u001b[0;34m\u001b[0m\u001b[0m\n\u001b[0;32m---> 26\u001b[0;31m     \u001b[0mcount\u001b[0m\u001b[0;34m(\u001b[0m\u001b[0mword\u001b[0m\u001b[0;34m)\u001b[0m\u001b[0;34m\u001b[0m\u001b[0;34m\u001b[0m\u001b[0m\n\u001b[0m\u001b[1;32m     27\u001b[0m \u001b[0;34m\u001b[0m\u001b[0m\n\u001b[1;32m     28\u001b[0m \u001b[0mprint\u001b[0m\u001b[0;34m(\u001b[0m\u001b[0;34mf\"Word: {word}\"\u001b[0m\u001b[0;34m)\u001b[0m\u001b[0;34m\u001b[0m\u001b[0;34m\u001b[0m\u001b[0m\n",
            "\u001b[0;32m<ipython-input-7-d0457806c73e>\u001b[0m in \u001b[0;36mcount\u001b[0;34m(word)\u001b[0m\n\u001b[1;32m      7\u001b[0m             \u001b[0mvowel\u001b[0m \u001b[0;34m+=\u001b[0m \u001b[0;36m1\u001b[0m\u001b[0;34m\u001b[0m\u001b[0;34m\u001b[0m\u001b[0m\n\u001b[1;32m      8\u001b[0m         \u001b[0;32melif\u001b[0m \u001b[0mletter\u001b[0m \u001b[0;32min\u001b[0m \u001b[0mconsonants\u001b[0m\u001b[0;34m:\u001b[0m\u001b[0;34m\u001b[0m\u001b[0;34m\u001b[0m\u001b[0m\n\u001b[0;32m----> 9\u001b[0;31m             \u001b[0mconsonant\u001b[0m \u001b[0;34m+=\u001b[0m \u001b[0;36m1\u001b[0m\u001b[0;34m\u001b[0m\u001b[0;34m\u001b[0m\u001b[0m\n\u001b[0m\u001b[1;32m     10\u001b[0m         \u001b[0mletters\u001b[0m\u001b[0;34m+=\u001b[0m\u001b[0;36m1\u001b[0m\u001b[0;34m\u001b[0m\u001b[0;34m\u001b[0m\u001b[0m\n\u001b[1;32m     11\u001b[0m \u001b[0;34m\u001b[0m\u001b[0m\n",
            "\u001b[0;31mUnboundLocalError\u001b[0m: local variable 'consonant' referenced before assignment"
          ]
        }
      ]
    },
    {
      "cell_type": "code",
      "metadata": {
        "id": "FI6lUUAMUaN5",
        "colab": {
          "base_uri": "https://localhost:8080/"
        },
        "outputId": "cb02aa4f-4554-4759-b1a6-782a973fd688"
      },
      "source": [
        "import re\n",
        "txt = ['pit', 'spot', 'PQR1505', 'slap two','aeiou',\n",
        "       'respite', 'pi', 'PVAMU123GREAT']\n",
        "\n",
        "# regex = r\"^(PVAMU).*(GREAT)$\"\n",
        "# regex = r\"^[aeiou]+$\"\n",
        "regex = r\"^[A-Z]{3}[0-9]{4}\"\n",
        "\n",
        "for word in txt:\n",
        "    x = re.search(regex, word)\n",
        "    if (x):\n",
        "        print(f\"Match    -> {word}\")\n",
        "    else:\n",
        "        print(f\"No Match -> {word}\")"
      ],
      "execution_count": null,
      "outputs": [
        {
          "output_type": "stream",
          "name": "stdout",
          "text": [
            "No Match -> pit\n",
            "No Match -> spot\n",
            "Match    -> PQR1505\n",
            "No Match -> slap two\n",
            "No Match -> aeiou\n",
            "No Match -> respite\n",
            "No Match -> pi\n",
            "No Match -> PVAMU123GREAT\n"
          ]
        }
      ]
    },
    {
      "cell_type": "code",
      "metadata": {
        "id": "cJelmRxYFSO0",
        "colab": {
          "base_uri": "https://localhost:8080/"
        },
        "outputId": "9727faec-2aeb-4c88-8650-89c6398bdc29"
      },
      "source": [
        "k = 2\n",
        "for i in range(5,0,-1):\n",
        "    if i == 5:\n",
        "      for j in range(i):\n",
        "        print(\" \", end = \"\")\n",
        "      print(\"*\")\n",
        "    else:\n",
        "      for j in range(i):\n",
        "        print(\" \", end = \"\")\n",
        "      print(\"*\", end = \"\")\n",
        "\n",
        "      for j in range(k):\n",
        "        print(\" \", end = \"\")\n",
        "      print(\"*\")\n",
        "      k += 2\n",
        "  \n",
        "n = 1\n",
        "for i in range(5,0,-1):\n",
        "  if i != 1:\n",
        "    print(\"\",i, end = \"\")\n",
        "    for j in range(k-2):\n",
        "      print(\" \", end = \"\")\n",
        "    print(i)\n",
        "    for j in range(n):\n",
        "      print(\" \", end = \"\")\n",
        "  else:\n",
        "    for j in range(2):\n",
        "      print(\" \", end = \"\")\n",
        "    print(i)\n",
        "  n+=1\n",
        "  k-=2"
      ],
      "execution_count": null,
      "outputs": [
        {
          "output_type": "stream",
          "name": "stdout",
          "text": [
            "     *\n",
            "    *  *\n",
            "   *    *\n",
            "  *      *\n",
            " *        *\n",
            " 5        5\n",
            "  4      4\n",
            "   3    3\n",
            "    2  2\n",
            "      1\n"
          ]
        }
      ]
    },
    {
      "cell_type": "code",
      "metadata": {
        "colab": {
          "base_uri": "https://localhost:8080/"
        },
        "id": "nqqAol5PMCAr",
        "outputId": "3b4c8db5-5ed5-403f-a496-0b726a8a95d6"
      },
      "source": [
        "for i in range(5):\n",
        "  print(i)"
      ],
      "execution_count": null,
      "outputs": [
        {
          "output_type": "stream",
          "name": "stdout",
          "text": [
            "0\n",
            "1\n",
            "2\n",
            "3\n",
            "4\n"
          ]
        }
      ]
    },
    {
      "cell_type": "code",
      "metadata": {
        "id": "qK6KCQkoS9Yt",
        "colab": {
          "base_uri": "https://localhost:8080/"
        },
        "outputId": "80cf481a-eb66-4d13-dd50-a7d1906797b3"
      },
      "source": [
        "# get user input\n",
        "nums = input().split()\n",
        "# check for maximum numbers\n",
        "if len(nums) > 9:\n",
        "  print(\"Too many inputs\")\n",
        "else:\n",
        "  # get middle of numbers\n",
        "  mid = int(len(nums)/2)\n",
        "  # print middle of numbers entered\n",
        "  print(int(nums[mid]))\n"
      ],
      "execution_count": null,
      "outputs": [
        {
          "output_type": "stream",
          "name": "stdout",
          "text": [
            "2 3 4 8 11\n",
            "4\n"
          ]
        }
      ]
    },
    {
      "cell_type": "code",
      "metadata": {
        "id": "D-9SMGTMHQV5",
        "colab": {
          "base_uri": "https://localhost:8080/"
        },
        "outputId": "cdd54626-1bce-449e-ae7d-3b3e01544969"
      },
      "source": [
        "gm = float(input(\"Enter gram: \"))\n",
        "ounce = gm * 0.032\n",
        "print(f\"{gm} gram = {ounce} ounce\")"
      ],
      "execution_count": null,
      "outputs": [
        {
          "output_type": "stream",
          "name": "stdout",
          "text": [
            "Enter gram: 1\n",
            "1.0 gram = 0.032 ounce\n"
          ]
        }
      ]
    },
    {
      "cell_type": "code",
      "metadata": {
        "id": "OJraW8DuXv0f",
        "colab": {
          "base_uri": "https://localhost:8080/",
          "height": 252
        },
        "outputId": "a8c7ea30-1cf2-47d7-9931-4a4ebf2d8d3f"
      },
      "source": [
        "import re\n",
        "new_string = []\n",
        "string = '12,34,78;32|99%1000:32;10<<end of integers>>hello here;who,arethe:best,IS|TITO|candidate<<end of strings>>-99.99|1.22:9914,09,123,0:77;9,1,0;3.14<<end of floats>>'\n",
        "i = string.split(r'<<end of integers>>|<<end of strings>>|<<end of floats>>', string)\n",
        "print(i)\n",
        "string = string.replace('|',',')\n",
        "new = re.split(r',|;|%|:|] ', string)\n",
        "new"
      ],
      "execution_count": null,
      "outputs": [
        {
          "output_type": "error",
          "ename": "TypeError",
          "evalue": "ignored",
          "traceback": [
            "\u001b[0;31m---------------------------------------------------------------------------\u001b[0m",
            "\u001b[0;31mTypeError\u001b[0m                                 Traceback (most recent call last)",
            "\u001b[0;32m<ipython-input-9-a353c80d28ff>\u001b[0m in \u001b[0;36m<module>\u001b[0;34m()\u001b[0m\n\u001b[1;32m      2\u001b[0m \u001b[0mnew_string\u001b[0m \u001b[0;34m=\u001b[0m \u001b[0;34m[\u001b[0m\u001b[0;34m]\u001b[0m\u001b[0;34m\u001b[0m\u001b[0;34m\u001b[0m\u001b[0m\n\u001b[1;32m      3\u001b[0m \u001b[0mstring\u001b[0m \u001b[0;34m=\u001b[0m \u001b[0;34m'12,34,78;32|99%1000:32;10<<end of integers>>hello here;who,arethe:best,IS|TITO|candidate<<end of strings>>-99.99|1.22:9914,09,123,0:77;9,1,0;3.14<<end of floats>>'\u001b[0m\u001b[0;34m\u001b[0m\u001b[0;34m\u001b[0m\u001b[0m\n\u001b[0;32m----> 4\u001b[0;31m \u001b[0mi\u001b[0m \u001b[0;34m=\u001b[0m \u001b[0mstring\u001b[0m\u001b[0;34m.\u001b[0m\u001b[0msplit\u001b[0m\u001b[0;34m(\u001b[0m\u001b[0;34mr'<<end of integers>>|<<end of strings>>|<<end of floats>>'\u001b[0m\u001b[0;34m,\u001b[0m \u001b[0mstring\u001b[0m\u001b[0;34m)\u001b[0m\u001b[0;34m\u001b[0m\u001b[0;34m\u001b[0m\u001b[0m\n\u001b[0m\u001b[1;32m      5\u001b[0m \u001b[0mprint\u001b[0m\u001b[0;34m(\u001b[0m\u001b[0mi\u001b[0m\u001b[0;34m)\u001b[0m\u001b[0;34m\u001b[0m\u001b[0;34m\u001b[0m\u001b[0m\n\u001b[1;32m      6\u001b[0m \u001b[0mstring\u001b[0m \u001b[0;34m=\u001b[0m \u001b[0mstring\u001b[0m\u001b[0;34m.\u001b[0m\u001b[0mreplace\u001b[0m\u001b[0;34m(\u001b[0m\u001b[0;34m'|'\u001b[0m\u001b[0;34m,\u001b[0m\u001b[0;34m','\u001b[0m\u001b[0;34m)\u001b[0m\u001b[0;34m\u001b[0m\u001b[0;34m\u001b[0m\u001b[0m\n",
            "\u001b[0;31mTypeError\u001b[0m: 'str' object cannot be interpreted as an integer"
          ]
        }
      ]
    },
    {
      "cell_type": "code",
      "metadata": {
        "id": "D7CksNSTldxi"
      },
      "source": [
        "#password checking if it is contain at least (upper and lower case) and (special character) and (number) and the lenght of the password\n",
        "def password_check(passwd):   \n",
        "  spec_sym = ['!', '@', '#', '$' , '%' , '^' , '&' , '*' , '}', '?' , '>' , '<' , '{' , '+' , '-', '.']\n",
        "  check = True\n",
        "    \n",
        "  if len(passwd) < 6:\n",
        "    print('The password must be at least 6 characters!')\n",
        "    check = False\n",
        "    \n",
        "  if len(passwd) > 20:\n",
        "    print('The password must be less than 20 characters!')\n",
        "    check = False\n",
        "    \n",
        "  if not any(char.isdigit() for char in passwd):\n",
        "    print('The password must have at least one numeral')\n",
        "    check = False\n",
        "    \n",
        "  if not any(char.isupper() for char in passwd):\n",
        "    print('The password must have at least one uppercase letter')\n",
        "    check = False\n",
        "    \n",
        "  if not any(char.islower() for char in passwd):\n",
        "    print('The password must have at least one lowercase letter')\n",
        "    check = False\n",
        "    \n",
        "  if not any(char in spec_sym for char in passwd):\n",
        "    print('The password must have at least one of the symbols')\n",
        "    check = False\n",
        "\n",
        "  return check\n",
        "\n",
        "\n",
        "# Dictionary Function // it will read the input password and check the similarity in the wordlist\n",
        "def Dictionary(password, wordlist ):\n",
        "  f = open(wordlist, \"r\")\n",
        "  if password in f.read():\n",
        "    return \"The password is in dictionary word.\"\n",
        "  else:\n",
        "    return 'The password is NOT in dectionary word.'\n",
        "\n",
        "\n",
        "\n",
        "# Main method\n",
        "def main():\n",
        "  passwd = input('Enter Your passsword: ')\n",
        "    \n",
        "  if (password_check(passwd)):\n",
        "    print(\"Password is VALID :)\")\n",
        "  else:\n",
        "    print(\"Invalid Password !!\")\n",
        "\n",
        "  Dic = Dictionary(passwd, \"wordlist.txt\" )\n",
        "  print(Dic)\n",
        "    \n",
        "    \n",
        "if __name__ == '__main__':\n",
        "main()\n"
      ],
      "execution_count": null,
      "outputs": []
    },
    {
      "cell_type": "code",
      "source": [
        "def myFunction(mylst):\n",
        "  mydct = {}\n",
        "\n",
        "  for word in mylst:\n",
        "    sum = 0\n",
        "    for i in range(len(word)):\n",
        "      if i % 2 != 0:\n",
        "        sum += ord(word[i])\n",
        "    mydct[sum] = word\n",
        "\n",
        "  print(mydct)\n",
        "\n",
        "myFunction([\"apple\", \"orange\", \"cherry\", \"kiwi\", \"berries\", \"grapes\"])"
      ],
      "metadata": {
        "colab": {
          "base_uri": "https://localhost:8080/"
        },
        "id": "lnYAZq_KrG_G",
        "outputId": "04c6845a-74fa-4d0f-8f98-10dc80e2ad5e"
      },
      "execution_count": null,
      "outputs": [
        {
          "output_type": "stream",
          "name": "stdout",
          "text": [
            "{220: 'apple', 325: 'orange', 339: 'cherry', 210: 'kiwi', 316: 'berries', 341: 'grapes'}\n"
          ]
        }
      ]
    },
    {
      "cell_type": "code",
      "source": [
        "# alphabets = input()\n",
        "alphabets = \"a b e f i k m n p\"\n",
        "# alphabets = \"a b c d e f g h\"\n",
        "l1 = []\n",
        "\n",
        "start = ord(alphabets[0])\n",
        "end = ord(alphabets[len(alphabets)-1])\n",
        "\n",
        "for i in range(start, end):\n",
        "    if chr(i) not in alphabets:\n",
        "        l1.append(chr(i))\n",
        "\n",
        "if not l1:\n",
        "    print(alphabets.split(\" \"))\n",
        "else:\n",
        "    print(l1)"
      ],
      "metadata": {
        "id": "zUuxfXnyr7rl",
        "colab": {
          "base_uri": "https://localhost:8080/"
        },
        "outputId": "72308962-919c-46e5-80c7-873c02acec3c"
      },
      "execution_count": null,
      "outputs": [
        {
          "output_type": "stream",
          "name": "stdout",
          "text": [
            "['c', 'd', 'g', 'h', 'j', 'l', 'o']\n"
          ]
        }
      ]
    },
    {
      "cell_type": "code",
      "source": [
        "# list_one = [1, 4, 7, 5]\n",
        "# list_two = [6, 1, 3, 9]\n",
        "\n",
        "# list_one = [1, 4, 7, 5 , 8, 2 , 5 ]\n",
        "# list_two = [6, 1, 3, 9]\n",
        "\n",
        "list_one = [6, 1, 3, 9]\n",
        "list_two = [1, 4, 7, 5 , 8, 2 , 5 ]\n",
        "\n",
        "list_two = list_two[::-1]\n",
        "\n",
        "res = []\n",
        "if(len(list_one) == len(list_two)):\n",
        "  for i in range(len(list_one)):\n",
        "    op = list_one[i] * list_two[i]\n",
        "    res.append(op)\n",
        "\n",
        "elif (len(list_one) < len(list_two)):\n",
        "  for i in range(len(list_one)):\n",
        "    op = list_one[i] * list_two[i]\n",
        "    res.append(op)\n",
        "  rem = list_two[i+1:][::-1]\n",
        "  for i in rem:\n",
        "    res.append(i)\n",
        "\n",
        "elif (len(list_one) > len(list_two)):\n",
        "  for i in range(len(list_two)):\n",
        "    op = list_one[i] * list_two[i]\n",
        "    res.append(op)\n",
        "  rem = list_one[i+1:]\n",
        "  for i in rem:\n",
        "    res.append(i)\n",
        "\n",
        "print(res)"
      ],
      "metadata": {
        "colab": {
          "base_uri": "https://localhost:8080/"
        },
        "id": "5vFxHWkcy2NX",
        "outputId": "eb190827-17b9-4721-b580-5fb9aa4b6e27"
      },
      "execution_count": null,
      "outputs": [
        {
          "output_type": "execute_result",
          "data": {
            "text/plain": [
              "[30, 2, 24, 45, 1, 4, 7]"
            ]
          },
          "metadata": {},
          "execution_count": 46
        }
      ]
    },
    {
      "cell_type": "code",
      "source": [
        "def weird_sort(l1):\n",
        "  res = []\n",
        "  while (len(l1) != 0):\n",
        "    res.append(max(l1))\n",
        "    l1.remove(max(l1))\n",
        "    res.append(min(l1))\n",
        "    l1.remove(min(l1))\n",
        "  print(res)\n",
        "\n",
        "weird_sort([9, 3, 5, 7, 16, 20])\n",
        "weird_sort([10,20,30,40,50,60])"
      ],
      "metadata": {
        "colab": {
          "base_uri": "https://localhost:8080/"
        },
        "id": "Au_SpOrg94mn",
        "outputId": "b2d5fe02-c7b9-4717-8558-4e5493b22413"
      },
      "execution_count": null,
      "outputs": [
        {
          "output_type": "stream",
          "name": "stdout",
          "text": [
            "[20, 3, 16, 5, 9, 7]\n",
            "[60, 10, 50, 20, 40, 30]\n"
          ]
        }
      ]
    },
    {
      "cell_type": "code",
      "source": [
        "import matplotlib.pyplot as plt\n",
        "def statistics(l1):\n",
        "  q = []\n",
        "  d1 = {}\n",
        "  qsum = 0\n",
        "  for i in range(1,len(l1)+1):\n",
        "    qsum += l1[i-1]\n",
        "    if (i % 3 == 0):\n",
        "      q.append(qsum)\n",
        "      qsum = 0\n",
        "  d1[\"First quarter\"] = q[0]\n",
        "  d1[\"Second quarter\"] = q[1]\n",
        "  d1[\"Third quarter\"] = q[2]\n",
        "  d1[\"Fourth quarter\"] = q[3]\n",
        "  print(d1)\n",
        "  plt.plot(list(d1.keys()),list(d1.values()))\n",
        "statistics([100, 50, 70, 105, 90, 59, 78, 200, 130, 180, 60, 105])"
      ],
      "metadata": {
        "colab": {
          "base_uri": "https://localhost:8080/",
          "height": 282
        },
        "id": "xCnI3r4a-RUK",
        "outputId": "794e4fd0-d98a-490d-afe7-fa62f172ddaf"
      },
      "execution_count": null,
      "outputs": [
        {
          "output_type": "stream",
          "name": "stdout",
          "text": [
            "{'First quarter': 220, 'Second quarter': 254, 'Third quarter': 408, 'Fourth quarter': 345}\n"
          ]
        },
        {
          "output_type": "display_data",
          "data": {
            "image/png": "[encoded data removed]",
            "text/plain": [
              "<Figure size 432x288 with 1 Axes>"
            ]
          },
          "metadata": {
            "needs_background": "light"
          }
        }
      ]
    },
    {
      "cell_type": "code",
      "source": [
        "def my_sqrt(a):\n",
        "    x = a\n",
        "    while True:\n",
        "        y = (x + a/x) / 2.0\n",
        "        if y == x:\n",
        "          return x\n",
        "        x = y\n",
        "\n",
        "\n",
        "def test_sqrt():\n",
        "    import math\n",
        "    a = 1\n",
        "    while a <= 25:\n",
        "        mysqrt = my_sqrt(a)\n",
        "        mathsqrt = math.sqrt(a)\n",
        "        diff = mathsqrt - mysqrt \n",
        "        print(f\"a = {a} | my_sqrt(a) = {mysqrt} | math.sqrt(a) = {mathsqrt} | diff = {diff}\")\n",
        "        a += 1\n",
        "\n",
        "\n",
        "test_sqrt()"
      ],
      "metadata": {
        "id": "Q0i93Qx2AOfA",
        "colab": {
          "base_uri": "https://localhost:8080/"
        },
        "outputId": "32d319ec-610f-4c8a-d27a-07dee73a0c80"
      },
      "execution_count": 8,
      "outputs": [
        {
          "output_type": "stream",
          "name": "stdout",
          "text": [
            "a = 1 | my_sqrt(a) = 1.0 | math.sqrt(a) = 1.0 | diff = 0.0\n",
            "a = 2 | my_sqrt(a) = 1.414213562373095 | math.sqrt(a) = 1.4142135623730951 | diff = 2.220446049250313e-16\n",
            "a = 3 | my_sqrt(a) = 1.7320508075688772 | math.sqrt(a) = 1.7320508075688772 | diff = 0.0\n",
            "a = 4 | my_sqrt(a) = 2.0 | math.sqrt(a) = 2.0 | diff = 0.0\n",
            "a = 5 | my_sqrt(a) = 2.23606797749979 | math.sqrt(a) = 2.23606797749979 | diff = 0.0\n",
            "a = 6 | my_sqrt(a) = 2.449489742783178 | math.sqrt(a) = 2.449489742783178 | diff = 0.0\n",
            "a = 7 | my_sqrt(a) = 2.6457513110645907 | math.sqrt(a) = 2.6457513110645907 | diff = 0.0\n",
            "a = 8 | my_sqrt(a) = 2.82842712474619 | math.sqrt(a) = 2.8284271247461903 | diff = 4.440892098500626e-16\n",
            "a = 9 | my_sqrt(a) = 3.0 | math.sqrt(a) = 3.0 | diff = 0.0\n",
            "a = 10 | my_sqrt(a) = 3.162277660168379 | math.sqrt(a) = 3.1622776601683795 | diff = 4.440892098500626e-16\n",
            "a = 11 | my_sqrt(a) = 3.3166247903554 | math.sqrt(a) = 3.3166247903554 | diff = 0.0\n",
            "a = 12 | my_sqrt(a) = 3.4641016151377544 | math.sqrt(a) = 3.4641016151377544 | diff = 0.0\n",
            "a = 13 | my_sqrt(a) = 3.6055512754639896 | math.sqrt(a) = 3.605551275463989 | diff = -4.440892098500626e-16\n",
            "a = 14 | my_sqrt(a) = 3.7416573867739413 | math.sqrt(a) = 3.7416573867739413 | diff = 0.0\n",
            "a = 15 | my_sqrt(a) = 3.872983346207417 | math.sqrt(a) = 3.872983346207417 | diff = 0.0\n",
            "a = 16 | my_sqrt(a) = 4.0 | math.sqrt(a) = 4.0 | diff = 0.0\n",
            "a = 17 | my_sqrt(a) = 4.123105625617661 | math.sqrt(a) = 4.123105625617661 | diff = 0.0\n",
            "a = 18 | my_sqrt(a) = 4.242640687119286 | math.sqrt(a) = 4.242640687119285 | diff = -8.881784197001252e-16\n",
            "a = 19 | my_sqrt(a) = 4.358898943540673 | math.sqrt(a) = 4.358898943540674 | diff = 8.881784197001252e-16\n",
            "a = 20 | my_sqrt(a) = 4.47213595499958 | math.sqrt(a) = 4.47213595499958 | diff = 0.0\n",
            "a = 21 | my_sqrt(a) = 4.58257569495584 | math.sqrt(a) = 4.58257569495584 | diff = 0.0\n",
            "a = 22 | my_sqrt(a) = 4.69041575982343 | math.sqrt(a) = 4.69041575982343 | diff = 0.0\n",
            "a = 23 | my_sqrt(a) = 4.795831523312719 | math.sqrt(a) = 4.795831523312719 | diff = 0.0\n",
            "a = 24 | my_sqrt(a) = 4.898979485566356 | math.sqrt(a) = 4.898979485566356 | diff = 0.0\n",
            "a = 25 | my_sqrt(a) = 5.0 | math.sqrt(a) = 5.0 | diff = 0.0\n"
          ]
        }
      ]
    },
    {
      "cell_type": "code",
      "source": [
        ""
      ],
      "metadata": {
        "id": "VybeSWddTLvT"
      },
      "execution_count": null,
      "outputs": []
    }
  ]
}