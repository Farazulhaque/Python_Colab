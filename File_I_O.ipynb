{
  "nbformat": 4,
  "nbformat_minor": 0,
  "metadata": {
    "colab": {
      "name": "File I/O.ipynb",
      "provenance": [],
      "collapsed_sections": [],
      "mount_file_id": "1dzoTXFUg46lZbE-SrYXMnMsQR7eb5b4-",
      "authorship_tag": "ABX9TyNQXXP1DQWFfwFWd43NPUID",
      "include_colab_link": true
    },
    "kernelspec": {
      "name": "python3",
      "display_name": "Python 3"
    },
    "language_info": {
      "name": "python"
    }
  },
  "cells": [
    {
      "cell_type": "markdown",
      "metadata": {
        "id": "view-in-github",
        "colab_type": "text"
      },
      "source": [
        "<a href=\"https://colab.research.google.com/github/Farazulhaque/Python_Colab/blob/main/File_I_O.ipynb\" target=\"_parent\"><img src=\"https://colab.research.google.com/assets/colab-badge.svg\" alt=\"Open In Colab\"/></a>"
      ]
    },
    {
      "cell_type": "code",
      "metadata": {
        "colab": {
          "base_uri": "https://localhost:8080/"
        },
        "id": "uwClR9F-tABW",
        "outputId": "b550eead-9537-4347-cfe3-c8b824ed6064"
      },
      "source": [
        "def main():                                     #6 used main function\n",
        "    # filename = input(\"Enter the name of the file to open for read: \")\n",
        "    filename = \"/content/drive/MyDrive/Colab Notebooks/data.txt\"\n",
        "    print()\n",
        "    try:                                        # Used try except block to except any error\n",
        "        file = open(filename, \"r\")              #1 Read a filename\n",
        "        print(\"The contents of the data file \" +\n",
        "              filename + \" are listed below \", end='\\n\\n')\n",
        "        print(file.read(), end='\\n\\n')          #2 Read the contents of the file using read function\n",
        "        file.close()                            #3 Close the file\n",
        "        print(\"closing \", filename)\n",
        "        print()\n",
        "        print(\"==============================\")\n",
        "        print(\"Reopening \", filename, end='\\n\\n')\n",
        "        num_lines = 1\n",
        "        with open(filename, 'r') as f:          #4 Reopen the file\n",
        "            for line in f:                      #5 Using a loop, count and print the contents of the file\n",
        "                line = line.rstrip('\\n')        # Used rstrip to strips a character from end of the string\n",
        "                print(\"Lines \", str(num_lines), line)\n",
        "                num_lines += 1\n",
        "        num_lines -= 1\n",
        "        print()\n",
        "        print(\"There are \", str(num_lines),\n",
        "              \" lines in file \", filename, end='\\n')\n",
        "    except FileNotFoundError:\n",
        "        print(\"The filename you typed is not available\")\n",
        "\n",
        "\n",
        "if __name__ == \"__main__\":\n",
        "    main()"
      ],
      "execution_count": null,
      "outputs": [
        {
          "output_type": "stream",
          "text": [
            "\n",
            "The contents of the data file /content/drive/MyDrive/Colab Notebooks/data.txt are listed below \n",
            "\n",
            "This is a data file\n",
            "\n",
            "When you process your data file remember to strip the end of the line character.\n",
            "rstrip method is a string method that strips a character from end of the string\n",
            "\n",
            "\n",
            "line1 = line1.rstrip('\\n')\n",
            "\n",
            "To handle any potential error use try/except/else\n",
            "\n",
            "closing  /content/drive/MyDrive/Colab Notebooks/data.txt\n",
            "\n",
            "==============================\n",
            "Reopening  /content/drive/MyDrive/Colab Notebooks/data.txt\n",
            "\n",
            "Lines  1 This is a data file\n",
            "Lines  2 \n",
            "Lines  3 When you process your data file remember to strip the end of the line character.\n",
            "Lines  4 rstrip method is a string method that strips a character from end of the string\n",
            "Lines  5 \n",
            "Lines  6 \n",
            "Lines  7 line1 = line1.rstrip('\\n')\n",
            "Lines  8 \n",
            "Lines  9 To handle any potential error use try/except/else\n",
            "\n",
            "There are  9  lines in file  /content/drive/MyDrive/Colab Notebooks/data.txt\n"
          ],
          "name": "stdout"
        }
      ]
    },
    {
      "cell_type": "code",
      "metadata": {
        "colab": {
          "base_uri": "https://localhost:8080/"
        },
        "id": "CaMzr6SmtBAd",
        "outputId": "855b5522-f556-4632-809f-8f3b831c8a03"
      },
      "source": [
        "import sys\n",
        "# filename = input(\"Enter name of the file that contain numbers: \")\n",
        "filename = \"/content/drive/MyDrive/Colab Notebooks/number.txt\"\n",
        "sum = 0\n",
        "try:\n",
        "    with open(filename) as input_data:\n",
        "        # Using accumulator pattern to get the number stored in each line\n",
        "        for each_line in input_data:\n",
        "            try:\n",
        "                number = float(each_line.strip())\n",
        "                print(number)\n",
        "                sum += number\n",
        "\n",
        "            # the except block will escept the line which in which there is no number\n",
        "            # i.e if it contain string , the it is excepted\n",
        "            except ValueError as e:\n",
        "                print('Warning: Unable to parse %s: %s' % (each_line, e))\n",
        "\n",
        "        # it will print the total of the numbers\n",
        "        print(\"The total of the numbers in {} is {}\".format(filename, sum))\n",
        "\n",
        "# this except block will except if something is wrong with filename e.g file not available\n",
        "except EnvironmentError as err_open:\n",
        "    print('Error accessing file %s: %s' % (filename, err_open))"
      ],
      "execution_count": null,
      "outputs": [
        {
          "output_type": "stream",
          "text": [
            "16.0\n",
            "15.0\n",
            "14.0\n",
            "20.0\n",
            "19.0\n",
            "16.0\n",
            "16.0\n",
            "15.0\n",
            "17.0\n",
            "18.0\n",
            "The total of the numbers in /content/drive/MyDrive/Colab Notebooks/number.txt is 166.0\n"
          ],
          "name": "stdout"
        }
      ]
    },
    {
      "cell_type": "code",
      "metadata": {
        "id": "Q-EwRmhAx3fW",
        "colab": {
          "base_uri": "https://localhost:8080/"
        },
        "outputId": "33668c61-7448-4beb-91ff-35e24f514323"
      },
      "source": [
        "import random\n",
        "\n",
        "places = []\n",
        "key = []\n",
        "value = []\n",
        "\n",
        "# filename = input(\"What is the name of the question file? \")\n",
        "filename = \"/content/drive/MyDrive/Colab Notebooks/capitals.txt\"\n",
        "with open(filename, 'r') as filehandle:\n",
        "    for line in filehandle:\n",
        "        places.append(line.strip('\\n'))\n",
        "\n",
        "for i in range(len(places)):\n",
        "    items = places[i].split(\",\")\n",
        "    key.append(items[0])\n",
        "    value.append(items[1])\n",
        "\n",
        "count = 0\n",
        "for i in range(3):\n",
        "    question = random.choice(key)\n",
        "    que = input(question).capitalize()\n",
        "    ind = key.index(question)\n",
        "    if value[ind] == que:\n",
        "        print(\"Correct!\")\n",
        "        count += 1\n",
        "    else:\n",
        "        print(\"Incorrect! The answer is \", value[ind])\n",
        "\n",
        "print(\"You got \" + str(count) +\n",
        "      \" answers correct out of 3, which is \" + str(count*100/3) + \"%\")"
      ],
      "execution_count": null,
      "outputs": [
        {
          "output_type": "stream",
          "text": [
            "What country has Tokyo as a capital?japan\n",
            "Correct!\n",
            "What is the capital of Assyria?dont know\n",
            "Incorrect!  The answer is  Nineveh\n",
            "What country has Tokyo as a capital?japan\n",
            "Correct!\n",
            "You got 2 answers correct out of 3, which is 66.66666666666667%\n"
          ],
          "name": "stdout"
        }
      ]
    },
    {
      "cell_type": "code",
      "metadata": {
        "id": "vy3eDKZQjqYW",
        "colab": {
          "base_uri": "https://localhost:8080/"
        },
        "outputId": "5d7eba2e-90bb-4970-c85a-c38a0606ec02"
      },
      "source": [
        "inputFileName = \"/content/drive/MyDrive/Colab Notebooks/encrypt.txt\"\n",
        "outputFileName = input(\"Enter the output file name: \")\n",
        "distance = int(input(\"Enter the distance value: \"))\n",
        "\n",
        "infile = open(inputFileName, \"r\")\n",
        "outfile = open(outputFileName, \"w\")\n",
        "\n",
        "data = infile.readlines()\n",
        "for code in data:\n",
        "    plainText = \"\"\n",
        "    for ch in code:\n",
        "        ordValue = ord(ch)\n",
        "        if (ordValue >= 65 and ordValue <= 122):\n",
        "            cipherValue = ordValue + distance\n",
        "            if cipherValue < 0:\n",
        "                cipherValue = 127 - (distance - (1 - ordValue))\n",
        "            plainText += chr(cipherValue)\n",
        "        else:\n",
        "            plainText += ch\n",
        "outfile.write(plainText)\n",
        "outfile.write(\"\\n\")\n",
        "\n",
        "infile.close()\n",
        "outfile.close()"
      ],
      "execution_count": null,
      "outputs": [
        {
          "output_type": "stream",
          "text": [
            "Enter the output file name: decrypt.txt\n",
            "Enter the distance value: 2\n"
          ],
          "name": "stdout"
        }
      ]
    },
    {
      "cell_type": "code",
      "metadata": {
        "id": "IQ1f1dhqT-ki",
        "colab": {
          "base_uri": "https://localhost:8080/"
        },
        "outputId": "43d9e4c0-3c7e-4826-9533-dc159f514d01"
      },
      "source": [
        "import sys\n",
        "import math\n",
        "filename = \"/content/drive/MyDrive/Colab Notebooks/cents.txt\"\n",
        "sum = 0\n",
        "try:\n",
        "    with open(filename) as input_data:\n",
        "        # Using accumulator pattern to get the number stored in each line\n",
        "        for each_line in input_data:\n",
        "            try:\n",
        "                cents = float(each_line.strip())\n",
        "                dollars = 0\n",
        "                quarters = 0\n",
        "                dimes = 0\n",
        "                nickels = 0\n",
        "                pennies = 0\n",
        "                print(cents, \"cents =\", end = \" \")\n",
        "                dollars = int(cents/100)\n",
        "                cents = cents - (dollars*100)\n",
        "\n",
        "                quarters = math.trunc(cents/25)\n",
        "                cents = cents - (quarters*25) \n",
        "                dimes = math.trunc(cents/10)\n",
        "                cents = cents - (dimes*10) \n",
        "                nickels = math.trunc(cents/5)\n",
        "                cents = cents - (nickels*5) \n",
        "                pennies = cents\n",
        "                print (\"{}Dollars {}Quarters {}Dimes {}Nickels {}Pennies\".format(dollars,quarters,dimes,nickels,pennies))\n",
        "                \n",
        "            # the except block will escept the line which in which there is no number\n",
        "            # i.e if it contain string , the it is excepted\n",
        "            except ValueError as e:\n",
        "                print('Warning: Unable to parse %s: %s' % (each_line, e))\n",
        "\n",
        "\n",
        "# this except block will except if something is wrong with filename e.g file not available\n",
        "except EnvironmentError as err_open:\n",
        "    print('Error accessing file %s: %s' % (filename, err_open))"
      ],
      "execution_count": null,
      "outputs": [
        {
          "output_type": "stream",
          "text": [
            "161.0 cents = 1Dollars 2Quarters 1Dimes 0Nickels 1.0Pennies\n",
            "139.0 cents = 1Dollars 1Quarters 1Dimes 0Nickels 4.0Pennies\n",
            "44.0 cents = 0Dollars 1Quarters 1Dimes 1Nickels 4.0Pennies\n",
            "20.0 cents = 0Dollars 0Quarters 2Dimes 0Nickels 0.0Pennies\n",
            "135.0 cents = 1Dollars 1Quarters 1Dimes 0Nickels 0.0Pennies\n",
            "124.0 cents = 1Dollars 0Quarters 2Dimes 0Nickels 4.0Pennies\n",
            "166.0 cents = 1Dollars 2Quarters 1Dimes 1Nickels 1.0Pennies\n",
            "155.0 cents = 1Dollars 2Quarters 0Dimes 1Nickels 0.0Pennies\n",
            "135.0 cents = 1Dollars 1Quarters 1Dimes 0Nickels 0.0Pennies\n",
            "31.0 cents = 0Dollars 1Quarters 0Dimes 1Nickels 1.0Pennies\n"
          ],
          "name": "stdout"
        }
      ]
    },
    {
      "cell_type": "code",
      "metadata": {
        "id": "gY4ZqRsKh9sH",
        "colab": {
          "base_uri": "https://localhost:8080/"
        },
        "outputId": "4ad726af-6c22-48c9-c110-94c7f0c28ba0"
      },
      "source": [
        "import csv\n",
        "freq = {}\n",
        "filename = \"/content/drive/MyDrive/Colab Notebooks/Paragraph.txt\"\n",
        "with open(filename, 'r') as csvfile:\n",
        "    csvreader = csv.reader(csvfile)\n",
        "    line = next(csvreader)\n",
        "    for word in line:\n",
        "        if word in freq:\n",
        "            freq[word] += 1\n",
        "        else:\n",
        "            freq[word] = 1\n",
        "for i in freq:\n",
        "    print(i, freq[i])"
      ],
      "execution_count": 6,
      "outputs": [
        {
          "output_type": "stream",
          "text": [
            "One 1\n",
            "day 1\n",
            "an 1\n",
            "old 1\n",
            "man 1\n",
            "was 1\n",
            "having 1\n",
            "a 3\n",
            "stroll 1\n",
            "in 2\n",
            "the 1\n",
            "forest 1\n",
            "when 1\n",
            "he 1\n",
            "suddenly 1\n",
            "saw 1\n",
            "little 1\n",
            "cat 1\n",
            "stuck 1\n",
            "hole 1\n"
          ],
          "name": "stdout"
        }
      ]
    },
    {
      "cell_type": "code",
      "metadata": {
        "id": "K9Tv1uGJtmIu",
        "colab": {
          "base_uri": "https://localhost:8080/"
        },
        "outputId": "e7e05797-1e95-485b-ccf6-54dcc2fe990f"
      },
      "source": [
        "import pandas as pd\n",
        "all_file_list = ['/content/drive/MyDrive/Colab Notebooks/file1.csv', '/content/drive/MyDrive/Colab Notebooks/file2.csv',\n",
        "                 '/content/drive/MyDrive/Colab Notebooks/file3.csv', '/content/drive/MyDrive/Colab Notebooks/file4.csv']\n",
        "for i in all_file_list:\n",
        "    print(\" \" + i)\n",
        "    df = pd.read_csv(i, index_col=\"CustomerId\")\n",
        "    print(df.reset_index().to_string(index=False))\n",
        "    print()"
      ],
      "execution_count": null,
      "outputs": [
        {
          "output_type": "stream",
          "text": [
            " /content/drive/MyDrive/Colab Notebooks/file1.csv\n",
            " CustomerId  SalesOrderId TransactionDate  GrandTotal     Statue\n",
            "          1        123456      06-01-2021         180  fulfilled\n",
            "          2        123457      06-01-2021         181  fulfilled\n",
            "          3        123458      06-01-2021         182   returned\n",
            "          4        123459      06-01-2021         183  fulfilled\n",
            "          5        123460      06-01-2021         184  fulfilled\n",
            "\n",
            " /content/drive/MyDrive/Colab Notebooks/file2.csv\n",
            " CustomerId  SalesOrderId TransactionDate  GrandTotal     Statue\n",
            "          4        223456      07-01-2021         280   returned\n",
            "          5        223457      07-01-2021         281  fulfilled\n",
            "          6        223458      07-01-2021         282  fulfilled\n",
            "          7        223459      07-01-2021         283  fulfilled\n",
            "          8        223460      07-01-2021         284  fulfilled\n",
            "\n",
            " /content/drive/MyDrive/Colab Notebooks/file3.csv\n",
            " CustomerId  SalesOrderId TransactionDate  GrandTotal     Statue\n",
            "          9        323456      08-01-2021         380   returned\n",
            "         10        323457      09-01-2021         381  fulfilled\n",
            "         11        323458      10-01-2021         382  fulfilled\n",
            "         12        323459      11-01-2021         383  fulfilled\n",
            "         13        323460      12-01-2021         384  fulfilled\n",
            "\n",
            " /content/drive/MyDrive/Colab Notebooks/file4.csv\n",
            " CustomerId  SalesOrderId TransactionDate  GrandTotal     Statue\n",
            "         13        423456      09-01-2021         480   returned\n",
            "         14        423457      09-01-2021         481  fulfilled\n",
            "         15        423458      09-01-2021         482  fulfilled\n",
            "         16        423459      09-01-2021         483  fulfilled\n",
            "         17        423460      09-01-2021         484  fulfilled\n",
            "\n"
          ],
          "name": "stdout"
        }
      ]
    }
  ]
}